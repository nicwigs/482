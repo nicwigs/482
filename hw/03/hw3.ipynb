{
 "cells": [
  {
   "cell_type": "markdown",
   "metadata": {},
   "source": [
    "# CSE 482: Big Data Analysis (Spring 2019) Homework 3\n",
    "\n",
    "Due date: Monday, March 18, 2019 (before midnight)\n",
    "\n",
    "Submit your homework using the D2L system. Use the notebook below to write the solution of your homework. Make sure you submit the notebook along with its HTML version."
   ]
  },
  {
   "cell_type": "markdown",
   "metadata": {},
   "source": [
    "**1.** Consider the patient visit records shown in the table below:\n",
    "\n",
    "| Visit ID | Symptoms \n",
    "|:--|:--:\n",
    "| 1 | Fever, Cough, Headache, Diarrhea\n",
    "| 2 | Fever, Headache\n",
    "| 3 | Cough, Headache, Fatigue\n",
    "| 4 | Cough, Diarrhea, Fatigue\n",
    "| 5 | Fever, Headache, Diarrhea\n",
    "| 6 | Fever, Cough, Diarrhea\n",
    "| 7 | Cough, Fatigue\n",
    "| 8 | Fever, Cough, Headache, Fatigue\n",
    "| 9 | Fever, Cough, Headache\n",
    "| 10 | Fever, Cough, Diarrhea, Fatigue\n",
    "\n",
    "**a.** Assuming the minimum support threshold is 40%, list all the frequent 2-itemsets along with their support values. \n",
    "\n",
    "**Solution:** Use the template below to list each frequent 2-itemset and its support values. Replace {A,B} with the actual itemsets and X% with the actual support. Make sure you do not include the non-frequent itemsets."
   ]
  },
  {
   "cell_type": "markdown",
   "metadata": {},
   "source": [
    "| Frequent 2-Itemset | Support \n",
    "|:---------|:-:\n",
    "| { A,B } |  X%\n",
    "| { A,B } |  X%\n",
    "   "
   ]
  },
  {
   "cell_type": "markdown",
   "metadata": {
    "collapsed": true
   },
   "source": [
    "**b.** Assuming the minimum support threshold is 40%, check whether there are any frequent 3-itemsets in the data. \n",
    "\n",
    "**Solution:**"
   ]
  },
  {
   "cell_type": "markdown",
   "metadata": {},
   "source": [
    "| Frequent 3-Itemset | Support \n",
    "|:---------|:-:\n",
    "| { A,B,C } |  X%\n",
    "| { A,B,C } |  X%\n"
   ]
  },
  {
   "cell_type": "markdown",
   "metadata": {},
   "source": [
    "**c.** Find all association rules from the data that satisfy the minimum support of 40% and minimum confidence of 80%.\n",
    "\n",
    "**Solution:**"
   ]
  },
  {
   "cell_type": "markdown",
   "metadata": {},
   "source": [
    "| Association Rule | Support | Confidence \n",
    "|:---------|:--------|:-:\n",
    "| A => B |  X% | Y%\n",
    "| A => B |  X% | Y%\n"
   ]
  },
  {
   "cell_type": "markdown",
   "metadata": {},
   "source": [
    "**2.** Answer each of the following questions about properties of support and confidence measures.\n",
    "\n",
    "   **a.** Suppose you're given the following support values:\n",
    "\n",
    "| Itemset | Support \n",
    "|:---------|:-:\n",
    "| { Bread } |  50%\n",
    "| { Milk } |  30%\n",
    "| { Bread, Milk} | 25%\n",
    "\n",
    "  Which rule has higher confidence, {Bread} => {Milk} or {Milk} => {Bread}?\n",
    "\n",
    "  **b.** Suppose the confidence of the rule {Butter} => {Bread} is 100%. Does it imply that the confidence of the rule {Bread} => {Butter} must also be 100%?\n",
    "\n",
    "  **c.** If the support of the rule {Butter} => {Bread} is 30%, can the confidence of the rule be less than 30%?\n",
    "\n",
    "**Solution:**"
   ]
  },
  {
   "cell_type": "markdown",
   "metadata": {},
   "source": [
    "**a.**\n",
    "\n",
    "\n",
    "\n",
    "**b.**\n",
    "\n",
    "\n",
    "\n",
    "\n",
    "**c.**"
   ]
  },
  {
   "cell_type": "markdown",
   "metadata": {},
   "source": [
    "**3.** In this question, you will k-means clustering to the following set of two-dimensional data points: \n",
    "\n",
    "| x1 | x2 \n",
    "|:---|:-:\n",
    "| 1 |  1\n",
    "| 1 |  2\n",
    "| 2 |  2\n",
    "| 3 |  2\n",
    "| 4 |  1\n",
    "\n",
    "Your goal is to apply kmeans clustering on the data to obtain two clusters, A and B. Assume the initial centroids of the clusters are as follows:\n",
    "\n",
    "|      Centroid          | x1 | x2 \n",
    "|:-----------------------|:---|:----\n",
    "| Centroid for cluster A |  0 | 1\n",
    "| Centroid for cluster B |  4 | 2"
   ]
  },
  {
   "cell_type": "markdown",
   "metadata": {},
   "source": [
    "**a.** Calculate the distance between each data point to the two centroids using the Euclidean distance measure and fill in the following table:\n",
    "\n",
    "**Solution:**\n",
    "\n",
    "| Data point | distance to Centroid A | distance to Centroid B\n",
    "|:-----------|:-----------------------|----------------------------------\n",
    "| (1,1)      |                  | \n",
    "| (1,2)      |                  |\n",
    "| (2,2)      |                  |\n",
    "| (3,2)      |                  |\n",
    "| (4,1)      |                  |\n"
   ]
  },
  {
   "cell_type": "markdown",
   "metadata": {},
   "source": [
    "**b.** Based on the distance values calculated above, assign each data point to its corresponding cluster. Show the cluster assignment in the table below.\n",
    "\n",
    "**Solution:**\n",
    "\n",
    "| Data point | Cluster Assignment (A or B) \n",
    "|:-----------|:---------------------------\n",
    "| (1,1)      |   \n",
    "| (1,2)      |\n",
    "| (2,2)      |\n",
    "| (3,2)      |\n",
    "| (4,1)      |"
   ]
  },
  {
   "cell_type": "markdown",
   "metadata": {},
   "source": [
    "**c.** Based on the cluster assignment given in part (b) above, re-compute the centroids of the two clusters.\n",
    "\n",
    "**Solution:**\n",
    "\n",
    "| Centroids              |  x1 | x2 \n",
    "|:-----------------------|:----|:----\n",
    "| Centroid for cluster A |     | \n",
    "| Centroid for cluster B |     | "
   ]
  },
  {
   "cell_type": "markdown",
   "metadata": {},
   "source": [
    "**d.** Based on the new centroids in part (c), re-compute the distance between each data point to the two centroids using the Euclidean distance measure and fill in the following table:\n",
    "\n",
    "**Solution:**\n",
    "\n",
    "| Data point | distance to Centroid A | distance to Centroid B\n",
    "|:-----------|:-----------------------|----------------------------------\n",
    "| (1,1)      |                  | \n",
    "| (1,2)      |                  |\n",
    "| (2,2)      |                  |\n",
    "| (3,2)      |                  |\n",
    "| (4,1)      |                  |\n"
   ]
  },
  {
   "cell_type": "markdown",
   "metadata": {},
   "source": [
    "**e.** Based on the distance values calculated in part (d) above, assign each data point to its corresponding cluster. Show the cluster assignment in the table below.\n",
    "\n",
    "**Solution:**\n",
    "\n",
    "| Data point | Cluster Assignment (A or B) \n",
    "|:-----------|:---------------------------\n",
    "| (1,1)      |   \n",
    "| (1,2)      |\n",
    "| (2,2)      |\n",
    "| (3,2)      |\n",
    "| (4,1)      |"
   ]
  },
  {
   "cell_type": "markdown",
   "metadata": {},
   "source": [
    "**f.** Compute the sum-of-square errors (SSE) of the k-means clustering solution above.\n",
    "\n",
    "**Solution:**\n",
    "\n",
    "SSE = "
   ]
  },
  {
   "cell_type": "markdown",
   "metadata": {},
   "source": [
    "**4.** Consider the following distance function between 4 data points (A, B, C, and D).\n",
    "\n",
    "| Distances  | A     | B     | C     | D\n",
    "|:-----------|:------|:------|:------|:--\n",
    "| A          | 0     | 5.000 | 3.606 | 4.243\n",
    "| B          | 5.000 | 0     | 7.071 | 6.083   \n",
    "| C          | 3.606 | 7.071 | 0     | 7.810  \n",
    "| D          | 4.243 | 6.083 | 7.810 | 0   \n",
    "\n",
    "Use the distance matrix shown in the table below to perform MIN (single-link) and MAX (complete link) hierarchical clustering. Show your results by drawing a dendrogram. The dendrogram should clearly show the order in which the points are merged and the y-axis show the distance between pairs of clusters being merged at each iteration.\n",
    "\n",
    "**Solution:** Save your image as jpg/png files and attach it below. Make sure you upload the image files as well.\n",
    "\n",
    "Solution for MIN:\n",
    "\n",
    "<img src=\"min.jpg\">\n",
    "\n",
    "Solution for MAX:\n",
    "\n",
    "<img src=\"max.jpg\">"
   ]
  },
  {
   "cell_type": "markdown",
   "metadata": {},
   "source": [
    "---\n",
    "**5.** For this question, you will apply a hierarchical clustering approach to detect outliers in data.  \n",
    "\n",
    "**a.** Download the dataset named stocks.csv from the class website. Use pandas to load the data into a DataFrame object named data. Remove the column named \"Date\" from data. Display the first 5 rows of data.\n",
    "\n",
    "**Solution:**"
   ]
  },
  {
   "cell_type": "code",
   "execution_count": 1,
   "metadata": {},
   "outputs": [
    {
     "data": {
      "text/html": [
       "<div>\n",
       "<style scoped>\n",
       "    .dataframe tbody tr th:only-of-type {\n",
       "        vertical-align: middle;\n",
       "    }\n",
       "\n",
       "    .dataframe tbody tr th {\n",
       "        vertical-align: top;\n",
       "    }\n",
       "\n",
       "    .dataframe thead th {\n",
       "        text-align: right;\n",
       "    }\n",
       "</style>\n",
       "<table border=\"1\" class=\"dataframe\">\n",
       "  <thead>\n",
       "    <tr style=\"text-align: right;\">\n",
       "      <th></th>\n",
       "      <th>IBM</th>\n",
       "      <th>AAPL</th>\n",
       "      <th>GOOG</th>\n",
       "      <th>MSFT</th>\n",
       "      <th>INTC</th>\n",
       "      <th>FB</th>\n",
       "      <th>AMZN</th>\n",
       "      <th>C</th>\n",
       "    </tr>\n",
       "  </thead>\n",
       "  <tbody>\n",
       "    <tr>\n",
       "      <th>0</th>\n",
       "      <td>196.350006</td>\n",
       "      <td>549.029976</td>\n",
       "      <td>723.251230</td>\n",
       "      <td>27.620001</td>\n",
       "      <td>21.379999</td>\n",
       "      <td>28.000000</td>\n",
       "      <td>257.309998</td>\n",
       "      <td>41.250000</td>\n",
       "    </tr>\n",
       "    <tr>\n",
       "      <th>1</th>\n",
       "      <td>195.270004</td>\n",
       "      <td>542.099991</td>\n",
       "      <td>723.671256</td>\n",
       "      <td>27.250000</td>\n",
       "      <td>21.320000</td>\n",
       "      <td>27.770000</td>\n",
       "      <td>258.480011</td>\n",
       "      <td>41.389999</td>\n",
       "    </tr>\n",
       "    <tr>\n",
       "      <th>2</th>\n",
       "      <td>193.990005</td>\n",
       "      <td>526.999992</td>\n",
       "      <td>737.971262</td>\n",
       "      <td>26.740000</td>\n",
       "      <td>21.160000</td>\n",
       "      <td>28.760000</td>\n",
       "      <td>259.149994</td>\n",
       "      <td>42.430000</td>\n",
       "    </tr>\n",
       "    <tr>\n",
       "      <th>3</th>\n",
       "      <td>193.139999</td>\n",
       "      <td>523.900002</td>\n",
       "      <td>734.751286</td>\n",
       "      <td>26.690001</td>\n",
       "      <td>21.250000</td>\n",
       "      <td>29.420000</td>\n",
       "      <td>268.459991</td>\n",
       "      <td>42.470001</td>\n",
       "    </tr>\n",
       "    <tr>\n",
       "      <th>4</th>\n",
       "      <td>192.869995</td>\n",
       "      <td>525.310020</td>\n",
       "      <td>733.301227</td>\n",
       "      <td>26.549999</td>\n",
       "      <td>21.090000</td>\n",
       "      <td>29.059999</td>\n",
       "      <td>266.380005</td>\n",
       "      <td>42.459999</td>\n",
       "    </tr>\n",
       "  </tbody>\n",
       "</table>\n",
       "</div>"
      ],
      "text/plain": [
       "          IBM        AAPL        GOOG       MSFT       INTC         FB  \\\n",
       "0  196.350006  549.029976  723.251230  27.620001  21.379999  28.000000   \n",
       "1  195.270004  542.099991  723.671256  27.250000  21.320000  27.770000   \n",
       "2  193.990005  526.999992  737.971262  26.740000  21.160000  28.760000   \n",
       "3  193.139999  523.900002  734.751286  26.690001  21.250000  29.420000   \n",
       "4  192.869995  525.310020  733.301227  26.549999  21.090000  29.059999   \n",
       "\n",
       "         AMZN          C  \n",
       "0  257.309998  41.250000  \n",
       "1  258.480011  41.389999  \n",
       "2  259.149994  42.430000  \n",
       "3  268.459991  42.470001  \n",
       "4  266.380005  42.459999  "
      ]
     },
     "execution_count": 1,
     "metadata": {},
     "output_type": "execute_result"
    }
   ],
   "source": [
    "import pandas as pd\n",
    "\n",
    "data = ...    # load the csv file\n",
    "data = ...    # remove the Date column\n",
    "\n",
    "data.head()"
   ]
  },
  {
   "cell_type": "markdown",
   "metadata": {},
   "source": [
    "**b.** Compute the correlation between every pair of stocks and display the correlation values.\n",
    "\n",
    "**Solution:**"
   ]
  },
  {
   "cell_type": "code",
   "execution_count": 2,
   "metadata": {},
   "outputs": [
    {
     "data": {
      "text/html": [
       "<div>\n",
       "<style scoped>\n",
       "    .dataframe tbody tr th:only-of-type {\n",
       "        vertical-align: middle;\n",
       "    }\n",
       "\n",
       "    .dataframe tbody tr th {\n",
       "        vertical-align: top;\n",
       "    }\n",
       "\n",
       "    .dataframe thead th {\n",
       "        text-align: right;\n",
       "    }\n",
       "</style>\n",
       "<table border=\"1\" class=\"dataframe\">\n",
       "  <thead>\n",
       "    <tr style=\"text-align: right;\">\n",
       "      <th></th>\n",
       "      <th>IBM</th>\n",
       "      <th>AAPL</th>\n",
       "      <th>GOOG</th>\n",
       "      <th>MSFT</th>\n",
       "      <th>INTC</th>\n",
       "      <th>FB</th>\n",
       "      <th>AMZN</th>\n",
       "      <th>C</th>\n",
       "    </tr>\n",
       "  </thead>\n",
       "  <tbody>\n",
       "    <tr>\n",
       "      <th>IBM</th>\n",
       "      <td>1.000000</td>\n",
       "      <td>0.694522</td>\n",
       "      <td>0.262351</td>\n",
       "      <td>-0.762699</td>\n",
       "      <td>-0.624763</td>\n",
       "      <td>-0.820702</td>\n",
       "      <td>-0.710095</td>\n",
       "      <td>0.004437</td>\n",
       "    </tr>\n",
       "    <tr>\n",
       "      <th>AAPL</th>\n",
       "      <td>0.694522</td>\n",
       "      <td>1.000000</td>\n",
       "      <td>0.611631</td>\n",
       "      <td>-0.767879</td>\n",
       "      <td>-0.845940</td>\n",
       "      <td>-0.761233</td>\n",
       "      <td>-0.569849</td>\n",
       "      <td>-0.138674</td>\n",
       "    </tr>\n",
       "    <tr>\n",
       "      <th>GOOG</th>\n",
       "      <td>0.262351</td>\n",
       "      <td>0.611631</td>\n",
       "      <td>1.000000</td>\n",
       "      <td>-0.298800</td>\n",
       "      <td>-0.533491</td>\n",
       "      <td>-0.270900</td>\n",
       "      <td>0.004895</td>\n",
       "      <td>-0.109873</td>\n",
       "    </tr>\n",
       "    <tr>\n",
       "      <th>MSFT</th>\n",
       "      <td>-0.762699</td>\n",
       "      <td>-0.767879</td>\n",
       "      <td>-0.298800</td>\n",
       "      <td>1.000000</td>\n",
       "      <td>0.871878</td>\n",
       "      <td>0.946790</td>\n",
       "      <td>0.857449</td>\n",
       "      <td>0.148733</td>\n",
       "    </tr>\n",
       "    <tr>\n",
       "      <th>INTC</th>\n",
       "      <td>-0.624763</td>\n",
       "      <td>-0.845940</td>\n",
       "      <td>-0.533491</td>\n",
       "      <td>0.871878</td>\n",
       "      <td>1.000000</td>\n",
       "      <td>0.803406</td>\n",
       "      <td>0.600057</td>\n",
       "      <td>0.278196</td>\n",
       "    </tr>\n",
       "    <tr>\n",
       "      <th>FB</th>\n",
       "      <td>-0.820702</td>\n",
       "      <td>-0.761233</td>\n",
       "      <td>-0.270900</td>\n",
       "      <td>0.946790</td>\n",
       "      <td>0.803406</td>\n",
       "      <td>1.000000</td>\n",
       "      <td>0.899568</td>\n",
       "      <td>0.039110</td>\n",
       "    </tr>\n",
       "    <tr>\n",
       "      <th>AMZN</th>\n",
       "      <td>-0.710095</td>\n",
       "      <td>-0.569849</td>\n",
       "      <td>0.004895</td>\n",
       "      <td>0.857449</td>\n",
       "      <td>0.600057</td>\n",
       "      <td>0.899568</td>\n",
       "      <td>1.000000</td>\n",
       "      <td>-0.025910</td>\n",
       "    </tr>\n",
       "    <tr>\n",
       "      <th>C</th>\n",
       "      <td>0.004437</td>\n",
       "      <td>-0.138674</td>\n",
       "      <td>-0.109873</td>\n",
       "      <td>0.148733</td>\n",
       "      <td>0.278196</td>\n",
       "      <td>0.039110</td>\n",
       "      <td>-0.025910</td>\n",
       "      <td>1.000000</td>\n",
       "    </tr>\n",
       "  </tbody>\n",
       "</table>\n",
       "</div>"
      ],
      "text/plain": [
       "           IBM      AAPL      GOOG      MSFT      INTC        FB      AMZN  \\\n",
       "IBM   1.000000  0.694522  0.262351 -0.762699 -0.624763 -0.820702 -0.710095   \n",
       "AAPL  0.694522  1.000000  0.611631 -0.767879 -0.845940 -0.761233 -0.569849   \n",
       "GOOG  0.262351  0.611631  1.000000 -0.298800 -0.533491 -0.270900  0.004895   \n",
       "MSFT -0.762699 -0.767879 -0.298800  1.000000  0.871878  0.946790  0.857449   \n",
       "INTC -0.624763 -0.845940 -0.533491  0.871878  1.000000  0.803406  0.600057   \n",
       "FB   -0.820702 -0.761233 -0.270900  0.946790  0.803406  1.000000  0.899568   \n",
       "AMZN -0.710095 -0.569849  0.004895  0.857449  0.600057  0.899568  1.000000   \n",
       "C     0.004437 -0.138674 -0.109873  0.148733  0.278196  0.039110 -0.025910   \n",
       "\n",
       "             C  \n",
       "IBM   0.004437  \n",
       "AAPL -0.138674  \n",
       "GOOG -0.109873  \n",
       "MSFT  0.148733  \n",
       "INTC  0.278196  \n",
       "FB    0.039110  \n",
       "AMZN -0.025910  \n",
       "C     1.000000  "
      ]
     },
     "execution_count": 2,
     "metadata": {},
     "output_type": "execute_result"
    }
   ],
   "source": [
    "corr = ...    # compute correlation\n",
    "corr          # display the correlation values"
   ]
  },
  {
   "cell_type": "markdown",
   "metadata": {},
   "source": [
    "**c.** Apply single-link hierarchical clustering with correlation as evaluation metric. Draw the resulting dendrogram. Based on the dendrogram, which stock is an outlier?\n",
    "\n",
    "**Solution:**"
   ]
  },
  {
   "cell_type": "code",
   "execution_count": null,
   "metadata": {},
   "outputs": [],
   "source": [
    "from scipy.cluster import hierarchy\n",
    "\n",
    "Z = hierarchy.linkage( ... , method= ... , metric= ...)\n",
    "dn = hierarchy.dendrogram(Z,labels= ...,orientation='top')"
   ]
  },
  {
   "cell_type": "markdown",
   "metadata": {},
   "source": [
    "**d.** Based on the dendrogram obtained in part (c), which stock is likely to be an outlier? Explain your reason clearly.\n",
    "\n",
    "**Solution:**\n",
    "\n",
    "\n"
   ]
  },
  {
   "cell_type": "markdown",
   "metadata": {},
   "source": [
    "---\n",
    "\n",
    "**6.** Consider the following user ratings data for a streaming music app (where each row is a user and each column is an artist).\n",
    "\n",
    "| User  | Mozart | Beethoven | Ed Sheeran | Taylor Swift\n",
    "| :-- | :-- | :-- | :-- | :--\n",
    "| 1 | 2 | 2 | 4 | 5 \n",
    "| 2 | 1 | 2 | 5 | 4 \n",
    "| 3 | 1 | 1 | 4 | 4 \n",
    "| 4 | 4 | 4 | 2 | 3 \n",
    "| 5 | 5 | 4 | 2 | 1 \n",
    "| 6 | ? | 5 | 1 | 1  \n",
    "\n",
    "Our goal is to predict whether user 6 likes Mozart.\n",
    "\n",
    "**a.** You will use the baseline model to compute the rating of user 6 for Mozart. Assume the weight of the items, $w_i$, are initialized to 0s and the hyperparameters $\\lambda_1$ and $\\lambda_2$, are also zero. Iteratively compute the user weights, $w_u$, and item weights, $w_i$, for 4 iterations. You should also compute the global mean, $\\mu$.\n",
    "\n",
    "**Solution:**"
   ]
  },
  {
   "cell_type": "markdown",
   "metadata": {},
   "source": [
    "The user weights, $w_u$ after 4 iterations are shown below (fill in the table below for the weight of each user):\n",
    "\n",
    "| User | Iteration 1 | Iteration 2 | Iteration 3 | Iteration 4\n",
    "| :-- | :-- | :-- | :-- | :-- \n",
    "| 1 |   |  |   |   \n",
    "| 2 |   |  |   |   \n",
    "| 3 |   |  |   |   \n",
    "| 4 |   |  |   |   \n",
    "| 5 |   |  |   |   \n",
    "| 6 |   |  |   |    \n",
    "\n",
    "The item weights, $w_i$ after 4 iterations are shown below (fill in the table below for the weight of each item):\n",
    "\n",
    "| Item | Iteration 1 | Iteration 2 | Iteration 3 | Iteration 4\n",
    "| :----- | :-- | :-- | :-- | :-- \n",
    "| Mozart       |   |   |   |   \n",
    "| Beethoven    |   |   |   |   \n",
    "| Ed Sheeran   |   |   |   |   \n",
    "| Taylor Swift |   |   |   |   \n",
    "\n",
    "\n",
    "The global mean $\\mu$ is XXXX"
   ]
  },
  {
   "cell_type": "markdown",
   "metadata": {},
   "source": [
    "**b.** Based on the model parameters estimated in part (a), predict user 6's rating for Mozart.\n",
    "\n",
    "**Solution:**"
   ]
  },
  {
   "cell_type": "markdown",
   "metadata": {},
   "source": []
  },
  {
   "cell_type": "markdown",
   "metadata": {},
   "source": [
    "**c.** Calculate a similarity matrix between the artists (ignoring the ratings given by user 6). Use cosine as your similarity measure. \n",
    "\n",
    "**Solution:**"
   ]
  },
  {
   "cell_type": "markdown",
   "metadata": {},
   "source": [
    "| Similarity | Mozart | Beethoven | Ed Sheeran | Taylor Swift\n",
    "| :----- | :-- | :-- | :-- | :-- \n",
    "| Mozart       |   |   |   |   \n",
    "| Beethoven    |   |   |   |   \n",
    "| Ed Sheeran   |   |   |   |   \n",
    "| Taylor Swift |   |   |   |   \n"
   ]
  },
  {
   "cell_type": "markdown",
   "metadata": {},
   "source": [
    "**d.** Predict the rating of user 6 for Mozart using the item-based nearest neighbor approach.\n",
    "\n",
    "**Solution:**"
   ]
  },
  {
   "cell_type": "markdown",
   "metadata": {},
   "source": []
  }
 ],
 "metadata": {
  "kernelspec": {
   "display_name": "Python 3",
   "language": "python",
   "name": "python3"
  },
  "language_info": {
   "codemirror_mode": {
    "name": "ipython",
    "version": 3
   },
   "file_extension": ".py",
   "mimetype": "text/x-python",
   "name": "python",
   "nbconvert_exporter": "python",
   "pygments_lexer": "ipython3",
   "version": "3.6.3"
  }
 },
 "nbformat": 4,
 "nbformat_minor": 2
}