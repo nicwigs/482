{
 "cells": [
  {
   "cell_type": "markdown",
   "metadata": {},
   "source": [
    "# CSE 482: Big Data Analysis (Spring 2019) Homework 1\n",
    "\n",
    "Due date: January 28, 2019 (before midnight)\n",
    "\n",
    "Submit your homework using the D2L system. Use the following Jupyter notebook to write the solution of your homework. Make sure you create an HTML version of the solution and **submit both the notebook and its corresponding HTML file.** For the programming portion of the homework, make sure the notebook also includes the results after executing your code. "
   ]
  },
  {
   "cell_type": "markdown",
   "metadata": {},
   "source": [
    "**1.**  For each attribute given below, classify its type as nominal, ordinal, interval, or ratio.\n",
    "\n",
    "    (a) Number of likes for a Youtube video.\n",
    "    (b) Area code of a territory (e.g., district, county, or city)\n",
    "    (c) Sound intensity, measured in decibel scale (https://www.britannica.com/science/sound-physics/The-decibel-scale).\n",
    "    (d) Day of year, whose value is in the range between 1 and 366.\n",
    "    (e) Hardness of mineral specimens, measured in Mohs' scale (https://geology.com/minerals/mohs-hardness-scale.shtml)\n",
    "    (f) Temperature in Fahrenheit scale.\n",
    "    (g) Heart rate of a patient.\n",
    "    (h) Social security number of a person."
   ]
  },
  {
   "cell_type": "markdown",
   "metadata": {},
   "source": [
    "**Solution:**\n",
    "\n",
    "    (a) Ratio\n",
    "    (b) Nominal\n",
    "    (c) Interval\n",
    "    (d) Interval\n",
    "    (e) Ratio\n",
    "    (f) Ratio\n",
    "    (g) Ratio\n",
    "    (h) Nominal\n",
    "    \n",
    "---"
   ]
  },
  {
   "cell_type": "markdown",
   "metadata": {},
   "source": [
    "**2.** State whether it is valid to apply the following operations to the attributes given below (based on the properties of the attribute values). If not valid, state your reason why the operation should not be performed on the attribute.\n",
    "\n",
    "    (a) Calculating the median household income of the population in a country.\n",
    "    (b) Calculating the Pearson correlation between SAT score and GPA of students who took a course.\n",
    "    (c) Calculating the mode of student status (Freshman, Sophomore, Junior, Senior) of undergraduates who had enrolled in CSE 482. \n",
    "    (d) Calculating the harmonic mean of user ratings for a movie, where each rating goes from 1 to 5."
   ]
  },
  {
   "cell_type": "markdown",
   "metadata": {},
   "source": [
    "**Solution:**\n",
    "\n",
    "    (a) Valid\n",
    "    (b) Not valid - GPA is ordinal because it is mapped from a score, Pearsons correlation requires the attributes to be interval. \n",
    "    (c) Valid\n",
    "    (d)  Not valid - someones rating of 3 can be different from someone else. The difference between Joe's 3 and Matt's 2 isn't necessarily the same as the difference between Joe's 3 and Jill's 4. "
   ]
  },
  {
   "cell_type": "markdown",
   "metadata": {},
   "source": [
    "**3.**  Write a python program that performs each of the following steps below:\n",
    "\n",
    "    (a) Use the Twitter streaming API to collect all the tweets that contain the keyword *happy*. Set the timer for collecting the tweets to 5 minutes (300 secs). Save the tweets in a file named data.json.\n",
    "\n",
    "**Code:**"
   ]
  },
  {
   "cell_type": "code",
   "execution_count": 1,
   "metadata": {},
   "outputs": [],
   "source": [
    "import time\n",
    "from tweepy.streaming import StreamListener\n",
    "from tweepy import OAuthHandler\n",
    "from tweepy import Stream\n",
    "import config\n",
    "\n",
    "C_KEY = config.C_KEY\n",
    "C_SECRET = config.C_SECRET\n",
    "A_TOKEN_KEY = config.A_TOKEN_KEY\n",
    "A_TOKEN_SECRET = config.A_TOKEN_SECRET\n",
    "\n",
    "# Create a StreamListener class \n",
    "class MyListener(StreamListener):\n",
    "\n",
    "    def __init__(self, time_limit=30):\n",
    "        self.start_time = time.time()\n",
    "        self.limit = time_limit\n",
    "        self.outFile = open('data.json', 'a')\n",
    "        super(MyListener, self).__init__()\n",
    "        \n",
    "    def on_data(self, data):\n",
    "        if(time.time() - self.start_time) < self.limit:\n",
    "            self.outFile.write(data.strip())\n",
    "            self.outFile.write('\\n')\n",
    "            return True\n",
    "        else:\n",
    "            self.outFile.close()\n",
    "            return False\n",
    "        \n",
    "    def on_error(self, status):\n",
    "        print(status)\n",
    "        \n",
    "auth = OAuthHandler(C_KEY,C_SECRET)\n",
    "auth.set_access_token(A_TOKEN_KEY,A_TOKEN_SECRET)\n",
    "myStream = Stream(auth, MyListener(time_limit=300 ))\n",
    "myStream.filter(track=['happy'])"
   ]
  },
  {
   "cell_type": "markdown",
   "metadata": {},
   "source": [
    "    (b) Load the json file and display the text messages of the first 10 tweets."
   ]
  },
  {
   "cell_type": "code",
   "execution_count": 2,
   "metadata": {},
   "outputs": [
    {
     "name": "stdout",
     "output_type": "stream",
     "text": [
      "@Alymamhalnfisah Happy Birthday beautiful girl 💕💕 \n",
      "\n",
      "RT @sakurakharel: Happy Sunday ADN! Wishing you a day full of laughter and positivity! Be blessed! #ALDUBNationEmbrace @MarquezMylin @wiean… \n",
      "\n",
      "Happy birthday jamesmoir12!! You are a living LEGEND. And happy anniversary to you and the wonderful @nancy_sorrell… https://t.co/VQAsOnSuJn \n",
      "\n",
      "RT @DisavowTrump20: BREAKING: Independent Bernie Sanders is planning to announce his run for the Democratic nomination in 2020 despite not… \n",
      "\n",
      "RT @TomiLahren: I’m happy federal workers will be paid but @realDonaldTrump just allowed Nancy to walk all over him. It’s President Trump,… \n",
      "\n",
      "RT @TanaBaker1: The original “twerk”😜 https://t.co/Y9yokGQ0ZK \n",
      "\n",
      "RT @aussietrbl: @RodSteelOfficia @ficluv82 @snguys @Countryboiboots @thatboysamuel1 @CowboyJ77 @MarkKuhl1 @hiker2121 @hungry_slut87 @noahr8… \n",
      "\n",
      "RT @DesirayElaine95: Told my sister I made a 90% of my psych test, her response “So does that mean you’re psycho, like we all knew you were… \n",
      "\n",
      "RT @bioware: Here's to 9 years of surviving the suicide mission. Happy Birthday, Mass Effect 2! https://t.co/gozx2jUhne \n",
      "\n",
      "4 &amp; 8 \n",
      "\n"
     ]
    }
   ],
   "source": [
    "import json\n",
    "\n",
    "with open('data.json') as f:\n",
    "    tweets = [json.loads(line) for line in f]\n",
    "    for i in range(10):\n",
    "        print(tweets[i]['text'], '\\n')"
   ]
  },
  {
   "cell_type": "markdown",
   "metadata": {},
   "source": [
    "    (c) Extract the names of all the users who posted the tweets given in the JSON data along with their respective follower counts. Store the usernames and follower counts as dictionary objects (to obtain unique usernames). Plot a bar chart that shows the names of the top-10 users with the most number of followers.\n",
    "    \n",
    "**Code:**"
   ]
  },
  {
   "cell_type": "code",
   "execution_count": 5,
   "metadata": {},
   "outputs": [
    {
     "data": {
      "image/png": "[encoded data removed]",
      "text/plain": [
       "<Figure size 432x288 with 1 Axes>"
      ]
     },
     "metadata": {
      "needs_background": "light"
     },
     "output_type": "display_data"
    }
   ],
   "source": [
    "import matplotlib.pyplot as plt\n",
    "import operator\n",
    "\n",
    "u = {}\n",
    "\n",
    "with open('data.json') as f:\n",
    "    tweets = [json.loads(line) for line in f]\n",
    "    for twt in tweets:\n",
    "        u[twt['user']['name']] = int(twt['user']['followers_count'])\n",
    "\n",
    "top10 = dict(sorted(u.items(), key=operator.itemgetter(1), reverse=True)[:10])\n",
    "\n",
    "plt.bar(range(len(top10)), top10.values(), align='center')\n",
    "plt.xticks(range(len(top10)), list(top10.keys()))\n",
    "\n",
    "plt.show()"
   ]
  },
  {
   "cell_type": "markdown",
   "metadata": {},
   "source": [
    "**4.** Consider the following schema for an online streaming service, where users are allowed to play (stream) songs performed by different artists. Primary and foreign key constraints are also listed for the schema of each table.\n",
    "\n",
    "    User (ID, Password, Name, Location)   Primary key = ID\n",
    "    \n",
    "    Artist (ID, Name, Birthyear)   Primary key = ID\n",
    "\n",
    "    Song (ID, Title, Album, ArtistID)   \n",
    "    \n",
    "        Primary key = ID\n",
    "        \n",
    "        Song(ArtistID) references Artist(ID)\n",
    "\n",
    "    Play (ID, UserID, SongID, Timestamp)   \n",
    "    \n",
    "        Primary key = ID\n",
    "\n",
    "        Play(UserID) references User(ID)\n",
    "\n",
    "        Play(SongID) references Song(ID)\n",
    "\n",
    "Express each of the following query in SQL.\n",
    "\n",
    "**(a)** Find the unique IDs of users who have played songs performed by the artist named *Michael Jackson*.\n",
    "\n",
    "**Solution:**\n",
    "\n",
    "    SELECT DISTINCT Play.UserID\n",
    "    FROM Play, Song, Artist\n",
    "    WHERE (Play.SongID = Song.ID AND \n",
    "    Song.ArtistID = Artist.ID AND \n",
    "    Artist.Name = \"Michael Jackson\")\n"
   ]
  },
  {
   "cell_type": "markdown",
   "metadata": {},
   "source": [
    "\n",
    "**(b)** Find the unique IDs of users who have played more than one song performed by the artist named *Michael Jackson*. In other words, your query result must include only those users who have played at least 2 different songs performed by Michael Jackson. \n",
    "\n",
    "**Solution:**\n",
    "\n",
    "    \n",
    "    SELECT DISTINCT p.UserID\n",
    "    From Play AS p\n",
    "    WHERE ( \n",
    "        SELECT COUNT(DISTINCT p2.SongID) \n",
    "        From Play AS p2, Song AS s2, Artist AS a2\n",
    "        WHERE p.UserID = p2.UserID AND\n",
    "        p2.SongID = s2.ID AND \n",
    "        s2.ArtistID = a2.ID AND \n",
    "        a2.Name = \"Michael Jackson\"\n",
    "        ) >= 2\n",
    "        "
   ]
  },
  {
   "cell_type": "markdown",
   "metadata": {},
   "source": [
    "  "
   ]
  },
  {
   "cell_type": "markdown",
   "metadata": {},
   "source": [
    "**(c)**  Find the title of the most popular song, i.e., the song that received the highest play count (i.e., number of times it was played), and its corresponding play count. Note that a user can play the same song more than once (so the play count should sum up the total number of times each user has played a given song).\n",
    "\n",
    "**Solution:**\n",
    "\n",
    "    SELECT Song.Title, d.c\n",
    "    FROM Song, \n",
    "        (SELECT Play.SongID as b, COUNT(Play.SongID) as c\n",
    "        FROM Play \n",
    "        GROUP BY Play.SongID\n",
    "        ORDER BY c DESC\n",
    "        Limit 1) as d\n",
    "    WHERE Song.ID = d.b"
   ]
  },
  {
   "cell_type": "markdown",
   "metadata": {},
   "source": [
    " "
   ]
  },
  {
   "cell_type": "markdown",
   "metadata": {},
   "source": [
    "**(d)** Find the titles of songs that have never been streamed (played) by any user.\n",
    "\n",
    "**Solution:**\n",
    "\n",
    "    SELECT s1.Title\n",
    "    FROM SONG as s1\n",
    "    WHERE NOT EXISTS (\n",
    "        SELECT DISTINCT s2.Title\n",
    "        FROM Play, Song as s2\n",
    "        WHERE Play.SongID = s2.ID AND\n",
    "        s1.ID = s2.ID)"
   ]
  },
  {
   "cell_type": "markdown",
   "metadata": {},
   "source": [
    " "
   ]
  },
  {
   "cell_type": "markdown",
   "metadata": {},
   "source": [
    "**5.** Download the Pittsburgh city fire incident data from the class web page. Using Jupyter notebook, write a Python program that performs the following steps.\n",
    "\n",
    "**(a)** Use pandas to load the CSV file into a DataFrame object named data. After loading the data successfully:\n",
    "\n",
    "i. Type data.head() to return the first 5 records of the dataset.\n",
    "\n",
    "**Solution:**"
   ]
  },
  {
   "cell_type": "code",
   "execution_count": 6,
   "metadata": {},
   "outputs": [
    {
     "data": {
      "text/html": [
       "<div>\n",
       "<style scoped>\n",
       "    .dataframe tbody tr th:only-of-type {\n",
       "        vertical-align: middle;\n",
       "    }\n",
       "\n",
       "    .dataframe tbody tr th {\n",
       "        vertical-align: top;\n",
       "    }\n",
       "\n",
       "    .dataframe thead th {\n",
       "        text-align: right;\n",
       "    }\n",
       "</style>\n",
       "<table border=\"1\" class=\"dataframe\">\n",
       "  <thead>\n",
       "    <tr style=\"text-align: right;\">\n",
       "      <th></th>\n",
       "      <th>call_no</th>\n",
       "      <th>incident_type</th>\n",
       "      <th>type_description</th>\n",
       "      <th>address</th>\n",
       "      <th>alarm_time</th>\n",
       "      <th>alarms</th>\n",
       "      <th>primary_unit</th>\n",
       "      <th>census_tract</th>\n",
       "      <th>neighborhood</th>\n",
       "      <th>council_district</th>\n",
       "      <th>ward</th>\n",
       "      <th>tract</th>\n",
       "      <th>public_works_division</th>\n",
       "      <th>pli_division</th>\n",
       "      <th>police_zone</th>\n",
       "      <th>fire_zone</th>\n",
       "      <th>latitude</th>\n",
       "      <th>longitude</th>\n",
       "    </tr>\n",
       "  </thead>\n",
       "  <tbody>\n",
       "    <tr>\n",
       "      <th>0</th>\n",
       "      <td>F160029985</td>\n",
       "      <td>111.0</td>\n",
       "      <td>Building fire</td>\n",
       "      <td>800 BLOCK CENTER ST, WILKINSBURG PA 15221</td>\n",
       "      <td>2016-04-21T05:01:04</td>\n",
       "      <td>1</td>\n",
       "      <td>231EN16</td>\n",
       "      <td>NaN</td>\n",
       "      <td>NaN</td>\n",
       "      <td>NaN</td>\n",
       "      <td>NaN</td>\n",
       "      <td>4.200356e+10</td>\n",
       "      <td>NaN</td>\n",
       "      <td>NaN</td>\n",
       "      <td>NaN</td>\n",
       "      <td>16-Mar</td>\n",
       "      <td>40.441275</td>\n",
       "      <td>-79.882485</td>\n",
       "    </tr>\n",
       "    <tr>\n",
       "      <th>1</th>\n",
       "      <td>F180022058</td>\n",
       "      <td>111.0</td>\n",
       "      <td>Building fire</td>\n",
       "      <td>1100 BLOCK JANE ST, WILKINSBURG PA 15221</td>\n",
       "      <td>2018-03-13T08:34:43</td>\n",
       "      <td>1</td>\n",
       "      <td>231EN16</td>\n",
       "      <td>NaN</td>\n",
       "      <td>NaN</td>\n",
       "      <td>NaN</td>\n",
       "      <td>NaN</td>\n",
       "      <td>4.200356e+10</td>\n",
       "      <td>NaN</td>\n",
       "      <td>NaN</td>\n",
       "      <td>NaN</td>\n",
       "      <td>21-Mar</td>\n",
       "      <td>40.436342</td>\n",
       "      <td>-79.881003</td>\n",
       "    </tr>\n",
       "    <tr>\n",
       "      <th>2</th>\n",
       "      <td>F180022102</td>\n",
       "      <td>131.0</td>\n",
       "      <td>Passenger vehicle fire</td>\n",
       "      <td>SB STATE HWY 28 SB AT 31S, PITTSBURGH PA 15212</td>\n",
       "      <td>2018-03-13T11:54:23</td>\n",
       "      <td>0</td>\n",
       "      <td>231EN32</td>\n",
       "      <td>2406.0</td>\n",
       "      <td>NaN</td>\n",
       "      <td>NaN</td>\n",
       "      <td>NaN</td>\n",
       "      <td>NaN</td>\n",
       "      <td>NaN</td>\n",
       "      <td>NaN</td>\n",
       "      <td>NaN</td>\n",
       "      <td>1-1A</td>\n",
       "      <td>NaN</td>\n",
       "      <td>NaN</td>\n",
       "    </tr>\n",
       "    <tr>\n",
       "      <th>3</th>\n",
       "      <td>F170043431</td>\n",
       "      <td>131.0</td>\n",
       "      <td>Passenger vehicle fire</td>\n",
       "      <td>1700 BLOCK BELLEAU DR, PITTSBURGH PA 15212</td>\n",
       "      <td>2017-05-31T08:39:47</td>\n",
       "      <td>0</td>\n",
       "      <td>231EN38</td>\n",
       "      <td>2509.0</td>\n",
       "      <td>Fineview</td>\n",
       "      <td>6.0</td>\n",
       "      <td>25.0</td>\n",
       "      <td>4.200325e+10</td>\n",
       "      <td>1.0</td>\n",
       "      <td>25.0</td>\n",
       "      <td>1.0</td>\n",
       "      <td>10-Jan</td>\n",
       "      <td>40.460303</td>\n",
       "      <td>-80.006980</td>\n",
       "    </tr>\n",
       "    <tr>\n",
       "      <th>4</th>\n",
       "      <td>F180021111</td>\n",
       "      <td>111.0</td>\n",
       "      <td>Building fire</td>\n",
       "      <td>2400 BLOCK VILLAGE RD, PITTSBURGH PA 15205</td>\n",
       "      <td>2018-03-09T10:26:42</td>\n",
       "      <td>1</td>\n",
       "      <td>231EN31</td>\n",
       "      <td>2808.0</td>\n",
       "      <td>Fairywood</td>\n",
       "      <td>2.0</td>\n",
       "      <td>28.0</td>\n",
       "      <td>4.200356e+10</td>\n",
       "      <td>5.0</td>\n",
       "      <td>28.0</td>\n",
       "      <td>6.0</td>\n",
       "      <td>16-Jan</td>\n",
       "      <td>40.449009</td>\n",
       "      <td>-80.076607</td>\n",
       "    </tr>\n",
       "  </tbody>\n",
       "</table>\n",
       "</div>"
      ],
      "text/plain": [
       "      call_no  incident_type        type_description  \\\n",
       "0  F160029985          111.0           Building fire   \n",
       "1  F180022058          111.0           Building fire   \n",
       "2  F180022102          131.0  Passenger vehicle fire   \n",
       "3  F170043431          131.0  Passenger vehicle fire   \n",
       "4  F180021111          111.0           Building fire   \n",
       "\n",
       "                                          address           alarm_time  \\\n",
       "0       800 BLOCK CENTER ST, WILKINSBURG PA 15221  2016-04-21T05:01:04   \n",
       "1        1100 BLOCK JANE ST, WILKINSBURG PA 15221  2018-03-13T08:34:43   \n",
       "2  SB STATE HWY 28 SB AT 31S, PITTSBURGH PA 15212  2018-03-13T11:54:23   \n",
       "3      1700 BLOCK BELLEAU DR, PITTSBURGH PA 15212  2017-05-31T08:39:47   \n",
       "4      2400 BLOCK VILLAGE RD, PITTSBURGH PA 15205  2018-03-09T10:26:42   \n",
       "\n",
       "   alarms primary_unit  census_tract neighborhood  council_district  ward  \\\n",
       "0       1      231EN16           NaN          NaN               NaN   NaN   \n",
       "1       1      231EN16           NaN          NaN               NaN   NaN   \n",
       "2       0      231EN32        2406.0          NaN               NaN   NaN   \n",
       "3       0      231EN38        2509.0     Fineview               6.0  25.0   \n",
       "4       1      231EN31        2808.0    Fairywood               2.0  28.0   \n",
       "\n",
       "          tract  public_works_division  pli_division  police_zone fire_zone  \\\n",
       "0  4.200356e+10                    NaN           NaN          NaN    16-Mar   \n",
       "1  4.200356e+10                    NaN           NaN          NaN    21-Mar   \n",
       "2           NaN                    NaN           NaN          NaN      1-1A   \n",
       "3  4.200325e+10                    1.0          25.0          1.0    10-Jan   \n",
       "4  4.200356e+10                    5.0          28.0          6.0    16-Jan   \n",
       "\n",
       "    latitude  longitude  \n",
       "0  40.441275 -79.882485  \n",
       "1  40.436342 -79.881003  \n",
       "2        NaN        NaN  \n",
       "3  40.460303 -80.006980  \n",
       "4  40.449009 -80.076607  "
      ]
     },
     "execution_count": 6,
     "metadata": {},
     "output_type": "execute_result"
    }
   ],
   "source": [
    "import pandas as pd\n",
    "\n",
    "data = pd.read_csv(\"fire.csv\")\n",
    "\n",
    "data.head()"
   ]
  },
  {
   "cell_type": "markdown",
   "metadata": {},
   "source": [
    "ii. Determine the number of rows (data records) and columns (attributes) of the dataset using the data.shape command.\n",
    "   \n",
    "**Solution:**   "
   ]
  },
  {
   "cell_type": "code",
   "execution_count": 7,
   "metadata": {},
   "outputs": [
    {
     "name": "stdout",
     "output_type": "stream",
     "text": [
      "rows    =  5956\n",
      "columns =  18\n"
     ]
    }
   ],
   "source": [
    "print(\"rows    = \", data.shape[0])\n",
    "print(\"columns = \", data.shape[1])"
   ]
  },
  {
   "cell_type": "markdown",
   "metadata": {},
   "source": [
    "iii. Count the frequency of each type of fire incident by applying the value_counts() function to the type description column (see the pandas example given in lecture 2).\n",
    "\n",
    "**Solution:**"
   ]
  },
  {
   "cell_type": "code",
   "execution_count": 8,
   "metadata": {},
   "outputs": [
    {
     "data": {
      "text/plain": [
       "Cooking fire, confined to container                   1388\n",
       "Building fire                                         1240\n",
       "Passenger vehicle fire                                 710\n",
       "Outside rubbish, trash or waste fire                   481\n",
       "Outside rubbish fire, Other                            329\n",
       "Brush or brush-and-grass mixture fire                  301\n",
       "Trash or rubbish fire, contained                       275\n",
       "Dumpster or other outside trash receptacle fire        275\n",
       "Special outside fire, Other                            155\n",
       "Natural vegetation fire, Other                         147\n",
       "Mobile property (vehicle) fire, Other                  135\n",
       "Fires in structure other than in a building             91\n",
       "Grass fire                                              80\n",
       "Fire, Other                                             80\n",
       "Outside equipment fire                                  44\n",
       "Fuel burner/boiler malfunction, fire confined           43\n",
       "Road freight or transport vehicle fire                  30\n",
       "Chimney or flue fire, confined to chimney or flue       26\n",
       "Forest, woods or wildland fire                          25\n",
       "Construction or demolition landfill fire                19\n",
       "Outside storage fire                                    10\n",
       "Fire in portable building, fixed location               10\n",
       "Off-road vehicle or heavy equipment fire                10\n",
       "Commercial Compactor fire, confined to rubbish           9\n",
       "Outside stationary compactor/compacted trash fire        7\n",
       "Incinerator overload or malfunction, fire confined       6\n",
       "Garbage dump or sanitary landfill fire                   5\n",
       "Water vehicle fire                                       4\n",
       "Rail vehicle fire                                        3\n",
       "Cultivated vegetation, crop fire, Other                  3\n",
       "Fire in motor home, camper, recreational vehicle         3\n",
       "Fire in mobile prop used as a fixed struc, Other         2\n",
       "Fire in mobile home used as fixed residence              2\n",
       "Camper or recreational vehicle (RV) fire                 2\n",
       "Outside mailbox fire                                     2\n",
       "Self-propelled motor home or recreational vehicle        1\n",
       "Cultivated grain or crop fire                            1\n",
       "Outside gas or vapor combustion explosion                1\n",
       "Cultivated trees or nursery stock fire                   1\n",
       "Name: type_description, dtype: int64"
      ]
     },
     "execution_count": 8,
     "metadata": {},
     "output_type": "execute_result"
    }
   ],
   "source": [
    "data.type_description.value_counts()"
   ]
  },
  {
   "cell_type": "markdown",
   "metadata": {},
   "source": [
    "(b) Using pymongo, write the Python code for storing the data into MongoDB. Specifically, create a collection named fire, where each document corresponds to a fire incident record. You must first convert each record into a dictionary object before inserting it into MongoDB (see the example given in Exercise 3). Each fire incident record should be stored as a set of key-value pairs in BSON format on MongoDB, where the keys should correspond to the attribute names of the original CSV data file.\n",
    "\n",
    "**Solution:**"
   ]
  },
  {
   "cell_type": "code",
   "execution_count": 10,
   "metadata": {},
   "outputs": [
    {
     "name": "stdout",
     "output_type": "stream",
     "text": [
      "Number of records =  5956\n"
     ]
    }
   ],
   "source": [
    "import pymongo\n",
    "\n",
    "try:     \n",
    "    connection = pymongo.MongoClient('localhost', 27017)\n",
    "    db = connection['test']\n",
    "    \n",
    "    if db.fire.count_documents({}) > 0:                   # Just to allow rerun without duplicates\n",
    "        db.fire.drop()\n",
    "    \n",
    "    d = data.to_dict(orient='index')\n",
    "    \n",
    "    for k,v in d.items():\n",
    "        db.fire.insert_one(v)\n",
    "            \n",
    "    numRecords = db.fire.count_documents({})             # count number of records \n",
    "    print(\"Number of records = \", numRecords)\n",
    "    connection.close()\n",
    "\n",
    "except pymongo.errors.ConnectionFailure as e:\n",
    "    print(\"Could not connect to MongoDB: %s\" % e)"
   ]
  },
  {
   "cell_type": "markdown",
   "metadata": {},
   "source": [
    "(c) Using pymongo, execute a MongoDB query that identifies the top-5 most frequent type of fire incidents. Your result should be consistent with the answer for Question 5(a)(iii). Hint: you will need to use the following MongoDB operators for the query: group, sort, and $limit. See the example given in https://www.mkyong.com/mongodb/mongodb-aggregate-and-group-example/ on how to write queries with aggregate functions. Note that aggregate functions are implemented in pymongo as follows:\n",
    "\n",
    "    db.<collection_name>.aggregate( ... )\n",
    "\n",
    "**Solution:**"
   ]
  },
  {
   "cell_type": "code",
   "execution_count": 11,
   "metadata": {},
   "outputs": [
    {
     "name": "stdout",
     "output_type": "stream",
     "text": [
      "{'_id': 'Cooking fire, confined to container', 'Frequency': 1388}\n",
      "{'_id': 'Building fire', 'Frequency': 1240}\n",
      "{'_id': 'Passenger vehicle fire', 'Frequency': 710}\n",
      "{'_id': 'Outside rubbish, trash or waste fire', 'Frequency': 481}\n",
      "{'_id': 'Outside rubbish fire, Other', 'Frequency': 329}\n"
     ]
    }
   ],
   "source": [
    "import pymongo\n",
    "\n",
    "try:     \n",
    "    connection = pymongo.MongoClient('localhost', 27017)\n",
    "    db = connection['test']\n",
    "    \n",
    "    cursor = db.fire.aggregate([\n",
    "                {\"$group\": {\"_id\": \"$type_description\", \"Frequency\": {\"$sum\": 1}}},\n",
    "                {\"$sort\" : {\"Frequency\" : -1}},\n",
    "                {\"$limit\" : 5}\n",
    "             ])\n",
    "    for record in cursor:\n",
    "        print(record)\n",
    "    \n",
    "    connection.close()\n",
    "\n",
    "except pymongo.errors.ConnectionFailure as e:\n",
    "    print(\"Could not connect to MongoDB: %s\" % e)"
   ]
  },
  {
   "cell_type": "code",
   "execution_count": null,
   "metadata": {},
   "outputs": [],
   "source": []
  }
 ],
 "metadata": {
  "anaconda-cloud": {},
  "kernelspec": {
   "display_name": "Python 3",
   "language": "python",
   "name": "python3"
  },
  "language_info": {
   "codemirror_mode": {
    "name": "ipython",
    "version": 3
   },
   "file_extension": ".py",
   "mimetype": "text/x-python",
   "name": "python",
   "nbconvert_exporter": "python",
   "pygments_lexer": "ipython3",
   "version": "3.7.1"
  }
 },
 "nbformat": 4,
 "nbformat_minor": 1
}
