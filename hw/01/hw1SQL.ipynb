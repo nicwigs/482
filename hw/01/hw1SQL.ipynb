{
 "cells": [
  {
   "cell_type": "code",
   "execution_count": 1,
   "metadata": {},
   "outputs": [],
   "source": [
    "uname = \"cse482\"\n",
    "pwd = \"cse482\"\n",
    "hname = \"localhost\"\n",
    "dbname = \"cse482\"\n",
    "\n",
    "import mysql.connector\n",
    "from mysql.connector import errorcode\n",
    "\n",
    "try:\n",
    "    cnx = mysql.connector.connect(user=uname, password=pwd, host=hname, database=dbname)\n",
    "    cursor = cnx.cursor()\n",
    "    query = \"DROP TABLE IF EXISTS User\"\n",
    "    cursor.execute(query)\n",
    "\n",
    "    query = \"\"\" CREATE TABLE IF NOT EXISTS User \n",
    "                    (ID BIGINT PRIMARY KEY,\n",
    "                    Password VARCHAR(200),\n",
    "                    Name VARCHAR(200),\n",
    "                    Location VARCHAR(200))\n",
    "            \"\"\"\n",
    "    \n",
    "    cursor.execute(query)\n",
    "    cursor.close()\n",
    "    cnx.close()\n",
    "    \n",
    "except mysql.connector.Error as e:\n",
    "    print(e.msg)       # error message"
   ]
  },
  {
   "cell_type": "code",
   "execution_count": 20,
   "metadata": {},
   "outputs": [
    {
     "name": "stdout",
     "output_type": "stream",
     "text": [
      "Cannot drop table 'artist' referenced by a foreign key constraint 'song_ibfk_1' on table 'Song'.\n"
     ]
    }
   ],
   "source": [
    "try:\n",
    "    cnx = mysql.connector.connect(user=uname, password=pwd, host=hname, database=dbname)\n",
    "    cursor = cnx.cursor()\n",
    "    query = \"DROP TABLE IF EXISTS Artist\"\n",
    "    cursor.execute(query)\n",
    "\n",
    "    query = \"\"\" CREATE TABLE IF NOT EXISTS Artist \n",
    "                    (ID BIGINT PRIMARY KEY,\n",
    "                    Name VARCHAR(200),\n",
    "                    Birthyear VARCHAR(200))\n",
    "            \"\"\"\n",
    "    \n",
    "    cursor.execute(query)\n",
    "    cursor.close()\n",
    "    cnx.close()\n",
    "    \n",
    "except mysql.connector.Error as e:\n",
    "    print(e.msg)       # error message"
   ]
  },
  {
   "cell_type": "code",
   "execution_count": 3,
   "metadata": {},
   "outputs": [],
   "source": [
    "try:\n",
    "    cnx = mysql.connector.connect(user=uname, password=pwd, host=hname, database=dbname)\n",
    "    cursor = cnx.cursor()\n",
    "    query = \"DROP TABLE IF EXISTS Song\"\n",
    "    cursor.execute(query)\n",
    "\n",
    "    query = \"\"\" CREATE TABLE IF NOT EXISTS Song \n",
    "                    (ID BIGINT PRIMARY KEY,\n",
    "                    Title VARCHAR(200),\n",
    "                    Album VARCHAR(200),\n",
    "                    ArtistID BIGINT,\n",
    "                    FOREIGN KEY (ArtistID) REFERENCES Artist(ID))\n",
    "            \"\"\"\n",
    "    \n",
    "    cursor.execute(query)\n",
    "    cursor.close()\n",
    "    cnx.close()\n",
    "    \n",
    "except mysql.connector.Error as e:\n",
    "    print(e.msg)       # error message"
   ]
  },
  {
   "cell_type": "code",
   "execution_count": 4,
   "metadata": {},
   "outputs": [],
   "source": [
    "try:\n",
    "    cnx = mysql.connector.connect(user=uname, password=pwd, host=hname, database=dbname)\n",
    "    cursor = cnx.cursor()\n",
    "    query = \"DROP TABLE IF EXISTS Play\"\n",
    "    cursor.execute(query)\n",
    "\n",
    "    query = \"\"\" CREATE TABLE IF NOT EXISTS Play \n",
    "                    (ID BIGINT PRIMARY KEY,\n",
    "                    UserID BIGINT,\n",
    "                    SongID BIGINT,\n",
    "                    Timestamp VARCHAR(200),\n",
    "                    FOREIGN KEY (UserID) REFERENCES User(ID),\n",
    "                    FOREIGN KEY (SongID) REFERENCES Song(ID)\n",
    "                    )\n",
    "            \"\"\"\n",
    "    \n",
    "    cursor.execute(query)\n",
    "    cursor.close()\n",
    "    cnx.close()\n",
    "    \n",
    "except mysql.connector.Error as e:\n",
    "    print(e.msg)       # error message"
   ]
  },
  {
   "cell_type": "code",
   "execution_count": 11,
   "metadata": {},
   "outputs": [],
   "source": [
    "users = [{\"ID\":1,\"Password\":\"a\",\"Name\":\"A\",\"Location\":\"here\"},\n",
    "        {\"ID\":2,\"Password\":\"a\",\"Name\":\"B\",\"Location\":\"here\"},\n",
    "        {\"ID\":3,\"Password\":\"a\",\"Name\":\"C\",\"Location\":\"here\"},\n",
    "        {\"ID\":4,\"Password\":\"a\",\"Name\":\"D\",\"Location\":\"here\"},\n",
    "        {\"ID\":5,\"Password\":\"a\",\"Name\":\"E\",\"Location\":\"here\"},\n",
    "        {\"ID\":6,\"Password\":\"a\",\"Name\":\"F\",\"Location\":\"here\"},\n",
    "        {\"ID\":7,\"Password\":\"a\",\"Name\":\"G\",\"Location\":\"here\"}]"
   ]
  },
  {
   "cell_type": "code",
   "execution_count": 13,
   "metadata": {},
   "outputs": [],
   "source": [
    "try:\n",
    "    cnx = mysql.connector.connect(user=uname, password=pwd, host=hname, database=dbname)\n",
    "    cursor = cnx.cursor()\n",
    "    \n",
    "    for u in users:\n",
    "        query = \"\"\" \n",
    "        INSERT INTO User VALUES\n",
    "        ('{}','{}','{}','{}')\n",
    "        \"\"\".format(u['ID'],u['Password'],u['Name'],u['Location'])\n",
    "    \n",
    "        cursor.execute(query)\n",
    "    \n",
    "    cnx.commit()\n",
    "    cursor.close()\n",
    "    cnx.close()\n",
    "    \n",
    "except mysql.connector.Error as e:\n",
    "    print(e.msg)       # error message"
   ]
  },
  {
   "cell_type": "code",
   "execution_count": 14,
   "metadata": {},
   "outputs": [
    {
     "name": "stdout",
     "output_type": "stream",
     "text": [
      "(1, u'a', u'A', u'here')\n",
      "(2, u'a', u'B', u'here')\n",
      "(3, u'a', u'C', u'here')\n",
      "(4, u'a', u'D', u'here')\n",
      "(5, u'a', u'E', u'here')\n",
      "(6, u'a', u'F', u'here')\n",
      "(7, u'a', u'G', u'here')\n"
     ]
    }
   ],
   "source": [
    "try:\n",
    "    cnx = mysql.connector.connect(user=uname, password=pwd, host=hname, database=dbname)\n",
    "    cursor = cnx.cursor()\n",
    "\n",
    "    query = \"\"\" \n",
    "                SELECT * from cse482.User\n",
    "            \"\"\"\n",
    "    cursor.execute(query)\n",
    "    \n",
    "    for row in cursor:\n",
    "        print(row)\n",
    "        \n",
    "    cursor.close()\n",
    "    cnx.close()\n",
    "    \n",
    "except mysql.connector.Error as e:\n",
    "    print(e.msg)       # error message"
   ]
  },
  {
   "cell_type": "code",
   "execution_count": 15,
   "metadata": {},
   "outputs": [],
   "source": [
    "artist = [{\"ID\":1,\"Name\":\"Michael Jackson\",\"Birthyear\":\"99\"},\n",
    "        {\"ID\":2,\"Name\":\"Z\",\"Birthyear\":\"99\"},\n",
    "        {\"ID\":3,\"Name\":\"zz\",\"Birthyear\":\"99\"},\n",
    "        {\"ID\":4,\"Name\":\"za\",\"Birthyear\":\"99\"},\n",
    "        {\"ID\":5,\"Name\":\"zs\",\"Birthyear\":\"99\"},\n",
    "        {\"ID\":6,\"Name\":\"zd\",\"Birthyear\":\"99\"},\n",
    "        {\"ID\":7,\"Name\":\"zf\",\"Birthyear\":\"99\"}]"
   ]
  },
  {
   "cell_type": "code",
   "execution_count": 18,
   "metadata": {},
   "outputs": [],
   "source": [
    "try:\n",
    "    cnx = mysql.connector.connect(user=uname, password=pwd, host=hname, database=dbname)\n",
    "    cursor = cnx.cursor()\n",
    "    \n",
    "    for a in artist:\n",
    "        query = \"\"\" \n",
    "        INSERT INTO Artist VALUES\n",
    "        ('{}','{}','{}')\n",
    "        \"\"\".format(a['ID'],a['Name'],a['Birthyear'])\n",
    "    \n",
    "        cursor.execute(query)\n",
    "    \n",
    "    cnx.commit()\n",
    "    cursor.close()\n",
    "    cnx.close()\n",
    "    \n",
    "except mysql.connector.Error as e:\n",
    "    print(e.msg)       # error message"
   ]
  },
  {
   "cell_type": "code",
   "execution_count": 21,
   "metadata": {},
   "outputs": [
    {
     "name": "stdout",
     "output_type": "stream",
     "text": [
      "(1, u'Michael Jackson', u'99')\n",
      "(2, u'Z', u'99')\n",
      "(3, u'zz', u'99')\n",
      "(4, u'za', u'99')\n",
      "(5, u'zs', u'99')\n",
      "(6, u'zd', u'99')\n",
      "(7, u'zf', u'99')\n"
     ]
    }
   ],
   "source": [
    "try:\n",
    "    cnx = mysql.connector.connect(user=uname, password=pwd, host=hname, database=dbname)\n",
    "    cursor = cnx.cursor()\n",
    "\n",
    "    query = \"\"\" \n",
    "                SELECT * from cse482.Artist\n",
    "            \"\"\"\n",
    "    cursor.execute(query)\n",
    "    \n",
    "    for row in cursor:\n",
    "        print(row)\n",
    "        \n",
    "    cursor.close()\n",
    "    cnx.close()\n",
    "    \n",
    "except mysql.connector.Error as e:\n",
    "    print(e.msg)       # error message"
   ]
  },
  {
   "cell_type": "code",
   "execution_count": 23,
   "metadata": {},
   "outputs": [],
   "source": [
    "song = [{\"ID\":1,\"Title\":\"t1\",\"Album\":\"a1\",\"ArtistID\":1},\n",
    "        {\"ID\":2,\"Title\":\"t2\",\"Album\":\"a1\",\"ArtistID\":1},\n",
    "        {\"ID\":3,\"Title\":\"t3\",\"Album\":\"a1\",\"ArtistID\":1},\n",
    "        {\"ID\":4,\"Title\":\"t4\",\"Album\":\"a1\",\"ArtistID\":1},\n",
    "        {\"ID\":5,\"Title\":\"t5\",\"Album\":\"a1\",\"ArtistID\":2},\n",
    "        {\"ID\":6,\"Title\":\"t6\",\"Album\":\"a1\",\"ArtistID\":2},\n",
    "        {\"ID\":7,\"Title\":\"t7\",\"Album\":\"a1\",\"ArtistID\":3}]"
   ]
  },
  {
   "cell_type": "code",
   "execution_count": 24,
   "metadata": {},
   "outputs": [],
   "source": [
    "try:\n",
    "    cnx = mysql.connector.connect(user=uname, password=pwd, host=hname, database=dbname)\n",
    "    cursor = cnx.cursor()\n",
    "    \n",
    "    for s in song:\n",
    "        query = \"\"\" \n",
    "        INSERT INTO Song VALUES\n",
    "        ('{}','{}','{}','{}')\n",
    "        \"\"\".format(s['ID'],s['Title'],s['Album'],s['ArtistID'])\n",
    "    \n",
    "        cursor.execute(query)\n",
    "    \n",
    "    cnx.commit()\n",
    "    cursor.close()\n",
    "    cnx.close()\n",
    "    \n",
    "except mysql.connector.Error as e:\n",
    "    print(e.msg)       # error message"
   ]
  },
  {
   "cell_type": "code",
   "execution_count": 25,
   "metadata": {},
   "outputs": [
    {
     "name": "stdout",
     "output_type": "stream",
     "text": [
      "(1, u't1', u'a1', 1)\n",
      "(2, u't2', u'a1', 1)\n",
      "(3, u't3', u'a1', 1)\n",
      "(4, u't4', u'a1', 1)\n",
      "(5, u't5', u'a1', 2)\n",
      "(6, u't6', u'a1', 2)\n",
      "(7, u't7', u'a1', 3)\n"
     ]
    }
   ],
   "source": [
    "try:\n",
    "    cnx = mysql.connector.connect(user=uname, password=pwd, host=hname, database=dbname)\n",
    "    cursor = cnx.cursor()\n",
    "\n",
    "    query = \"\"\" \n",
    "                SELECT * from cse482.Song\n",
    "            \"\"\"\n",
    "    cursor.execute(query)\n",
    "    \n",
    "    for row in cursor:\n",
    "        print(row)\n",
    "        \n",
    "    cursor.close()\n",
    "    cnx.close()\n",
    "    \n",
    "except mysql.connector.Error as e:\n",
    "    print(e.msg)       # error message"
   ]
  },
  {
   "cell_type": "code",
   "execution_count": 26,
   "metadata": {},
   "outputs": [],
   "source": [
    "play = [{\"ID\":1,\"UserID\":1,\"SongID\":1,\"Timestamp\":\"11\"},\n",
    "        {\"ID\":2,\"UserID\":1,\"SongID\":2,\"Timestamp\":\"11\"},\n",
    "        {\"ID\":3,\"UserID\":2,\"SongID\":3,\"Timestamp\":\"11\"},\n",
    "        {\"ID\":4,\"UserID\":2,\"SongID\":3,\"Timestamp\":\"11\"},\n",
    "        {\"ID\":5,\"UserID\":3,\"SongID\":7,\"Timestamp\":\"11\"},\n",
    "        {\"ID\":6,\"UserID\":4,\"SongID\":6,\"Timestamp\":\"11\"},\n",
    "        {\"ID\":7,\"UserID\":5,\"SongID\":5,\"Timestamp\":\"11\"}]"
   ]
  },
  {
   "cell_type": "code",
   "execution_count": 27,
   "metadata": {},
   "outputs": [],
   "source": [
    "try:\n",
    "    cnx = mysql.connector.connect(user=uname, password=pwd, host=hname, database=dbname)\n",
    "    cursor = cnx.cursor()\n",
    "    \n",
    "    for p in play:\n",
    "        query = \"\"\" \n",
    "        INSERT INTO Play VALUES\n",
    "        ('{}','{}','{}','{}')\n",
    "        \"\"\".format(p['ID'],p['UserID'],p['SongID'],p['Timestamp'])\n",
    "    \n",
    "        cursor.execute(query)\n",
    "    \n",
    "    cnx.commit()\n",
    "    cursor.close()\n",
    "    cnx.close()\n",
    "    \n",
    "except mysql.connector.Error as e:\n",
    "    print(e.msg)       # error message"
   ]
  },
  {
   "cell_type": "code",
   "execution_count": 93,
   "metadata": {},
   "outputs": [
    {
     "name": "stdout",
     "output_type": "stream",
     "text": [
      "(1, 1, 1, u'11')\n",
      "(2, 1, 2, u'11')\n",
      "(3, 2, 3, u'11')\n",
      "(4, 2, 3, u'11')\n",
      "(5, 3, 7, u'11')\n",
      "(6, 4, 6, u'11')\n",
      "(7, 5, 5, u'11')\n"
     ]
    }
   ],
   "source": [
    "try:\n",
    "    cnx = mysql.connector.connect(user=uname, password=pwd, host=hname, database=dbname)\n",
    "    cursor = cnx.cursor()\n",
    "\n",
    "    query = \"\"\" \n",
    "                SELECT * from cse482.Play\n",
    "            \"\"\"\n",
    "    cursor.execute(query)\n",
    "    \n",
    "    for row in cursor:\n",
    "        print(row)\n",
    "        \n",
    "    cursor.close()\n",
    "    cnx.close()\n",
    "    \n",
    "except mysql.connector.Error as e:\n",
    "    print(e.msg)       # error message"
   ]
  },
  {
   "cell_type": "code",
   "execution_count": 29,
   "metadata": {},
   "outputs": [
    {
     "name": "stdout",
     "output_type": "stream",
     "text": [
      "(1,)\n",
      "(2,)\n"
     ]
    }
   ],
   "source": [
    "try:\n",
    "    cnx = mysql.connector.connect(user=uname, password=pwd, host=hname, database=dbname)\n",
    "    cursor = cnx.cursor()\n",
    "\n",
    "    query = \"\"\" \n",
    "                SELECT DISTINCT Play.UserID\n",
    "                FROM Play, Song, Artist\n",
    "                WHERE (Play.SongID = Song.ID AND \n",
    "                Song.ArtistID = Artist.ID AND \n",
    "                Artist.Name = \"Michael Jackson\")\n",
    "            \"\"\"\n",
    "    cursor.execute(query)\n",
    "    \n",
    "    for row in cursor:\n",
    "        print(row)\n",
    "        \n",
    "    cursor.close()\n",
    "    cnx.close()\n",
    "    \n",
    "except mysql.connector.Error as e:\n",
    "    print(e.msg)       # error message"
   ]
  },
  {
   "cell_type": "code",
   "execution_count": 30,
   "metadata": {},
   "outputs": [
    {
     "name": "stdout",
     "output_type": "stream",
     "text": [
      "(1,)\n"
     ]
    }
   ],
   "source": [
    "try:\n",
    "    cnx = mysql.connector.connect(user=uname, password=pwd, host=hname, database=dbname)\n",
    "    cursor = cnx.cursor()\n",
    "\n",
    "    query = \"\"\" \n",
    "            SELECT DISTINCT p.UserID\n",
    "            From Play AS p\n",
    "            WHERE ( \n",
    "                SELECT COUNT(DISTINCT p2.SongID) \n",
    "                From Play AS p2, Song AS s2, Artist AS a2\n",
    "                WHERE p.UserID = p2.UserID AND\n",
    "                p2.SongID = s2.ID AND \n",
    "                s2.ArtistID = a2.ID AND \n",
    "                a2.Name = \"Michael Jackson\"\n",
    "                ) >= 2\n",
    "            \"\"\"\n",
    "    cursor.execute(query)\n",
    "    \n",
    "    for row in cursor:\n",
    "        print(row)\n",
    "        \n",
    "    cursor.close()\n",
    "    cnx.close()\n",
    "    \n",
    "except mysql.connector.Error as e:\n",
    "    print(e.msg)       # error message"
   ]
  },
  {
   "cell_type": "code",
   "execution_count": 62,
   "metadata": {},
   "outputs": [
    {
     "name": "stdout",
     "output_type": "stream",
     "text": [
      "(u't3', 2)\n"
     ]
    }
   ],
   "source": [
    "try:\n",
    "    cnx = mysql.connector.connect(user=uname, password=pwd, host=hname, database=dbname)\n",
    "    cursor = cnx.cursor()\n",
    "\n",
    "    query = \"\"\" \n",
    "                SELECT Song.Title, d.c\n",
    "                FROM Song, \n",
    "                    (SELECT Play.SongID as b, COUNT(Play.SongID) as c\n",
    "                    FROM Play \n",
    "                    GROUP BY Play.SongID\n",
    "                    ORDER BY c DESC\n",
    "                    Limit 1) as d\n",
    "                WHERE Song.ID = d.b\n",
    "            \"\"\"\n",
    "    cursor.execute(query)\n",
    "    \n",
    "    for row in cursor:\n",
    "        print(row)\n",
    "        \n",
    "    cursor.close()\n",
    "    cnx.close()\n",
    "    \n",
    "except mysql.connector.Error as e:\n",
    "    print(e.msg)       # error message"
   ]
  },
  {
   "cell_type": "code",
   "execution_count": 99,
   "metadata": {},
   "outputs": [
    {
     "name": "stdout",
     "output_type": "stream",
     "text": [
      "(u't4',)\n"
     ]
    }
   ],
   "source": [
    "try:\n",
    "    cnx = mysql.connector.connect(user=uname, password=pwd, host=hname, database=dbname)\n",
    "    cursor = cnx.cursor()\n",
    "\n",
    "    query = \"\"\" \n",
    "                SELECT s1.Title\n",
    "                FROM SONG as s1\n",
    "                WHERE NOT EXISTS (\n",
    "                    SELECT DISTINCT s2.Title\n",
    "                    FROM Play, Song as s2\n",
    "                    WHERE Play.SongID = s2.ID AND\n",
    "                    s1.ID = s2.ID)\n",
    "            \"\"\"\n",
    "    cursor.execute(query)\n",
    "    \n",
    "    for row in cursor:\n",
    "        print(row)\n",
    "        \n",
    "    cursor.close()\n",
    "    cnx.close()\n",
    "    \n",
    "except mysql.connector.Error as e:\n",
    "    print(e.msg)       # error message"
   ]
  },
  {
   "cell_type": "code",
   "execution_count": null,
   "metadata": {},
   "outputs": [],
   "source": []
  }
 ],
 "metadata": {
  "kernelspec": {
   "display_name": "Python 2",
   "language": "python",
   "name": "py27"
  },
  "language_info": {
   "codemirror_mode": {
    "name": "ipython",
    "version": 2
   },
   "file_extension": ".py",
   "mimetype": "text/x-python",
   "name": "python",
   "nbconvert_exporter": "python",
   "pygments_lexer": "ipython2",
   "version": "2.7.15"
  }
 },
 "nbformat": 4,
 "nbformat_minor": 2
}
