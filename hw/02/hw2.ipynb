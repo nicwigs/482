{
 "cells": [
  {
   "cell_type": "markdown",
   "metadata": {},
   "source": [
    "# CSE 482: Big Data Analysis (Spring 2019) Homework 2\n",
    "\n",
    "Due date: February 20, 2019 (before midnight)\n",
    "\n",
    "Submit your homework using the D2L system. Use the notebook below to write the solution of your homework. Make sure you submit the notebook along with its HTML version."
   ]
  },
  {
   "cell_type": "markdown",
   "metadata": {},
   "source": [
    "**1.** Consider the dataset shown in the table below.\n",
    "\n",
    "<img src = \"figure1.jpg\" width=\"350\">\n",
    "\n",
    "Note that x1 through x9 are integer-valued counts sorted in ascending order (i.e., x1 corresponds to the lowest cell count while x9 has the highest cell count). Suppose we apply the following methods (equal interval width, equal frequency, and entropy-based) to discretize the blood cell count attribute into 3 bins. The bins obtained are listed below:\n",
    "\n",
    "    - Equal Width: \n",
    "        - Bin 1: x1, x2  \n",
    "        - Bin 2: x3, x4, x5, x6, x7, x8\n",
    "        - Bin 3: x9\n",
    "\n",
    "    - Equal Frequency: \n",
    "        - Bin 1: x1, x2, x3 \n",
    "        - Bin 2: x4, x5, x6 \n",
    "        - Bin 3: x7, x8, x9\n",
    "    \n",
    "    - Entropy-based discretization with smoking status as class attribute: \n",
    "        - Bin 1: x1, x2\n",
    "        - Bin 2: x3, x4, x5\n",
    "        - Bin 3: x6, x7, x8, x9\n",
    "\n",
    "Explain the effect of applying each transformation below on the discretization methods listed above. Specifically, state whether the elements assigned to the bins can change to a different bin if you apply discretization on the transformed attribute values. \n",
    "\n",
    "(a) Centering the attribute: $x \\rightarrow x - m$\n",
    "\n",
    "(b) Standardizing the attribute: $x \\rightarrow \\frac{x - m}{s}$\n",
    "\n",
    "(c) Applying logarithmic transform: $x \\rightarrow \\log(x)$\n",
    "\n",
    "where x corresponds to one of the original blood count values (x1 to x9), m denotes the mean (average) value of the 9 numbers, and s denotes the standard deviation of the 9 numbers. Note: you do not need to know the exact values of x1 to x9 in order to answer this question. \n",
    "\n",
    "**Solution:**"
   ]
  },
  {
   "cell_type": "markdown",
   "metadata": {},
   "source": [
    " (a) Centering the attribute\n",
    " \n",
    "     i. Equal-width: No change, max and min will be shifted down by m, but same overall range, thus same width\n",
    "     \n",
    "     ii. Equal frequency: No change, since all values remain in same order. \n",
    "     \n",
    "     iii. Entropy-based: No change, entropy is used with split points, and the split points will move with the data shift\n",
    " \n",
    " (b) Standardizing the attribute\n",
    " \n",
    "     i. Equal-width: Potential change, since points farthest away from mean will become closer  since they have a larger standard deviation than those close to the mean. \n",
    "     \n",
    "     ii. Equal frequency: No change, since all values remain in same order. \n",
    "     \n",
    "     iii. Entropy-based: No change, since the order of the points dont change. \n",
    "\n",
    " (c) Applying log transform:\n",
    " \n",
    "     i. Equal-width: Potential change, log is not a linear function so value widths may change.\n",
    "     \n",
    "     ii. Equal frequency: No change, since all values remain in same order. \n",
    "     \n",
    "     iii. Entropy-based: No change, since order of the points dont change, the entropy will not change. \n",
    " \n",
    "Note: You do not have to list the elements assigned to each bin after the  transformation and discretization. You only need to answer whether it is possible for some of the elements to change their bin membership after the transformation and discretization. For example, suppose x3 was originally assigned to bin #2 using the equal width method. After applying the transformation, its value is converted to x3'. After applying equal width discretization on the transformed values, suppose x3' was assigned to bin #1. In this case, your answer for the equal-width method should be \"Yes it is affected by the transformation because ...\". However, if x3' remains in bin #2 after it was discretized, then your answer should be \"No it is not affected by the transformation because ...\""
   ]
  },
  {
   "cell_type": "markdown",
   "metadata": {},
   "source": [
    "**2.** Consider the following 2-week bike rental dataset:\n",
    "\n",
    "<img src = \"figure2.jpg\" width=\"450\">\n",
    "\n",
    "The data set contains missing values for the weight attribute (denoted as **?** in the table). Compare the following three approaches for imputing the missing values:\n",
    "\n",
    "   **Approach 1:** Discard the missing values.\n",
    "\n",
    "   **Approach 2:** Replace the missing value with the global mean (i.e., average number of rentals for all the non-missing days).\n",
    "   \n",
    "   **Approach 3:** Replace the missing value with the stratified mean. For example, if the missing value is on a weekday, replace it by the average number of rentals for all non-missing weekdays.  "
   ]
  },
  {
   "cell_type": "markdown",
   "metadata": {
    "collapsed": true
   },
   "source": [
    "**(a)** What are the imputed values for day 1 and day 12 using approaches 2 and 3 described above?\n",
    "\n",
    "**Solution:**\n"
   ]
  },
  {
   "cell_type": "code",
   "execution_count": 3,
   "metadata": {},
   "outputs": [
    {
     "name": "stdout",
     "output_type": "stream",
     "text": [
      "Day 1 \n",
      "approach 2: 170.0\n",
      "approach 3: 140.0\n",
      "Day 12\n",
      "approach 2: 170.0\n",
      "approach 3: 240.0\n"
     ]
    }
   ],
   "source": [
    "weekday = [130,150,110,130,120,180,160]\n",
    "weekend = [280,200,240]\n",
    "both = weekday+weekend\n",
    "print(\"Day 1 \")\n",
    "print('approach 2:',sum(both)/len(both))\n",
    "print('approach 3:',sum(weekday)/len(weekday) )\n",
    "print(\"Day 12\")\n",
    "print('approach 2:',sum(both)/len(both))\n",
    "print('approach 3:',sum(weekend)/len(weekend) )   "
   ]
  },
  {
   "cell_type": "markdown",
   "metadata": {
    "collapsed": true
   },
   "source": [
    "**(b)** Suppose we are interested in calculating the average number of rentals for all days (weekdays and weekends). Which approach, 2 or 3, will give the same average number of rentals for all days as approach 1?\n",
    "\n",
    "**Solution:**"
   ]
  },
  {
   "cell_type": "code",
   "execution_count": 4,
   "metadata": {},
   "outputs": [
    {
     "name": "stdout",
     "output_type": "stream",
     "text": [
      "Apprach 2 will be the same as apprach 1 since it inserts the average of the set before the two missing days into the values for the missing days\n",
      "Approach 1: 170.0\n",
      "Approach 2: 170.0\n",
      "Approach 3: 173.33333333333334\n"
     ]
    }
   ],
   "source": [
    "print(\"Apprach 2 will be the same as apprach 1 since it inserts the average of the set before the two missing days into the values for the missing days\")\n",
    "print(\"Approach 1:\", sum(both)/len(both))\n",
    "approach2 = both + [170,170]\n",
    "approach3 = both + [140,240]\n",
    "print(\"Approach 2:\", sum(approach2)/len(approach2))\n",
    "print(\"Approach 3:\", sum(approach3)/len(approach3))"
   ]
  },
  {
   "cell_type": "markdown",
   "metadata": {},
   "source": [
    "**(c)** Which of the three approaches is the best approach to deal with the missing value problem shown above. State your reasons clearly.\n",
    "\n",
    "**Solution**\n",
    "\n",
    "Approach 3 is the best approach since there are clearly more rentals on weekends than weekdays and the stratified mean would be a better representation for each category. Approach 2 is not as good, because it will produce a weekday with artifically high rentals, and a weekend with artifically low rentals. Approach 1 is not as good since the amount of data is fairly limited, and by throwing those points out you loose 10% of weekday data and 25% of weekend data."
   ]
  },
  {
   "cell_type": "markdown",
   "metadata": {},
   "source": [
    "  "
   ]
  },
  {
   "cell_type": "markdown",
   "metadata": {},
   "source": [
    "**(d)** Give a scenario in which approach 1 would be the best way to deal with the missing value problem.\n",
    "\n",
    "**Solution:**\n",
    "\n",
    "Approach 1 would be best if there was much more data. Especially for weekends in this case, if one was thrown out, there would only be 3 data entries for weekends, which is hard to form conclusions off of. "
   ]
  },
  {
   "cell_type": "markdown",
   "metadata": {},
   "source": [
    "**3.** In this exercise, you need to write a Python function that will implement the reservoir sampling approach described in class. Your Python function should take three input arguments: name of the input file, sample size (n), and seed (random_state) for the random number generator. The function should return the sample data as a data frame object. For this question, you can use the wiki_edit.txt file from lecture 4 as the input file. Set the sample size to be 10 and the random seed to be 1. \n",
    "\n",
    "**Solution:**"
   ]
  },
  {
   "cell_type": "code",
   "execution_count": 7,
   "metadata": {},
   "outputs": [],
   "source": [
    "import pandas as pd\n",
    "import numpy as np\n",
    "\n",
    "def reservoir_sampling(inputFile, n, random_state):\n",
    "    \"\"\"This function performs reservoir sampling from the given input file.\n",
    "    The function will return a dataframe object with n rows of records randomly\n",
    "    sampled with uniform probability from the input file.\"\"\"\n",
    "    \n",
    "    column_names = ['RevisionId', 'ArticleName', 'Timestamp', 'Editor']\n",
    "    data = pd.DataFrame(columns = column_names)\n",
    "    np.random.seed(random_state)\n",
    "\n",
    "    with open(inputFile,'r') as f:\n",
    "        i = 0\n",
    "        \n",
    "        for line in f:\n",
    "            d = line.strip().split(' ')\n",
    "            if i < n:\n",
    "                data.loc[i] = d\n",
    "            else:\n",
    "                r = np.random.rand()\n",
    "                if r <= n/i:\n",
    "                    index = np.random.randint(0,n)\n",
    "                    data.loc[index] = d\n",
    "            i += 1\n",
    "\n",
    "    return data"
   ]
  },
  {
   "cell_type": "code",
   "execution_count": 8,
   "metadata": {},
   "outputs": [
    {
     "data": {
      "text/html": [
       "<div>\n",
       "<style scoped>\n",
       "    .dataframe tbody tr th:only-of-type {\n",
       "        vertical-align: middle;\n",
       "    }\n",
       "\n",
       "    .dataframe tbody tr th {\n",
       "        vertical-align: top;\n",
       "    }\n",
       "\n",
       "    .dataframe thead th {\n",
       "        text-align: right;\n",
       "    }\n",
       "</style>\n",
       "<table border=\"1\" class=\"dataframe\">\n",
       "  <thead>\n",
       "    <tr style=\"text-align: right;\">\n",
       "      <th></th>\n",
       "      <th>RevisionId</th>\n",
       "      <th>ArticleName</th>\n",
       "      <th>Timestamp</th>\n",
       "      <th>Editor</th>\n",
       "    </tr>\n",
       "  </thead>\n",
       "  <tbody>\n",
       "    <tr>\n",
       "      <th>0</th>\n",
       "      <td>9061629</td>\n",
       "      <td>Palestine_(disambiguation)</td>\n",
       "      <td>2005-01-03</td>\n",
       "      <td>Mustafaa</td>\n",
       "    </tr>\n",
       "    <tr>\n",
       "      <th>1</th>\n",
       "      <td>9607632</td>\n",
       "      <td>List_of_important_publications_in_computer_sci...</td>\n",
       "      <td>2005-01-07</td>\n",
       "      <td>ip:145.97.222.38</td>\n",
       "    </tr>\n",
       "    <tr>\n",
       "      <th>2</th>\n",
       "      <td>9354349</td>\n",
       "      <td>Kid_Icarus</td>\n",
       "      <td>2005-01-14</td>\n",
       "      <td>Drat</td>\n",
       "    </tr>\n",
       "    <tr>\n",
       "      <th>3</th>\n",
       "      <td>9363777</td>\n",
       "      <td>Ragtime_(novel)</td>\n",
       "      <td>2005-01-14</td>\n",
       "      <td>ip:24.44.209.217</td>\n",
       "    </tr>\n",
       "    <tr>\n",
       "      <th>4</th>\n",
       "      <td>9227472</td>\n",
       "      <td>Fred_Seibert</td>\n",
       "      <td>2005-01-09</td>\n",
       "      <td>ip:67.117.218.13</td>\n",
       "    </tr>\n",
       "  </tbody>\n",
       "</table>\n",
       "</div>"
      ],
      "text/plain": [
       "  RevisionId                                        ArticleName   Timestamp  \\\n",
       "0    9061629                         Palestine_(disambiguation)  2005-01-03   \n",
       "1    9607632  List_of_important_publications_in_computer_sci...  2005-01-07   \n",
       "2    9354349                                         Kid_Icarus  2005-01-14   \n",
       "3    9363777                                    Ragtime_(novel)  2005-01-14   \n",
       "4    9227472                                       Fred_Seibert  2005-01-09   \n",
       "\n",
       "             Editor  \n",
       "0          Mustafaa  \n",
       "1  ip:145.97.222.38  \n",
       "2              Drat  \n",
       "3  ip:24.44.209.217  \n",
       "4  ip:67.117.218.13  "
      ]
     },
     "execution_count": 8,
     "metadata": {},
     "output_type": "execute_result"
    }
   ],
   "source": [
    "sample = reservoir_sampling('wiki_edit.txt', 10, 1)\n",
    "sample.head()"
   ]
  },
  {
   "cell_type": "markdown",
   "metadata": {},
   "source": [
    "**4.** For this question, you need to apply various regression methods to predict the pollution level in Beijing, China. Download the dataset from https://archive.ics.uci.edu/ml/datasets/Beijing+PM2.5+Data. Click on the Data Folder tab and save the file on your local machine. \n",
    "\n",
    "**(a)** Load the file into a pandas DataFrame object named data. Drop the columns named 'No', 'year', and 'cbwd'. You should check for missing values (NaN) in the pm2.5 column using the notnull() function and remove the rows that have missing values.\n",
    "\n",
    "**Solution:**"
   ]
  },
  {
   "cell_type": "code",
   "execution_count": 9,
   "metadata": {},
   "outputs": [
    {
     "data": {
      "text/html": [
       "<div>\n",
       "<style scoped>\n",
       "    .dataframe tbody tr th:only-of-type {\n",
       "        vertical-align: middle;\n",
       "    }\n",
       "\n",
       "    .dataframe tbody tr th {\n",
       "        vertical-align: top;\n",
       "    }\n",
       "\n",
       "    .dataframe thead th {\n",
       "        text-align: right;\n",
       "    }\n",
       "</style>\n",
       "<table border=\"1\" class=\"dataframe\">\n",
       "  <thead>\n",
       "    <tr style=\"text-align: right;\">\n",
       "      <th></th>\n",
       "      <th>month</th>\n",
       "      <th>day</th>\n",
       "      <th>hour</th>\n",
       "      <th>pm2.5</th>\n",
       "      <th>DEWP</th>\n",
       "      <th>TEMP</th>\n",
       "      <th>PRES</th>\n",
       "      <th>Iws</th>\n",
       "      <th>Is</th>\n",
       "      <th>Ir</th>\n",
       "    </tr>\n",
       "  </thead>\n",
       "  <tbody>\n",
       "    <tr>\n",
       "      <th>24</th>\n",
       "      <td>1</td>\n",
       "      <td>2</td>\n",
       "      <td>0</td>\n",
       "      <td>129.0</td>\n",
       "      <td>-16</td>\n",
       "      <td>-4.0</td>\n",
       "      <td>1020.0</td>\n",
       "      <td>1.79</td>\n",
       "      <td>0</td>\n",
       "      <td>0</td>\n",
       "    </tr>\n",
       "    <tr>\n",
       "      <th>25</th>\n",
       "      <td>1</td>\n",
       "      <td>2</td>\n",
       "      <td>1</td>\n",
       "      <td>148.0</td>\n",
       "      <td>-15</td>\n",
       "      <td>-4.0</td>\n",
       "      <td>1020.0</td>\n",
       "      <td>2.68</td>\n",
       "      <td>0</td>\n",
       "      <td>0</td>\n",
       "    </tr>\n",
       "    <tr>\n",
       "      <th>26</th>\n",
       "      <td>1</td>\n",
       "      <td>2</td>\n",
       "      <td>2</td>\n",
       "      <td>159.0</td>\n",
       "      <td>-11</td>\n",
       "      <td>-5.0</td>\n",
       "      <td>1021.0</td>\n",
       "      <td>3.57</td>\n",
       "      <td>0</td>\n",
       "      <td>0</td>\n",
       "    </tr>\n",
       "    <tr>\n",
       "      <th>27</th>\n",
       "      <td>1</td>\n",
       "      <td>2</td>\n",
       "      <td>3</td>\n",
       "      <td>181.0</td>\n",
       "      <td>-7</td>\n",
       "      <td>-5.0</td>\n",
       "      <td>1022.0</td>\n",
       "      <td>5.36</td>\n",
       "      <td>1</td>\n",
       "      <td>0</td>\n",
       "    </tr>\n",
       "    <tr>\n",
       "      <th>28</th>\n",
       "      <td>1</td>\n",
       "      <td>2</td>\n",
       "      <td>4</td>\n",
       "      <td>138.0</td>\n",
       "      <td>-7</td>\n",
       "      <td>-5.0</td>\n",
       "      <td>1022.0</td>\n",
       "      <td>6.25</td>\n",
       "      <td>2</td>\n",
       "      <td>0</td>\n",
       "    </tr>\n",
       "  </tbody>\n",
       "</table>\n",
       "</div>"
      ],
      "text/plain": [
       "    month  day  hour  pm2.5  DEWP  TEMP    PRES   Iws  Is  Ir\n",
       "24      1    2     0  129.0   -16  -4.0  1020.0  1.79   0   0\n",
       "25      1    2     1  148.0   -15  -4.0  1020.0  2.68   0   0\n",
       "26      1    2     2  159.0   -11  -5.0  1021.0  3.57   0   0\n",
       "27      1    2     3  181.0    -7  -5.0  1022.0  5.36   1   0\n",
       "28      1    2     4  138.0    -7  -5.0  1022.0  6.25   2   0"
      ]
     },
     "execution_count": 9,
     "metadata": {},
     "output_type": "execute_result"
    }
   ],
   "source": [
    "import pandas as pd\n",
    "\n",
    "data = pd.read_csv('PRSA_data_2010.1.1-2014.12.31.csv', header='infer')\n",
    "# drop the columns named 'No', 'year', and 'cbwd'\n",
    "data = data.drop(['No','year','cbwd'], axis =1)\n",
    "# drop the rows that contain missing values in the 'pm2.5' column.\n",
    "data = data.dropna(subset = ['pm2.5'])\n",
    "data.head()"
   ]
  },
  {
   "cell_type": "markdown",
   "metadata": {},
   "source": [
    "**(b)** Standardize all the columns by subtracting each column with its corresponding mean and dividing by its standard deviation. Store the result in a dataframe object named Z. Set the target attribute y to be the pm2.5 column and the rest of the columns as predictor attributes X.  \n",
    "\n",
    "**Solution:**"
   ]
  },
  {
   "cell_type": "code",
   "execution_count": 10,
   "metadata": {},
   "outputs": [
    {
     "data": {
      "text/plain": [
       "24    0.330110\n",
       "25    0.536519\n",
       "26    0.656019\n",
       "27    0.895018\n",
       "28    0.427883\n",
       "Name: pm2.5, dtype: float64"
      ]
     },
     "execution_count": 10,
     "metadata": {},
     "output_type": "execute_result"
    }
   ],
   "source": [
    "Z = data.copy().apply(lambda x: (x - x.mean())/x.std())\n",
    "X = Z.drop(['pm2.5'], axis = 1)\n",
    "y = Z['pm2.5']\n",
    "y.head()"
   ]
  },
  {
   "cell_type": "markdown",
   "metadata": {
    "collapsed": true
   },
   "source": [
    "**(c)** Divide the data into training and test sets using a 70:30 split. \n",
    "\n",
    "**Solution:**"
   ]
  },
  {
   "cell_type": "code",
   "execution_count": 11,
   "metadata": {},
   "outputs": [],
   "source": [
    "from sklearn.model_selection import train_test_split\n",
    "\n",
    "X_train, X_test, y_train, y_test = train_test_split(X, y, test_size=0.3, random_state=1)"
   ]
  },
  {
   "cell_type": "markdown",
   "metadata": {},
   "source": [
    "**(d)** Apply multiple linear regression on the dataset and compute the RMSE (root mean square error) and R-square values of the model when applied to the test set. \n",
    "\n",
    "**Solution:**"
   ]
  },
  {
   "cell_type": "code",
   "execution_count": 12,
   "metadata": {},
   "outputs": [
    {
     "name": "stdout",
     "output_type": "stream",
     "text": [
      "Root mean squared error = 0.8485\n",
      "R-square = 0.2560\n"
     ]
    }
   ],
   "source": [
    "from sklearn import linear_model\n",
    "from sklearn.metrics import mean_squared_error, r2_score\n",
    "\n",
    "# Create linear regression object\n",
    "regr = linear_model.LinearRegression()\n",
    "\n",
    "# Fit regression model to the training set\n",
    "regr.fit(X_train, y_train)\n",
    "\n",
    "# Apply model to the test set\n",
    "y_pred_test = regr.predict(X_test)\n",
    "\n",
    "\n",
    "print(\"Root mean squared error = %.4f\" % np.sqrt(mean_squared_error(y_test, y_pred_test)) )\n",
    "print(\"R-square = %.4f\" % r2_score(y_test, y_pred_test))"
   ]
  },
  {
   "cell_type": "markdown",
   "metadata": {},
   "source": [
    "**(e)** Apply Lasso regression with 5 fold cross validation to determine the best hyperparameter values. The regularizer alpha should be chosen from the set {0.005, 0.01, 0.02, 0.05, 0.1, 0.5, 0.8, 1.0}. Compute the RMSE (root mean square error) and R-square values of the model when applied to the test set. \n",
    "\n",
    "**Solution:**"
   ]
  },
  {
   "cell_type": "code",
   "execution_count": 13,
   "metadata": {},
   "outputs": [
    {
     "name": "stdout",
     "output_type": "stream",
     "text": [
      "Root mean squared error = 0.8487\n",
      "R-square = 0.2556\n"
     ]
    }
   ],
   "source": [
    "lasso = linear_model.LassoCV(cv=5, alphas=[0.005, 0.01, 0.02, 0.05, 0.1, 0.5, 0.8, 1.0])\n",
    "lasso.fit(X_train, y_train.ravel())\n",
    "y_pred_train_lasso = lasso.predict(X_train)\n",
    "y_pred_test_lasso = lasso.predict(X_test)\n",
    "\n",
    "print(\"Root mean squared error = %.4f\" % np.sqrt(mean_squared_error(y_test,y_pred_test_lasso)) )\n",
    "print(\"R-square = %.4f\" % r2_score(y_test,y_pred_test_lasso))"
   ]
  },
  {
   "cell_type": "markdown",
   "metadata": {},
   "source": [
    "**(f)** Apply multi-layer perceptron neural network with 1 hidden layer and 8 hidden nodes. Compute the RMSE (root mean square error) and R-square values of the model when applied to the test set. \n",
    "\n",
    "**Solution:**"
   ]
  },
  {
   "cell_type": "code",
   "execution_count": 14,
   "metadata": {},
   "outputs": [
    {
     "name": "stdout",
     "output_type": "stream",
     "text": [
      "Root mean squared error = 0.6779\n",
      "R-square = 0.5251\n"
     ]
    }
   ],
   "source": [
    "from sklearn import neural_network\n",
    "from sklearn.metrics import accuracy_score\n",
    "\n",
    "mlp = neural_network.MLPRegressor(hidden_layer_sizes=(8,), activation='logistic', max_iter=2000, random_state=1)\n",
    "mlp = mlp.fit(X_train, y_train.ravel())\n",
    "y_pred_train_mlp = mlp.predict(X_train)\n",
    "y_pred_test_mlp = mlp.predict(X_test)\n",
    "\n",
    "\n",
    "print(\"Root mean squared error = %.4f\" % np.sqrt(mean_squared_error(y_test, y_pred_test_mlp)) )\n",
    "print(\"R-square = %.4f\" % r2_score(y_test, y_pred_test_mlp))"
   ]
  },
  {
   "cell_type": "markdown",
   "metadata": {},
   "source": [
    "**5.** Decision tree construction. \n",
    "\n",
    "**(a)** Draw a decision tree that would perfectly classify the dataset shown below. The dataset has 2 predictor attributes, denoted as x1 and x2, which were partitioned into 3 classes (denoted as A, B, and C). You can draw the tree using any software you want (e.g., powerpoint), save it as a jpeg/bmp/png image, and attach it to the notebook.\n",
    "\n",
    "<img src = \"dtree.jpg\" width=\"250\">"
   ]
  },
  {
   "attachments": {
    "image.png": {
     "image/png": "[encoded data removed]"
    }
   },
   "cell_type": "markdown",
   "metadata": {},
   "source": [
    "**Solution:** Attach your decision tree figure here.\n",
    "dTree![image.png](attachment:image.png)\n",
    "\n",
    "<img src = \"dtree.png\" width=\"600\">"
   ]
  },
  {
   "attachments": {
    "image.png": {
     "image/png": "[encoded data removed]"
    }
   },
   "cell_type": "markdown",
   "metadata": {},
   "source": [
    "**(b)** Consider the following training data for predicting whether there will be traffic congestion on a given segment of an interstate highway. Each data point corresponds to a particular time of day and is classified either as positive (if the highway segment was  congested) or negative (if it was not congested) class. Suppose you are interested in building a decision tree classifier on the training data. Compute the overall Gini index for each predictor attribute (construction and weather condition) and select the best attribute to partition the training data. \n",
    "\n",
    "<img src = \"congestion.jpg\" width=\"350\">\n",
    "\n",
    "**Solution:**\n",
    "![image.png](attachment:image.png)\n",
    "\n",
    "Best attribute to partition the training data is the weather condition"
   ]
  },
  {
   "cell_type": "markdown",
   "metadata": {},
   "source": [
    "   "
   ]
  },
  {
   "cell_type": "markdown",
   "metadata": {},
   "source": [
    "**6.** Classifier Evaluation\n",
    "\n",
    "**(a)** Consider the decision tree shown below for classifying a dataset that contains examples that belong to 2 classes (positive or negative). The distribution of training examples that were assigned to each leaf node is also shown in the diagram. Draw a 2 $\\times$ 2 confusion matrix of the tree.\n",
    "\n",
    "<img src = \"dtree2.jpg\" width=\"300\">\n",
    "\n",
    "**Solution:**"
   ]
  },
  {
   "attachments": {
    "image.png": {
     "image/png": "[encoded data removed]"
    }
   },
   "cell_type": "markdown",
   "metadata": {},
   "source": [
    "confusionMatrix![image.png](attachment:image.png)"
   ]
  },
  {
   "cell_type": "markdown",
   "metadata": {},
   "source": [
    "**(b)** Calculate the training error rate of the decision tree.\n",
    "\n",
    "**Solution:**"
   ]
  },
  {
   "cell_type": "code",
   "execution_count": 15,
   "metadata": {},
   "outputs": [
    {
     "name": "stdout",
     "output_type": "stream",
     "text": [
      "Training Error Rate: 25.00%\n"
     ]
    }
   ],
   "source": [
    "incorrectPositivePredictions = 15\n",
    "incorrectNegativePredictions = 10\n",
    "totalSum = 35+15+10+40\n",
    "errorRate = (incorrectNegativePredictions + incorrectPositivePredictions)/totalSum\n",
    "print(\"Training Error Rate: {:.2%}\".format(errorRate))\n",
    "\n"
   ]
  },
  {
   "cell_type": "markdown",
   "metadata": {},
   "source": [
    "**(c)** Calculate the F1-measure of the tree for the training data.\n",
    "\n",
    "**Solution:**"
   ]
  },
  {
   "cell_type": "code",
   "execution_count": 16,
   "metadata": {},
   "outputs": [
    {
     "name": "stdout",
     "output_type": "stream",
     "text": [
      "p = 77.78%\n",
      "r = 70.00%\n",
      "f1 = 73.68%\n"
     ]
    }
   ],
   "source": [
    "correctPositivePredictions = 35\n",
    "positivePredictions = 35+10\n",
    "positiveInstances = 35+15\n",
    "p = correctPositivePredictions/positivePredictions\n",
    "r = correctPositivePredictions/positiveInstances\n",
    "f1 = 2*r*p/(r+p)\n",
    "print(\"p = {:.2%}\".format(p))\n",
    "print(\"r = {:.2%}\".format(r))\n",
    "print(\"f1 = {:.2%}\".format(f1))"
   ]
  },
  {
   "cell_type": "code",
   "execution_count": null,
   "metadata": {},
   "outputs": [],
   "source": []
  }
 ],
 "metadata": {
  "kernelspec": {
   "display_name": "Python 3",
   "language": "python",
   "name": "python3"
  },
  "language_info": {
   "codemirror_mode": {
    "name": "ipython",
    "version": 3
   },
   "file_extension": ".py",
   "mimetype": "text/x-python",
   "name": "python",
   "nbconvert_exporter": "python",
   "pygments_lexer": "ipython3",
   "version": "3.7.1"
  }
 },
 "nbformat": 4,
 "nbformat_minor": 2
}
