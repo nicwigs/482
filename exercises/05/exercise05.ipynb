{
 "cells": [
  {
   "cell_type": "markdown",
   "metadata": {},
   "source": [
    "# CSE 482 Exercise 5 (Date: February 8, 2019)\n",
    "\n",
    "In this exercise, you will learn how to train regression models to predict the price of a stock. The goal is to answer the question: Can we predict the stock price using its historical information only? Submit the notebook along with its HTML version to D2L."
   ]
  },
  {
   "cell_type": "markdown",
   "metadata": {},
   "source": [
    "**1.** In this exercise, you will attempt to predict changes in the daily price of a stock. Our goal is to predict the change in the closing price of a stock based on changes observed in the previous 4 trading days. Specifically, we will use the stock price of McDonalds Corporation as an example. First, you need to download the stock price dataset from the Yahoo finance website:\n",
    "\n",
    "    a. Open a browser and go to http://finance.yahoo.com\n",
    "    \n",
    "    b. The stock ticker symbol for McDonalds Corporation is MCD. Type MCD in the search bar on the top of the page. It will display the current stockprice for McDonalds.\n",
    "    \n",
    "    c. Use the historical data tab and select the time period from 1/1/1990 to 12/31/2018. Click on the \"Apply\" button.\n",
    "    \n",
    "    d. Use the \"Download Data\" link and save the data in CSV format (as data.csv) on your local machine."
   ]
  },
  {
   "cell_type": "markdown",
   "metadata": {},
   "source": [
    "**2.** Use pandas to load the CSV file into a DataFrame object named 'data'. Display the first five rows of the data frame.\n",
    "\n",
    "**Solution:**"
   ]
  },
  {
   "cell_type": "code",
   "execution_count": 1,
   "metadata": {},
   "outputs": [
    {
     "data": {
      "text/html": [
       "<div>\n",
       "<style scoped>\n",
       "    .dataframe tbody tr th:only-of-type {\n",
       "        vertical-align: middle;\n",
       "    }\n",
       "\n",
       "    .dataframe tbody tr th {\n",
       "        vertical-align: top;\n",
       "    }\n",
       "\n",
       "    .dataframe thead th {\n",
       "        text-align: right;\n",
       "    }\n",
       "</style>\n",
       "<table border=\"1\" class=\"dataframe\">\n",
       "  <thead>\n",
       "    <tr style=\"text-align: right;\">\n",
       "      <th></th>\n",
       "      <th>Date</th>\n",
       "      <th>Open</th>\n",
       "      <th>High</th>\n",
       "      <th>Low</th>\n",
       "      <th>Close</th>\n",
       "      <th>Adj Close</th>\n",
       "      <th>Volume</th>\n",
       "    </tr>\n",
       "  </thead>\n",
       "  <tbody>\n",
       "    <tr>\n",
       "      <th>0</th>\n",
       "      <td>1990-01-02</td>\n",
       "      <td>8.59375</td>\n",
       "      <td>8.71875</td>\n",
       "      <td>8.56250</td>\n",
       "      <td>8.71875</td>\n",
       "      <td>4.271320</td>\n",
       "      <td>3128000</td>\n",
       "    </tr>\n",
       "    <tr>\n",
       "      <th>1</th>\n",
       "      <td>1990-01-03</td>\n",
       "      <td>8.68750</td>\n",
       "      <td>8.68750</td>\n",
       "      <td>8.56250</td>\n",
       "      <td>8.62500</td>\n",
       "      <td>4.225395</td>\n",
       "      <td>4244800</td>\n",
       "    </tr>\n",
       "    <tr>\n",
       "      <th>2</th>\n",
       "      <td>1990-01-04</td>\n",
       "      <td>8.62500</td>\n",
       "      <td>8.65625</td>\n",
       "      <td>8.43750</td>\n",
       "      <td>8.46875</td>\n",
       "      <td>4.148847</td>\n",
       "      <td>3026400</td>\n",
       "    </tr>\n",
       "    <tr>\n",
       "      <th>3</th>\n",
       "      <td>1990-01-05</td>\n",
       "      <td>8.43750</td>\n",
       "      <td>8.50000</td>\n",
       "      <td>8.21875</td>\n",
       "      <td>8.31250</td>\n",
       "      <td>4.072302</td>\n",
       "      <td>4822400</td>\n",
       "    </tr>\n",
       "    <tr>\n",
       "      <th>4</th>\n",
       "      <td>1990-01-08</td>\n",
       "      <td>8.28125</td>\n",
       "      <td>8.50000</td>\n",
       "      <td>8.21875</td>\n",
       "      <td>8.46875</td>\n",
       "      <td>4.148847</td>\n",
       "      <td>3346000</td>\n",
       "    </tr>\n",
       "  </tbody>\n",
       "</table>\n",
       "</div>"
      ],
      "text/plain": [
       "         Date     Open     High      Low    Close  Adj Close   Volume\n",
       "0  1990-01-02  8.59375  8.71875  8.56250  8.71875   4.271320  3128000\n",
       "1  1990-01-03  8.68750  8.68750  8.56250  8.62500   4.225395  4244800\n",
       "2  1990-01-04  8.62500  8.65625  8.43750  8.46875   4.148847  3026400\n",
       "3  1990-01-05  8.43750  8.50000  8.21875  8.31250   4.072302  4822400\n",
       "4  1990-01-08  8.28125  8.50000  8.21875  8.46875   4.148847  3346000"
      ]
     },
     "execution_count": 1,
     "metadata": {},
     "output_type": "execute_result"
    }
   ],
   "source": [
    "import pandas as pd\n",
    "%matplotlib inline\n",
    "\n",
    "data = pd.read_csv('data.csv')\n",
    "data.head()"
   ]
  },
  {
   "cell_type": "markdown",
   "metadata": {},
   "source": [
    "**3.** Extract a Series object named closingPrice based on the \"Close\" column of the data frame. Set the index of the closingPrice Series to be the same as the \"Date\" column of the data frame. Draw a line plot to display the daily closing price of the stock."
   ]
  },
  {
   "cell_type": "code",
   "execution_count": 2,
   "metadata": {},
   "outputs": [
    {
     "data": {
      "text/plain": [
       "[Text(0, 0.5, 'Closing Price')]"
      ]
     },
     "execution_count": 2,
     "metadata": {},
     "output_type": "execute_result"
    },
    {
     "data": {
      "image/png": "[encoded data removed]",
      "text/plain": [
       "<Figure size 432x288 with 1 Axes>"
      ]
     },
     "metadata": {
      "needs_background": "light"
     },
     "output_type": "display_data"
    }
   ],
   "source": [
    "closingPrice = data.Close\n",
    "closingPrice.index = data.Date\n",
    "ax = closingPrice.plot(kind='line')\n",
    "ax.set(ylabel='Closing Price')"
   ]
  },
  {
   "cell_type": "markdown",
   "metadata": {},
   "source": [
    "**4.** Create a Series object for the target variable Y that contains the change in the daily closing price of the stock. To do this, you need subtract the closing price of each day with the corresponding closing price of its previous day. Display the first 5 values of the series and draw a line plot of the time series.\n",
    "\n",
    "**Solution:**"
   ]
  },
  {
   "cell_type": "code",
   "execution_count": 3,
   "metadata": {},
   "outputs": [
    {
     "data": {
      "text/plain": [
       "Date\n",
       "1990-01-03   -0.09375\n",
       "1990-01-04   -0.15625\n",
       "1990-01-05   -0.15625\n",
       "1990-01-08    0.15625\n",
       "1990-01-09   -0.06250\n",
       "dtype: float64"
      ]
     },
     "execution_count": 3,
     "metadata": {},
     "output_type": "execute_result"
    },
    {
     "data": {
      "image/png": "[encoded data removed]",
      "text/plain": [
       "<Figure size 432x288 with 1 Axes>"
      ]
     },
     "metadata": {
      "needs_background": "light"
     },
     "output_type": "display_data"
    }
   ],
   "source": [
    "N = closingPrice.shape[0]\n",
    "Y = pd.Series(closingPrice[1:].values - closingPrice[:N-1].values, index=closingPrice.index[1:])\n",
    "Y.plot(kind='line')\n",
    "Y.head()"
   ]
  },
  {
   "cell_type": "markdown",
   "metadata": {},
   "source": [
    "**5.** We will use the change in the closing price of its 4 previous days as predictor variables. Create a dataframe called X that has 4 columns, which correspond to the price changes from its previous 4 trading days.\n",
    "\n",
    "**Solution:**"
   ]
  },
  {
   "cell_type": "code",
   "execution_count": 4,
   "metadata": {},
   "outputs": [
    {
     "data": {
      "text/html": [
       "<div>\n",
       "<style scoped>\n",
       "    .dataframe tbody tr th:only-of-type {\n",
       "        vertical-align: middle;\n",
       "    }\n",
       "\n",
       "    .dataframe tbody tr th {\n",
       "        vertical-align: top;\n",
       "    }\n",
       "\n",
       "    .dataframe thead th {\n",
       "        text-align: right;\n",
       "    }\n",
       "</style>\n",
       "<table border=\"1\" class=\"dataframe\">\n",
       "  <thead>\n",
       "    <tr style=\"text-align: right;\">\n",
       "      <th></th>\n",
       "      <th>t-4</th>\n",
       "      <th>t-3</th>\n",
       "      <th>t-2</th>\n",
       "      <th>t-1</th>\n",
       "    </tr>\n",
       "    <tr>\n",
       "      <th>Date</th>\n",
       "      <th></th>\n",
       "      <th></th>\n",
       "      <th></th>\n",
       "      <th></th>\n",
       "    </tr>\n",
       "  </thead>\n",
       "  <tbody>\n",
       "    <tr>\n",
       "      <th>1990-01-09</th>\n",
       "      <td>-0.09375</td>\n",
       "      <td>-0.15625</td>\n",
       "      <td>-0.15625</td>\n",
       "      <td>0.15625</td>\n",
       "    </tr>\n",
       "    <tr>\n",
       "      <th>1990-01-10</th>\n",
       "      <td>-0.15625</td>\n",
       "      <td>-0.15625</td>\n",
       "      <td>0.15625</td>\n",
       "      <td>-0.06250</td>\n",
       "    </tr>\n",
       "    <tr>\n",
       "      <th>1990-01-11</th>\n",
       "      <td>-0.15625</td>\n",
       "      <td>0.15625</td>\n",
       "      <td>-0.06250</td>\n",
       "      <td>-0.15625</td>\n",
       "    </tr>\n",
       "    <tr>\n",
       "      <th>1990-01-12</th>\n",
       "      <td>0.15625</td>\n",
       "      <td>-0.06250</td>\n",
       "      <td>-0.15625</td>\n",
       "      <td>-0.06250</td>\n",
       "    </tr>\n",
       "    <tr>\n",
       "      <th>1990-01-15</th>\n",
       "      <td>-0.06250</td>\n",
       "      <td>-0.15625</td>\n",
       "      <td>-0.06250</td>\n",
       "      <td>-0.15625</td>\n",
       "    </tr>\n",
       "  </tbody>\n",
       "</table>\n",
       "</div>"
      ],
      "text/plain": [
       "                t-4      t-3      t-2      t-1\n",
       "Date                                          \n",
       "1990-01-09 -0.09375 -0.15625 -0.15625  0.15625\n",
       "1990-01-10 -0.15625 -0.15625  0.15625 -0.06250\n",
       "1990-01-11 -0.15625  0.15625 -0.06250 -0.15625\n",
       "1990-01-12  0.15625 -0.06250 -0.15625 -0.06250\n",
       "1990-01-15 -0.06250 -0.15625 -0.06250 -0.15625"
      ]
     },
     "execution_count": 4,
     "metadata": {},
     "output_type": "execute_result"
    }
   ],
   "source": [
    "N = Y.shape[0]\n",
    "X = pd.DataFrame( Y[:N-3].values,columns=['t-4'])\n",
    "X['t-3'] = Y[1:N-2].values\n",
    "X['t-2'] = Y[2:N-1].values\n",
    "X['t-1'] = Y[3:N].values\n",
    "X = X[:-1]\n",
    "X.index = Y[4:].index\n",
    "X.head()"
   ]
  },
  {
   "cell_type": "markdown",
   "metadata": {},
   "source": [
    "**6.** Extract the corresponding target values starting from 1990-01-09 until 2018-12-31. Make sure the number of rows and dates in Y are consistent with those for X."
   ]
  },
  {
   "cell_type": "code",
   "execution_count": 5,
   "metadata": {},
   "outputs": [
    {
     "data": {
      "text/plain": [
       "Date\n",
       "1990-01-09   -0.06250\n",
       "1990-01-10   -0.15625\n",
       "1990-01-11   -0.06250\n",
       "1990-01-12   -0.15625\n",
       "1990-01-15   -0.09375\n",
       "dtype: float64"
      ]
     },
     "execution_count": 5,
     "metadata": {},
     "output_type": "execute_result"
    }
   ],
   "source": [
    "y = Y[(Y.index >= \"1990-01-09\") & (Y.index <= \"2018-12-31\") ]\n",
    "y.head()"
   ]
  },
  {
   "cell_type": "markdown",
   "metadata": {},
   "source": [
    "**7.** Divide the data into 70% training and 30% test sets using scikit-learn train_test_split. Set the random state to be 1.\n",
    "\n",
    "**Solution:**"
   ]
  },
  {
   "cell_type": "code",
   "execution_count": 6,
   "metadata": {},
   "outputs": [],
   "source": [
    "from sklearn.model_selection import train_test_split\n",
    "\n",
    "X_train, X_test, y_train, y_test = train_test_split(X, y, test_size= 0.30 , random_state=1)"
   ]
  },
  {
   "cell_type": "markdown",
   "metadata": {},
   "source": [
    "**8.** Fit a linear regression model to the training data. Apply the model to predict the stock price in the test data and calculate its root-mean-square error and r-square coefficient. Print the regression coefficients (slope and intercept) of the model.\n",
    "\n",
    "**Solution:**"
   ]
  },
  {
   "cell_type": "code",
   "execution_count": 7,
   "metadata": {},
   "outputs": [
    {
     "name": "stdout",
     "output_type": "stream",
     "text": [
      "Root mean squared error = 0.8020\n",
      "R-square = 0.0018\n",
      "Slope Coefficients: [-0.02109665 -0.00565807 -0.03362753 -0.04991953]\n",
      "Intercept: 0.018858689104709697\n"
     ]
    }
   ],
   "source": [
    "from sklearn import linear_model\n",
    "from sklearn.metrics import mean_squared_error, r2_score\n",
    "import matplotlib.pyplot as plt\n",
    "import numpy as np\n",
    "\n",
    "# Create linear regression object\n",
    "regr = linear_model.LinearRegression()\n",
    "\n",
    "# Fit regression model to the training set\n",
    "regr.fit(X_train, y_train)\n",
    "\n",
    "# Apply model to the test set\n",
    "y_pred_test = regr.predict(X_test)\n",
    "\n",
    "print(\"Root mean squared error = %.4f\" % np.sqrt(mean_squared_error(y_test, y_pred_test)) )\n",
    "print(\"R-square = %.4f\" % r2_score(y_test, y_pred_test) )\n",
    "print('Slope Coefficients:', regr.coef_)\n",
    "print('Intercept:', regr.intercept_)"
   ]
  },
  {
   "cell_type": "markdown",
   "metadata": {},
   "source": [
    "**9.** Based on the results, determine whether it is possible to build an accurate linear regression model to predict the price of a stock based on its historical prices. Answer yes or no.\n",
    "\n",
    "No. R-square is very small. Even with more than 4 days, this is not an accurate method. "
   ]
  },
  {
   "cell_type": "markdown",
   "metadata": {},
   "source": [
    "   "
   ]
  }
 ],
 "metadata": {
  "anaconda-cloud": {},
  "kernelspec": {
   "display_name": "Python 3",
   "language": "python",
   "name": "python3"
  },
  "language_info": {
   "codemirror_mode": {
    "name": "ipython",
    "version": 3
   },
   "file_extension": ".py",
   "mimetype": "text/x-python",
   "name": "python",
   "nbconvert_exporter": "python",
   "pygments_lexer": "ipython3",
   "version": "3.7.1"
  }
 },
 "nbformat": 4,
 "nbformat_minor": 1
}
