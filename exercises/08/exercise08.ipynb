{
 "cells": [
  {
   "cell_type": "markdown",
   "metadata": {},
   "source": [
    "# CSE 482 Exercise 8 (Date: March 15, 2019)\n",
    "\n",
    "In this exercise, you will apply anomaly detection and collaborative filtering to real-world datasets. Submit the notebook along with its HTML version via D2L."
   ]
  },
  {
   "cell_type": "markdown",
   "metadata": {},
   "source": [
    "**1. Anomaly Detection**\n",
    "\n",
    "a. Download the dataset named *anomaly.csv* from the class website. In this exercise, you will need to apply scikit-learn anomaly detection algorithm to detect cyberattacks from http traffic. The original data was obtained from http://odds.cs.stonybrook.edu/http-kddcup99-dataset/.  \n",
    "\n",
    "b. Use pandas to load the file anomaly.csv into a DataFrame object named data. Display the first 5 records of the data object. Note that the last column of the table corresponds to the true class of each http connection (0 means normal traffic and 1 means anomalous traffic, i.e., intrusions).\n",
    "\n",
    "**Solution:**"
   ]
  },
  {
   "cell_type": "code",
   "execution_count": 1,
   "metadata": {},
   "outputs": [
    {
     "data": {
      "text/html": [
       "<div>\n",
       "<style scoped>\n",
       "    .dataframe tbody tr th:only-of-type {\n",
       "        vertical-align: middle;\n",
       "    }\n",
       "\n",
       "    .dataframe tbody tr th {\n",
       "        vertical-align: top;\n",
       "    }\n",
       "\n",
       "    .dataframe thead th {\n",
       "        text-align: right;\n",
       "    }\n",
       "</style>\n",
       "<table border=\"1\" class=\"dataframe\">\n",
       "  <thead>\n",
       "    <tr style=\"text-align: right;\">\n",
       "      <th></th>\n",
       "      <th>Duration</th>\n",
       "      <th>Src_Bytes</th>\n",
       "      <th>Dest_Bytes</th>\n",
       "      <th>Class</th>\n",
       "    </tr>\n",
       "  </thead>\n",
       "  <tbody>\n",
       "    <tr>\n",
       "      <th>0</th>\n",
       "      <td>-2.3026</td>\n",
       "      <td>5.2155</td>\n",
       "      <td>4.8211</td>\n",
       "      <td>0</td>\n",
       "    </tr>\n",
       "    <tr>\n",
       "      <th>1</th>\n",
       "      <td>-2.3026</td>\n",
       "      <td>5.0882</td>\n",
       "      <td>8.4181</td>\n",
       "      <td>0</td>\n",
       "    </tr>\n",
       "    <tr>\n",
       "      <th>2</th>\n",
       "      <td>-2.3026</td>\n",
       "      <td>5.2938</td>\n",
       "      <td>10.7160</td>\n",
       "      <td>0</td>\n",
       "    </tr>\n",
       "    <tr>\n",
       "      <th>3</th>\n",
       "      <td>-2.3026</td>\n",
       "      <td>5.3895</td>\n",
       "      <td>7.1983</td>\n",
       "      <td>0</td>\n",
       "    </tr>\n",
       "    <tr>\n",
       "      <th>4</th>\n",
       "      <td>-2.3026</td>\n",
       "      <td>5.3618</td>\n",
       "      <td>9.1649</td>\n",
       "      <td>0</td>\n",
       "    </tr>\n",
       "  </tbody>\n",
       "</table>\n",
       "</div>"
      ],
      "text/plain": [
       "   Duration  Src_Bytes  Dest_Bytes  Class\n",
       "0   -2.3026     5.2155      4.8211      0\n",
       "1   -2.3026     5.0882      8.4181      0\n",
       "2   -2.3026     5.2938     10.7160      0\n",
       "3   -2.3026     5.3895      7.1983      0\n",
       "4   -2.3026     5.3618      9.1649      0"
      ]
     },
     "execution_count": 1,
     "metadata": {},
     "output_type": "execute_result"
    }
   ],
   "source": [
    "import pandas as pd\n",
    "\n",
    "data = pd.read_csv(\"anomaly.csv\")\n",
    "\n",
    "data.head()"
   ]
  },
  {
   "cell_type": "markdown",
   "metadata": {},
   "source": [
    "c. Extract the \"Class\" column into a series object named labels. Remove the \"Class\" column from the data object.  "
   ]
  },
  {
   "cell_type": "code",
   "execution_count": 2,
   "metadata": {},
   "outputs": [],
   "source": [
    "labels = data['Class']    # extract the Class column; this will store the true class for each datapoint\n",
    "data = data.drop('Class', axis = 1)     # remove the Class column"
   ]
  },
  {
   "cell_type": "markdown",
   "metadata": {},
   "source": [
    "d. Use scikit-learn to detect outliers in the dataset based on the distance to the 100th nearest neighbors of each data instance. Note that in scikit-learn NearestNeighbors(), the 1-nearest neighbor for each data instance is the instance itself, with the distance value being equal to 0. Thus, you must exclude the instance itself when determining the 100th nearest neighbors. Plot a histogram that shows the distance between each data instance to its 100th nearest neighbor. **Note:** Use the default distance metric instead of correlation to determine the nearest neighbors.\n",
    "\n",
    "**Solution:**"
   ]
  },
  {
   "cell_type": "code",
   "execution_count": 3,
   "metadata": {},
   "outputs": [
    {
     "data": {
      "text/plain": [
       "(array([2.8063e+04, 7.6000e+01, 6.6000e+01, 2.8000e+01, 9.5000e+01,\n",
       "        1.0000e+00, 1.0000e+00, 5.0000e+00, 0.0000e+00, 2.3000e+01]),\n",
       " array([ 0.019     ,  1.0789149 ,  2.1388298 ,  3.1987447 ,  4.2586596 ,\n",
       "         5.3185745 ,  6.3784894 ,  7.4384043 ,  8.49831919,  9.55823409,\n",
       "        10.61814899]),\n",
       " <a list of 10 Patch objects>)"
      ]
     },
     "execution_count": 3,
     "metadata": {},
     "output_type": "execute_result"
    },
    {
     "data": {
      "image/png": "[encoded data removed]",
      "text/plain": [
       "<Figure size 432x288 with 1 Axes>"
      ]
     },
     "metadata": {
      "needs_background": "light"
     },
     "output_type": "display_data"
    }
   ],
   "source": [
    "from sklearn.neighbors import NearestNeighbors\n",
    "import numpy as np\n",
    "from scipy.spatial import distance\n",
    "import matplotlib.pyplot as plt\n",
    "\n",
    "%matplotlib inline\n",
    "\n",
    "knn = 100\n",
    "nbrs = NearestNeighbors(n_neighbors=knn+1).fit(data.values)\n",
    "distances, indices = nbrs.kneighbors(data.values)\n",
    "ax = plt.axes(yscale='log')\n",
    "ax.hist(distances[:,knn])"
   ]
  },
  {
   "cell_type": "markdown",
   "metadata": {},
   "source": [
    "e. Sort the instances in decreasing order of its 100th nearest neighbor distance. Display the top-5 outliers with largest distance to its 100th nearest neighbor.\n",
    "\n",
    "**Solution:**"
   ]
  },
  {
   "cell_type": "code",
   "execution_count": 4,
   "metadata": {},
   "outputs": [
    {
     "data": {
      "text/html": [
       "<div>\n",
       "<style scoped>\n",
       "    .dataframe tbody tr th:only-of-type {\n",
       "        vertical-align: middle;\n",
       "    }\n",
       "\n",
       "    .dataframe tbody tr th {\n",
       "        vertical-align: top;\n",
       "    }\n",
       "\n",
       "    .dataframe thead th {\n",
       "        text-align: right;\n",
       "    }\n",
       "</style>\n",
       "<table border=\"1\" class=\"dataframe\">\n",
       "  <thead>\n",
       "    <tr style=\"text-align: right;\">\n",
       "      <th></th>\n",
       "      <th>index</th>\n",
       "      <th>score</th>\n",
       "    </tr>\n",
       "  </thead>\n",
       "  <tbody>\n",
       "    <tr>\n",
       "      <th>0</th>\n",
       "      <td>19297.0</td>\n",
       "      <td>10.618149</td>\n",
       "    </tr>\n",
       "    <tr>\n",
       "      <th>1</th>\n",
       "      <td>26789.0</td>\n",
       "      <td>10.618149</td>\n",
       "    </tr>\n",
       "    <tr>\n",
       "      <th>2</th>\n",
       "      <td>26829.0</td>\n",
       "      <td>10.618149</td>\n",
       "    </tr>\n",
       "    <tr>\n",
       "      <th>3</th>\n",
       "      <td>27212.0</td>\n",
       "      <td>10.618149</td>\n",
       "    </tr>\n",
       "    <tr>\n",
       "      <th>4</th>\n",
       "      <td>22879.0</td>\n",
       "      <td>10.618149</td>\n",
       "    </tr>\n",
       "  </tbody>\n",
       "</table>\n",
       "</div>"
      ],
      "text/plain": [
       "     index      score\n",
       "0  19297.0  10.618149\n",
       "1  26789.0  10.618149\n",
       "2  26829.0  10.618149\n",
       "3  27212.0  10.618149\n",
       "4  22879.0  10.618149"
      ]
     },
     "execution_count": 4,
     "metadata": {},
     "output_type": "execute_result"
    }
   ],
   "source": [
    "outlier = np.flipud(np.argsort(distances[:,knn]))\n",
    "sort_dist = np.flipud(np.sort(distances[:,knn]))\n",
    "\n",
    "p = pd.DataFrame(np.column_stack((outlier,sort_dist)),columns=['index','score'])\n",
    "p.head()"
   ]
  },
  {
   "cell_type": "markdown",
   "metadata": {},
   "source": [
    "f.\tPlot the roc curve by passing the true labels and 100th nearest neighbor distance. Calculate the area under ROC curve. (See lecture 10 on ROC curve).\n",
    "\n",
    "**Solution:**"
   ]
  },
  {
   "cell_type": "code",
   "execution_count": 5,
   "metadata": {},
   "outputs": [
    {
     "name": "stdout",
     "output_type": "stream",
     "text": [
      "Area under ROC = 0.9989\n"
     ]
    },
    {
     "data": {
      "image/png": "[encoded data removed]",
      "text/plain": [
       "<Figure size 432x288 with 1 Axes>"
      ]
     },
     "metadata": {
      "needs_background": "light"
     },
     "output_type": "display_data"
    }
   ],
   "source": [
    "from sklearn.metrics import roc_curve, auc\n",
    "%matplotlib inline\n",
    "\n",
    "fpr, tpr, thresholds = roc_curve(labels,distances[:,knn] )\n",
    "roc_auc = auc(fpr,tpr)\n",
    "plt.plot(fpr, tpr)\n",
    "print('Area under ROC = %.4f' % (roc_auc))"
   ]
  },
  {
   "cell_type": "markdown",
   "metadata": {},
   "source": [
    "**2. Collaborative Filtering and Recommender System**\n",
    "\n",
    "a.\tDownload the movie ratings dataset from the class website. This is a subset of the original MovieLens data from https://grouplens.org/datasets/movielens/. \n",
    "\n",
    "b.\tUse Python surprise to load the file movies.ratings into a DataFrame object named data. Display the first 5 rows of the ratings data.\n",
    "\n",
    "**Solution:**"
   ]
  },
  {
   "cell_type": "code",
   "execution_count": 6,
   "metadata": {},
   "outputs": [
    {
     "data": {
      "text/plain": [
       "[('196', 'Kolya', 3.0, None),\n",
       " ('186', 'L.A._Confidential', 3.0, None),\n",
       " ('22', 'Heavyweights', 1.0, None),\n",
       " ('244', 'Legends_of_the_Fall', 2.0, None),\n",
       " ('166', 'Jackie_Brown', 1.0, None)]"
      ]
     },
     "execution_count": 6,
     "metadata": {},
     "output_type": "execute_result"
    }
   ],
   "source": [
    "from surprise import Dataset\n",
    "from surprise import Reader\n",
    "\n",
    "reader = Reader(line_format= 'user item rating' , sep=',', rating_scale=(1,5))\n",
    "data = Dataset.load_from_file('user_ratings.data', reader = reader)\n",
    "data.raw_ratings[:5]"
   ]
  },
  {
   "cell_type": "markdown",
   "metadata": {},
   "source": [
    "c. Divide the data into 50% training and 50% testing using the train_test_split() function. Use the non-negative matrix factorization approach to predict the ratings information. Set the number of latent factors to be 20 and number of epochs to be 200.\n",
    "\n",
    "**Solution:**"
   ]
  },
  {
   "cell_type": "code",
   "execution_count": 7,
   "metadata": {},
   "outputs": [
    {
     "data": {
      "text/plain": [
       "<surprise.prediction_algorithms.matrix_factorization.NMF at 0x1a284a2fd0>"
      ]
     },
     "execution_count": 7,
     "metadata": {},
     "output_type": "execute_result"
    }
   ],
   "source": [
    "from surprise import NMF\n",
    "from surprise.model_selection import train_test_split\n",
    "\n",
    "trainset, testset = train_test_split(data, test_size =0.5 )\n",
    "\n",
    "algo = NMF(n_factors=20, n_epochs=200, random_state=1)\n",
    "algo.fit(trainset)"
   ]
  },
  {
   "cell_type": "markdown",
   "metadata": {},
   "source": [
    "d. Apply the algorithm to predict the test set and calculate its performance in terms of both the RMSE and MAE values.\n",
    "\n",
    "**Solution:**"
   ]
  },
  {
   "cell_type": "code",
   "execution_count": 8,
   "metadata": {},
   "outputs": [
    {
     "name": "stdout",
     "output_type": "stream",
     "text": [
      "RMSE: 0.9865\n",
      "MAE:  0.7751\n"
     ]
    },
    {
     "data": {
      "text/plain": [
       "(0.9865299172507848, 0.7750765190287339)"
      ]
     },
     "execution_count": 8,
     "metadata": {},
     "output_type": "execute_result"
    }
   ],
   "source": [
    "from surprise import accuracy\n",
    "\n",
    "pred = algo.test(testset)\n",
    "accuracy.rmse(pred), accuracy.mae(pred)"
   ]
  },
  {
   "cell_type": "markdown",
   "metadata": {},
   "source": [
    "e. Display the first 10 rows of the test set predictions. \n",
    "\n",
    "**Solution:**"
   ]
  },
  {
   "cell_type": "code",
   "execution_count": 9,
   "metadata": {},
   "outputs": [
    {
     "name": "stdout",
     "output_type": "stream",
     "text": [
      "user: 114        item: Blues_Brothers r_ui = 3.00   est = 2.94   {'was_impossible': False}\n",
      "user: 846        item: Wyatt_Earp r_ui = 4.00   est = 2.83   {'was_impossible': False}\n",
      "user: 90         item: American_President r_ui = 4.00   est = 4.05   {'was_impossible': False}\n",
      "user: 829        item: Four_Weddings_and_a_Funeral r_ui = 4.00   est = 3.30   {'was_impossible': False}\n",
      "user: 503        item: Reservoir_Dogs r_ui = 1.00   est = 3.91   {'was_impossible': False}\n",
      "user: 467        item: Men_in_Black r_ui = 4.00   est = 3.73   {'was_impossible': False}\n",
      "user: 503        item: Heavenly_Creatures r_ui = 5.00   est = 3.36   {'was_impossible': False}\n",
      "user: 846        item: Godfather:_Part_II r_ui = 4.00   est = 3.87   {'was_impossible': False}\n",
      "user: 130        item: Face/Off   r_ui = 5.00   est = 4.19   {'was_impossible': False}\n",
      "user: 551        item: Forrest_Gump r_ui = 4.00   est = 3.91   {'was_impossible': False}\n"
     ]
    }
   ],
   "source": [
    "for i in range(10):\n",
    "    print( pred[i])"
   ]
  },
  {
   "cell_type": "code",
   "execution_count": null,
   "metadata": {},
   "outputs": [],
   "source": []
  }
 ],
 "metadata": {
  "kernelspec": {
   "display_name": "Python 3",
   "language": "python",
   "name": "python3"
  },
  "language_info": {
   "codemirror_mode": {
    "name": "ipython",
    "version": 3
   },
   "file_extension": ".py",
   "mimetype": "text/x-python",
   "name": "python",
   "nbconvert_exporter": "python",
   "pygments_lexer": "ipython3",
   "version": "3.7.1"
  }
 },
 "nbformat": 4,
 "nbformat_minor": 2
}
