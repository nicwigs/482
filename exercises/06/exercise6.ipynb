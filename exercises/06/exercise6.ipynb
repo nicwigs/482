{
 "cells": [
  {
   "cell_type": "markdown",
   "metadata": {},
   "source": [
    "# CSE 482 Exercise 6 (Date: February 15, 2019)\n",
    "\n",
    "The goal of this exercise is to help you get familiarize with some of the classification methods available in Python. Save your Jupyter notebook as exercise6.ipynb and submit it along with its HTML version.\n",
    "\n",
    "**1.** In this exercise, you need to apply a variety of classification methods to the Autistic Spectrum Disorder Screening Data/ Your goal is to classify each child or adolescent as positive or negative class for autism disorder. The original data was obtained from the UCI Machine Learning Repository (https://archive.ics.uci.edu/ml/datasets/Autistic+Spectrum+Disorder+Screening+Data+for+Children++ and https://archive.ics.uci.edu/ml/datasets/Autistic+Spectrum+Disorder+Screening+Data+for+Adolescent+++). The combined and preprocessed data (autism_data.csv) can be downloaded from the class webpage. "
   ]
  },
  {
   "cell_type": "markdown",
   "metadata": {},
   "source": [
    "**2.** Load the autism_data.csv file into a pandas dataframe object named data. Note that some columns may contain missing values. Discard the rows with missing values using the dropna() function (see lecture 6 on how to discard rows with missing values from a DataFrame object).\n",
    "\n",
    "**Solution:**"
   ]
  },
  {
   "cell_type": "code",
   "execution_count": 1,
   "metadata": {},
   "outputs": [
    {
     "name": "stdout",
     "output_type": "stream",
     "text": [
      "Number of rows (before removing missing values) = 396\n",
      "Number of rows (after removing missing values) = 392\n"
     ]
    },
    {
     "data": {
      "text/html": [
       "<div>\n",
       "<style scoped>\n",
       "    .dataframe tbody tr th:only-of-type {\n",
       "        vertical-align: middle;\n",
       "    }\n",
       "\n",
       "    .dataframe tbody tr th {\n",
       "        vertical-align: top;\n",
       "    }\n",
       "\n",
       "    .dataframe thead th {\n",
       "        text-align: right;\n",
       "    }\n",
       "</style>\n",
       "<table border=\"1\" class=\"dataframe\">\n",
       "  <thead>\n",
       "    <tr style=\"text-align: right;\">\n",
       "      <th></th>\n",
       "      <th>Age</th>\n",
       "      <th>Gender</th>\n",
       "      <th>Jaundice</th>\n",
       "      <th>A1_Score</th>\n",
       "      <th>A2_Score</th>\n",
       "      <th>A3_Score</th>\n",
       "      <th>A4_Score</th>\n",
       "      <th>A5_Score</th>\n",
       "      <th>A6_Score</th>\n",
       "      <th>A7_Score</th>\n",
       "      <th>A8_Score</th>\n",
       "      <th>A9_Score</th>\n",
       "      <th>A10_Score</th>\n",
       "      <th>Class</th>\n",
       "    </tr>\n",
       "  </thead>\n",
       "  <tbody>\n",
       "    <tr>\n",
       "      <th>0</th>\n",
       "      <td>6.0</td>\n",
       "      <td>1</td>\n",
       "      <td>0</td>\n",
       "      <td>1</td>\n",
       "      <td>1</td>\n",
       "      <td>0</td>\n",
       "      <td>0</td>\n",
       "      <td>1</td>\n",
       "      <td>1</td>\n",
       "      <td>0</td>\n",
       "      <td>1</td>\n",
       "      <td>0</td>\n",
       "      <td>0</td>\n",
       "      <td>No</td>\n",
       "    </tr>\n",
       "    <tr>\n",
       "      <th>1</th>\n",
       "      <td>6.0</td>\n",
       "      <td>1</td>\n",
       "      <td>0</td>\n",
       "      <td>1</td>\n",
       "      <td>1</td>\n",
       "      <td>0</td>\n",
       "      <td>0</td>\n",
       "      <td>1</td>\n",
       "      <td>1</td>\n",
       "      <td>0</td>\n",
       "      <td>1</td>\n",
       "      <td>0</td>\n",
       "      <td>0</td>\n",
       "      <td>No</td>\n",
       "    </tr>\n",
       "    <tr>\n",
       "      <th>2</th>\n",
       "      <td>6.0</td>\n",
       "      <td>1</td>\n",
       "      <td>0</td>\n",
       "      <td>1</td>\n",
       "      <td>1</td>\n",
       "      <td>0</td>\n",
       "      <td>0</td>\n",
       "      <td>0</td>\n",
       "      <td>1</td>\n",
       "      <td>1</td>\n",
       "      <td>1</td>\n",
       "      <td>0</td>\n",
       "      <td>0</td>\n",
       "      <td>No</td>\n",
       "    </tr>\n",
       "    <tr>\n",
       "      <th>3</th>\n",
       "      <td>5.0</td>\n",
       "      <td>2</td>\n",
       "      <td>1</td>\n",
       "      <td>0</td>\n",
       "      <td>1</td>\n",
       "      <td>0</td>\n",
       "      <td>0</td>\n",
       "      <td>1</td>\n",
       "      <td>1</td>\n",
       "      <td>0</td>\n",
       "      <td>0</td>\n",
       "      <td>0</td>\n",
       "      <td>1</td>\n",
       "      <td>No</td>\n",
       "    </tr>\n",
       "    <tr>\n",
       "      <th>4</th>\n",
       "      <td>5.0</td>\n",
       "      <td>1</td>\n",
       "      <td>1</td>\n",
       "      <td>1</td>\n",
       "      <td>1</td>\n",
       "      <td>1</td>\n",
       "      <td>1</td>\n",
       "      <td>1</td>\n",
       "      <td>1</td>\n",
       "      <td>1</td>\n",
       "      <td>1</td>\n",
       "      <td>1</td>\n",
       "      <td>1</td>\n",
       "      <td>Yes</td>\n",
       "    </tr>\n",
       "  </tbody>\n",
       "</table>\n",
       "</div>"
      ],
      "text/plain": [
       "   Age  Gender  Jaundice  A1_Score  A2_Score  A3_Score  A4_Score  A5_Score  \\\n",
       "0  6.0       1         0         1         1         0         0         1   \n",
       "1  6.0       1         0         1         1         0         0         1   \n",
       "2  6.0       1         0         1         1         0         0         0   \n",
       "3  5.0       2         1         0         1         0         0         1   \n",
       "4  5.0       1         1         1         1         1         1         1   \n",
       "\n",
       "   A6_Score  A7_Score  A8_Score  A9_Score  A10_Score Class  \n",
       "0         1         0         1         0          0    No  \n",
       "1         1         0         1         0          0    No  \n",
       "2         1         1         1         0          0    No  \n",
       "3         1         0         0         0          1    No  \n",
       "4         1         1         1         1          1   Yes  "
      ]
     },
     "execution_count": 1,
     "metadata": {},
     "output_type": "execute_result"
    }
   ],
   "source": [
    "import pandas as pd\n",
    "\n",
    "data = pd.read_csv('autism_data.csv')\n",
    "print('Number of rows (before removing missing values) =', data.shape[0] )\n",
    "data = data.dropna()    # remove rows with missing values\n",
    "print('Number of rows (after removing missing values) =', data.shape[0] )\n",
    "data.head()"
   ]
  },
  {
   "cell_type": "markdown",
   "metadata": {},
   "source": [
    "**3.** Extract the class (target) attribute Y and predictor attributes X from the dataframe. Split X and Y into training and test sets using scikit learn train_test_split() function. Use 70% for training and the remaining 30% for test. \n",
    "\n",
    "**Solution:**"
   ]
  },
  {
   "cell_type": "code",
   "execution_count": 2,
   "metadata": {},
   "outputs": [],
   "source": [
    "from sklearn.model_selection import train_test_split\n",
    "\n",
    "y = data['Class']\n",
    "X = data.drop('Class', axis =1)\n",
    "X_train, X_test, Y_train, Y_test = train_test_split(X, y, test_size=0.3, random_state=1)"
   ]
  },
  {
   "cell_type": "markdown",
   "metadata": {},
   "source": [
    "**4.** Apply a decision tree classifier to the training dataset. Train the classifier with the following max depth hyperparameter values: 1, 5, 10, 20, 30, 40, and 50. Apply 10-fold cross validation on X_train and Y_train to select the hyperparameters (make sure you donâ€™t apply it to the original X and Y since hyperparameter selection must be done using the training set only). For each hyperparameter, calculate the corresponding validation set accuracy, which is automatically returned by the cross_val_score function (see lecture 11). Take their average values to be the validation set accuracy for the given hyperparameter. Also, train a decision tree classifier on the entire training data (with each hyperparameter). Apply the classifier to the test data and calculate the test accuracy. Draw a plot of the test set accuracy and validation set accuracy against the maximum depth hyperparameter. Show the hyperparameter that gives the highest validation set accuracy. Show also the test accuracy for the chosen best hyperparameter.\n",
    "\n",
    "**Solution:**"
   ]
  },
  {
   "cell_type": "code",
   "execution_count": 3,
   "metadata": {},
   "outputs": [
    {
     "name": "stdout",
     "output_type": "stream",
     "text": [
      "Best hyperparameter, maxdepth = 10\n",
      "Test Accuracy = 0.923728813559322\n"
     ]
    },
    {
     "data": {
      "image/png": "[encoded data removed]",
      "text/plain": [
       "<Figure size 432x288 with 1 Axes>"
      ]
     },
     "metadata": {
      "needs_background": "light"
     },
     "output_type": "display_data"
    }
   ],
   "source": [
    "import numpy as np\n",
    "from sklearn import tree\n",
    "from sklearn.metrics import accuracy_score\n",
    "from sklearn.model_selection import cross_val_score\n",
    "import matplotlib.pyplot as plt\n",
    "%matplotlib inline\n",
    "\n",
    "maxdepths = [1,5,10,20,30,40,50]\n",
    "validationAcc = np.zeros(len(maxdepths))\n",
    "testAcc = np.zeros(len(maxdepths))\n",
    "index = 0\n",
    "numFolds = 10\n",
    "\n",
    "np.random.seed(1)\n",
    "for depth in maxdepths:\n",
    "    clf = tree.DecisionTreeClassifier( max_depth=depth )\n",
    "    scores = cross_val_score(clf, X_train, Y_train, cv=numFolds)\n",
    "    validationAcc[index] = np.mean(scores)\n",
    "    clf.fit(X_train, Y_train)\n",
    "    Y_predTest = clf.predict(X_test)\n",
    "    testAcc[index] = accuracy_score( Y_test, Y_predTest)\n",
    "    index += 1\n",
    "    \n",
    "plt.plot(maxdepths, validationAcc, 'ro--', maxdepths, testAcc, 'kv-')\n",
    "plt.xlabel('Maximum depth')\n",
    "plt.ylabel('Accuracy')\n",
    "plt.title('Decision tree')\n",
    "plt.legend(['Validation','Testing'])\n",
    "plt.ylim([0.6,1.0])\n",
    "\n",
    "bestHyperparam = np.argmax(validationAcc)\n",
    "print('Best hyperparameter, maxdepth =', maxdepths[bestHyperparam])\n",
    "print('Test Accuracy =', testAcc[bestHyperparam])"
   ]
  },
  {
   "cell_type": "markdown",
   "metadata": {},
   "source": [
    "**5.** Repeat previous question using the k-nearest neighbor classifier. You need to vary the number of nearest neighbors (k) as follows: [1, 3, 5, 7, 10, 15, 20, 25, 30]. Use 10-fold cross validation for hyperparameter tuning and store the validation set accuracy for each hyperparameter by averaging the accuracy over all 10 folds. Report also the test accuracy for each hyperparameter and draw a plot of test set accuracy and validation set accuracy against the number of nearest neighbors. Display the hyperparameter that gives the highest validation accuracy. Display the test accuracy for the chosen best hyperparameter.\n",
    "\n",
    "**Solution:**"
   ]
  },
  {
   "cell_type": "code",
   "execution_count": 4,
   "metadata": {},
   "outputs": [
    {
     "name": "stdout",
     "output_type": "stream",
     "text": [
      "Best hyperparameter, k = 3\n",
      "Test Accuracy = 0.8728813559322034\n"
     ]
    },
    {
     "data": {
      "image/png": "[encoded data removed]",
      "text/plain": [
       "<Figure size 432x288 with 1 Axes>"
      ]
     },
     "metadata": {
      "needs_background": "light"
     },
     "output_type": "display_data"
    }
   ],
   "source": [
    "from sklearn.neighbors import KNeighborsClassifier\n",
    "import matplotlib.pyplot as plt\n",
    "%matplotlib inline\n",
    "\n",
    "numNeighbors = [1, 3, 5, 7, 10, 15, 20, 25, 30]\n",
    "validationAcc = np.zeros(len(numNeighbors))\n",
    "testAcc = np.zeros(len(numNeighbors))\n",
    "index = 0\n",
    "numFolds = 10\n",
    "\n",
    "np.random.seed(1)\n",
    "for nn in numNeighbors:\n",
    "    clf = KNeighborsClassifier(n_neighbors=nn)\n",
    "    scores = cross_val_score(clf, X_train, Y_train, cv=numFolds)\n",
    "    validationAcc[index] = np.mean(scores)\n",
    "    clf.fit(X_train, Y_train)\n",
    "    Y_predTest = clf.predict(X_test)\n",
    "    testAcc[index] = accuracy_score(Y_test, Y_predTest)\n",
    "    index += 1\n",
    "    \n",
    "plt.plot(numNeighbors, validationAcc, 'ro--', numNeighbors, testAcc, 'kv-')\n",
    "plt.xlabel('Number of neighbors')\n",
    "plt.ylabel('Accuracy')\n",
    "plt.title('k-nearest neighbors')\n",
    "plt.legend(['Validation','Testing'])\n",
    "plt.ylim([0.6,1.0])\n",
    "\n",
    "bestHyperparam = np.argmax(validationAcc)\n",
    "print('Best hyperparameter, k =', numNeighbors[bestHyperparam])\n",
    "print('Test Accuracy =', testAcc[bestHyperparam])"
   ]
  },
  {
   "cell_type": "markdown",
   "metadata": {},
   "source": [
    "**6.** Repeat previous question using logistic regression with 'l1' penalty and 'liblinear' as its solver. Set the regularization parameter C to 0.1, 0.5, 1, 3, 5, 8, 10, 15, 20, and 30. Use 10-fold cross validation for hyperparameter tuning and store the validation set accuracy for each hyperparameter by averaging the accuracy over all 10 folds. Report also the test accuracy for each hyperparameter and draw a plot of test set accuracy and validation set accuracy against the regularization parameter C. Display the hyperparameter that gives the highest validation accuracy. Display the test accuracy for the chosen best hyperparameter.\n",
    "\n",
    "**Solution:**"
   ]
  },
  {
   "cell_type": "code",
   "execution_count": 5,
   "metadata": {},
   "outputs": [
    {
     "name": "stdout",
     "output_type": "stream",
     "text": [
      "Best hyperparameter, C = 3\n",
      "Test Accuracy = 1.0\n"
     ]
    },
    {
     "data": {
      "image/png": "[encoded data removed]",
      "text/plain": [
       "<Figure size 432x288 with 1 Axes>"
      ]
     },
     "metadata": {
      "needs_background": "light"
     },
     "output_type": "display_data"
    }
   ],
   "source": [
    "from sklearn import linear_model\n",
    "\n",
    "regularizers = [0.1,0.5,1,3,5,8,10,15,20,30]\n",
    "validationAcc = np.zeros(len(regularizers))\n",
    "testAcc = np.zeros(len(regularizers))\n",
    "index = 0\n",
    "\n",
    "np.random.seed(1)\n",
    "for C in regularizers:\n",
    "    clf = linear_model.LogisticRegression(C=C, solver='liblinear', penalty='l1')\n",
    "    scores = cross_val_score(clf, X_train, Y_train, cv=10)\n",
    "    validationAcc[index] = np.mean(scores)\n",
    "    clf.fit(X_train, Y_train)\n",
    "    Y_predTest = clf.predict( X_test )\n",
    "    testAcc[index] = accuracy_score(Y_test, Y_predTest)\n",
    "    index += 1\n",
    "    \n",
    "plt.plot(regularizers, validationAcc, 'ro--', regularizers, testAcc, 'kv-')\n",
    "plt.xlabel('Regularizer (C)')\n",
    "plt.ylabel('Accuracy')\n",
    "plt.title('Logistic regression')\n",
    "plt.legend(['Validation','Testing'])\n",
    "plt.ylim([0.7,1.1])\n",
    "\n",
    "bestHyperparam = np.argmax(validationAcc)\n",
    "print('Best hyperparameter, C =', regularizers[bestHyperparam])\n",
    "print('Test Accuracy =', testAcc[bestHyperparam])"
   ]
  },
  {
   "cell_type": "markdown",
   "metadata": {},
   "source": [
    "**7.** Repeat previous question using the random forest ensemble classifier. Set the number of estimators (trees) to 500. Since there are no hyperparameter to tune, you only need to fit the classifier to the entire training set and apply it to the test set. Calculate the test set accuracy and display it."
   ]
  },
  {
   "cell_type": "code",
   "execution_count": 6,
   "metadata": {},
   "outputs": [
    {
     "name": "stdout",
     "output_type": "stream",
     "text": [
      "Test Accuracy = 0.9661016949152542\n"
     ]
    }
   ],
   "source": [
    "from sklearn import ensemble\n",
    "from sklearn.tree import DecisionTreeClassifier\n",
    "\n",
    "numEstimators = 500\n",
    "np.random.seed(1)\n",
    "clf = ensemble.RandomForestClassifier(n_estimators=numEstimators)\n",
    "clf.fit(X_train, Y_train)\n",
    "Y_pred = clf.predict(X_test)\n",
    "print('Test Accuracy =', accuracy_score(Y_test, Y_pred))"
   ]
  },
  {
   "cell_type": "code",
   "execution_count": null,
   "metadata": {},
   "outputs": [],
   "source": []
  }
 ],
 "metadata": {
  "anaconda-cloud": {},
  "kernelspec": {
   "display_name": "Python 3",
   "language": "python",
   "name": "python3"
  },
  "language_info": {
   "codemirror_mode": {
    "name": "ipython",
    "version": 3
   },
   "file_extension": ".py",
   "mimetype": "text/x-python",
   "name": "python",
   "nbconvert_exporter": "python",
   "pygments_lexer": "ipython3",
   "version": "3.7.1"
  }
 },
 "nbformat": 4,
 "nbformat_minor": 1
}
