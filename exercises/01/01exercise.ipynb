{
 "cells": [
  {
   "cell_type": "markdown",
   "metadata": {},
   "source": [
    "# Exercise 1 (Due: January 11, 2019 before midnight)\n",
    "\n",
    "Complete the exercise below and submit it via D2L. Make sure the submitted notebook contains the Python code as well as the results of executing the code. Read the following notes first (from the class website) before you work on the exercise:\n",
    "- Lecture slides #2 and its corresponding Jupyter notebook (lecture2.ipynb)\n",
    "- Python (Getting started)\n",
    "\n",
    "You will also need to download the following two data files from the class website and store them in the same folder as your Jupyter notebook file: \n",
    "- voting.csv\n",
    "- fire_incidents_Pittsburgh.csv"
   ]
  },
  {
   "cell_type": "markdown",
   "metadata": {},
   "source": [
    "**Step 1:** Install Anaconda python on your laptop (if you have not done so in the past). Make sure that the numpy and pandas library packages are also installed. \n",
    "a.\tTo check what packages are installed, type â€œconda listâ€ on the command prompt\n",
    "b.\tTo install a specific package, say, pandas, type: â€œconda install pandasâ€\n",
    "If you have not used iPython notebook, read the notes on â€œPython (Getting Started)â€ from the supplementary materials for lecture 1 on the class website."
   ]
  },
  {
   "cell_type": "markdown",
   "metadata": {},
   "source": [
    "**Step 2:** Download the data file voting.csv from the class web page. The data file contains information about voting records of the U.S. House of Representatives on 16 key bills in 1984. The first line in the file contains the attribute names. The original data was obtained from https://archive.ics.uci.edu/ml/datasets/congressional+voting+records. "
   ]
  },
  {
   "cell_type": "markdown",
   "metadata": {},
   "source": [
    "**Step 3:** Use pandas read_csv function to load the file into a data frame object named data."
   ]
  },
  {
   "cell_type": "code",
   "execution_count": 1,
   "metadata": {},
   "outputs": [
    {
     "data": {
      "text/html": [
       "<div>\n",
       "<style scoped>\n",
       "    .dataframe tbody tr th:only-of-type {\n",
       "        vertical-align: middle;\n",
       "    }\n",
       "\n",
       "    .dataframe tbody tr th {\n",
       "        vertical-align: top;\n",
       "    }\n",
       "\n",
       "    .dataframe thead th {\n",
       "        text-align: right;\n",
       "    }\n",
       "</style>\n",
       "<table border=\"1\" class=\"dataframe\">\n",
       "  <thead>\n",
       "    <tr style=\"text-align: right;\">\n",
       "      <th></th>\n",
       "      <th>Party</th>\n",
       "      <th>Handicapped-infants</th>\n",
       "      <th>Water-Project</th>\n",
       "      <th>Budget resolution</th>\n",
       "      <th>Physician fee freeze</th>\n",
       "      <th>El Salvador aid</th>\n",
       "      <th>Religious groups in schools</th>\n",
       "      <th>Anti-satellite test ban</th>\n",
       "      <th>Aid to Nicaragua</th>\n",
       "      <th>MX missile</th>\n",
       "      <th>Immigration</th>\n",
       "      <th>Synfuels corporation cutback</th>\n",
       "      <th>Education</th>\n",
       "      <th>Superfund right-to-sue</th>\n",
       "      <th>Crime</th>\n",
       "      <th>Duty-free exports</th>\n",
       "      <th>Export admin-act-SA</th>\n",
       "    </tr>\n",
       "  </thead>\n",
       "  <tbody>\n",
       "    <tr>\n",
       "      <th>0</th>\n",
       "      <td>republican</td>\n",
       "      <td>n</td>\n",
       "      <td>y</td>\n",
       "      <td>n</td>\n",
       "      <td>y</td>\n",
       "      <td>y</td>\n",
       "      <td>y</td>\n",
       "      <td>n</td>\n",
       "      <td>n</td>\n",
       "      <td>n</td>\n",
       "      <td>y</td>\n",
       "      <td>?</td>\n",
       "      <td>y</td>\n",
       "      <td>y</td>\n",
       "      <td>y</td>\n",
       "      <td>n</td>\n",
       "      <td>y</td>\n",
       "    </tr>\n",
       "    <tr>\n",
       "      <th>1</th>\n",
       "      <td>republican</td>\n",
       "      <td>n</td>\n",
       "      <td>y</td>\n",
       "      <td>n</td>\n",
       "      <td>y</td>\n",
       "      <td>y</td>\n",
       "      <td>y</td>\n",
       "      <td>n</td>\n",
       "      <td>n</td>\n",
       "      <td>n</td>\n",
       "      <td>n</td>\n",
       "      <td>n</td>\n",
       "      <td>y</td>\n",
       "      <td>y</td>\n",
       "      <td>y</td>\n",
       "      <td>n</td>\n",
       "      <td>?</td>\n",
       "    </tr>\n",
       "    <tr>\n",
       "      <th>2</th>\n",
       "      <td>democrat</td>\n",
       "      <td>?</td>\n",
       "      <td>y</td>\n",
       "      <td>y</td>\n",
       "      <td>?</td>\n",
       "      <td>y</td>\n",
       "      <td>y</td>\n",
       "      <td>n</td>\n",
       "      <td>n</td>\n",
       "      <td>n</td>\n",
       "      <td>n</td>\n",
       "      <td>y</td>\n",
       "      <td>n</td>\n",
       "      <td>y</td>\n",
       "      <td>y</td>\n",
       "      <td>n</td>\n",
       "      <td>n</td>\n",
       "    </tr>\n",
       "    <tr>\n",
       "      <th>3</th>\n",
       "      <td>democrat</td>\n",
       "      <td>n</td>\n",
       "      <td>y</td>\n",
       "      <td>y</td>\n",
       "      <td>n</td>\n",
       "      <td>?</td>\n",
       "      <td>y</td>\n",
       "      <td>n</td>\n",
       "      <td>n</td>\n",
       "      <td>n</td>\n",
       "      <td>n</td>\n",
       "      <td>y</td>\n",
       "      <td>n</td>\n",
       "      <td>y</td>\n",
       "      <td>n</td>\n",
       "      <td>n</td>\n",
       "      <td>y</td>\n",
       "    </tr>\n",
       "    <tr>\n",
       "      <th>4</th>\n",
       "      <td>democrat</td>\n",
       "      <td>y</td>\n",
       "      <td>y</td>\n",
       "      <td>y</td>\n",
       "      <td>n</td>\n",
       "      <td>y</td>\n",
       "      <td>y</td>\n",
       "      <td>n</td>\n",
       "      <td>n</td>\n",
       "      <td>n</td>\n",
       "      <td>n</td>\n",
       "      <td>y</td>\n",
       "      <td>?</td>\n",
       "      <td>y</td>\n",
       "      <td>y</td>\n",
       "      <td>y</td>\n",
       "      <td>y</td>\n",
       "    </tr>\n",
       "  </tbody>\n",
       "</table>\n",
       "</div>"
      ],
      "text/plain": [
       "        Party Handicapped-infants Water-Project Budget resolution  \\\n",
       "0  republican                   n             y                 n   \n",
       "1  republican                   n             y                 n   \n",
       "2    democrat                   ?             y                 y   \n",
       "3    democrat                   n             y                 y   \n",
       "4    democrat                   y             y                 y   \n",
       "\n",
       "  Physician fee freeze El Salvador aid Religious groups in schools  \\\n",
       "0                    y               y                           y   \n",
       "1                    y               y                           y   \n",
       "2                    ?               y                           y   \n",
       "3                    n               ?                           y   \n",
       "4                    n               y                           y   \n",
       "\n",
       "  Anti-satellite test ban Aid to Nicaragua MX missile Immigration  \\\n",
       "0                       n                n          n           y   \n",
       "1                       n                n          n           n   \n",
       "2                       n                n          n           n   \n",
       "3                       n                n          n           n   \n",
       "4                       n                n          n           n   \n",
       "\n",
       "  Synfuels corporation cutback Education Superfund right-to-sue Crime  \\\n",
       "0                            ?         y                      y     y   \n",
       "1                            n         y                      y     y   \n",
       "2                            y         n                      y     y   \n",
       "3                            y         n                      y     n   \n",
       "4                            y         ?                      y     y   \n",
       "\n",
       "  Duty-free exports Export admin-act-SA  \n",
       "0                 n                   y  \n",
       "1                 n                   ?  \n",
       "2                 n                   n  \n",
       "3                 n                   y  \n",
       "4                 y                   y  "
      ]
     },
     "execution_count": 1,
     "metadata": {},
     "output_type": "execute_result"
    }
   ],
   "source": [
    "import pandas as pd\n",
    "\n",
    "data = pd.read_csv('voting.csv')     # load data using pandas read_csv \n",
    "\n",
    "data.head()     # display the first 5 records/rows"
   ]
  },
  {
   "cell_type": "markdown",
   "metadata": {},
   "source": [
    "**Step 4:** Create a pandas DataFrame object named counts that contains the number of republicans and democrats who voted yes on each of the following bills: 'Water project', 'MX Missile', 'Education', and 'Crime'."
   ]
  },
  {
   "cell_type": "code",
   "execution_count": 2,
   "metadata": {},
   "outputs": [
    {
     "data": {
      "text/html": [
       "<div>\n",
       "<style scoped>\n",
       "    .dataframe tbody tr th:only-of-type {\n",
       "        vertical-align: middle;\n",
       "    }\n",
       "\n",
       "    .dataframe tbody tr th {\n",
       "        vertical-align: top;\n",
       "    }\n",
       "\n",
       "    .dataframe thead th {\n",
       "        text-align: right;\n",
       "    }\n",
       "</style>\n",
       "<table border=\"1\" class=\"dataframe\">\n",
       "  <thead>\n",
       "    <tr style=\"text-align: right;\">\n",
       "      <th></th>\n",
       "      <th>Water-Project</th>\n",
       "      <th>MX missile</th>\n",
       "      <th>Education</th>\n",
       "      <th>Crime</th>\n",
       "    </tr>\n",
       "  </thead>\n",
       "  <tbody>\n",
       "    <tr>\n",
       "      <th>democrat</th>\n",
       "      <td>120.0</td>\n",
       "      <td>188.0</td>\n",
       "      <td>36.0</td>\n",
       "      <td>90.0</td>\n",
       "    </tr>\n",
       "    <tr>\n",
       "      <th>republican</th>\n",
       "      <td>75.0</td>\n",
       "      <td>19.0</td>\n",
       "      <td>135.0</td>\n",
       "      <td>158.0</td>\n",
       "    </tr>\n",
       "  </tbody>\n",
       "</table>\n",
       "</div>"
      ],
      "text/plain": [
       "            Water-Project  MX missile  Education  Crime\n",
       "democrat            120.0       188.0       36.0   90.0\n",
       "republican           75.0        19.0      135.0  158.0"
      ]
     },
     "execution_count": 2,
     "metadata": {},
     "output_type": "execute_result"
    }
   ],
   "source": [
    "# Write your Python code here to generate the counts DataFrame object from the data object\n",
    "\n",
    "party = ['democrat','republican']\n",
    "counts = pd.DataFrame({}, index = party) \n",
    "select = ['Water-Project','MX missile','Education','Crime']\n",
    "for i in range(0,len(select)):\n",
    "    for j in range(0,len(party)):\n",
    "        counts.loc[party[j] ,select[i]] = data[data[select[i]] == 'y' ].Party.value_counts().loc[party[j]]\n",
    "# Display the counts object at the end\n",
    "counts"
   ]
  },
  {
   "cell_type": "markdown",
   "metadata": {},
   "source": [
    "**Step 5:** Draw a bar chart that shows the number of republicans and democrats who voted yes on the following bills: 'Water project', 'Budget resolution', 'MX Missile', 'Immigration', and 'Education'."
   ]
  },
  {
   "cell_type": "code",
   "execution_count": 3,
   "metadata": {},
   "outputs": [
    {
     "data": {
      "text/plain": [
       "<matplotlib.axes._subplots.AxesSubplot at 0x12126a978>"
      ]
     },
     "execution_count": 3,
     "metadata": {},
     "output_type": "execute_result"
    },
    {
     "data": {
      "image/png": "[encoded data removed]",
      "text/plain": [
       "<Figure size 432x288 with 1 Axes>"
      ]
     },
     "metadata": {
      "needs_background": "light"
     },
     "output_type": "display_data"
    }
   ],
   "source": [
    "import matplotlib\n",
    "\n",
    "%matplotlib inline\n",
    "\n",
    "counts.T.plot(kind='bar')   # fill in the plot type"
   ]
  },
  {
   "cell_type": "markdown",
   "metadata": {},
   "source": [
    "**Step 6:** Write the correspoding Python regular expression to parse the fire incident data for the city of Pittsburgh (https://data.amerigeoss.org/dataset/73340325-143a-4ab1-b37f-b08caa399720). You should parse the sample data file (named fire_incidents_Pittsburgh.csv) provided on the class webpage instead of using the original raw data. Your Python code must extract the \"incidence_type\" (third column) and address (fourth column) from each line and display them on the screen. You are allowed to use only Python regular expression to do this (instead of using csv, pandas, or other library modules). Note that some columns contain commas while other columns may be empty. "
   ]
  },
  {
   "cell_type": "code",
   "execution_count": 4,
   "metadata": {},
   "outputs": [
    {
     "name": "stdout",
     "output_type": "stream",
     "text": [
      "Building fire at 800 BLOCK CENTER ST, WILKINSBURG PA 15221\n",
      "Building fire at 1100 BLOCK JANE ST, WILKINSBURG PA 15221\n",
      "Passenger vehicle fire at SB STATE HWY 28 SB AT 31S, PITTSBURGH PA 15212\n",
      "Passenger vehicle fire at 1700 BLOCK BELLEAU DR, PITTSBURGH PA 15212\n",
      "Building fire at 2400 BLOCK VILLAGE RD, PITTSBURGH PA 15205\n",
      "Outside rubbish fire, Other at S 7TH ST & E CARSON ST, PITTSBURGH PA 15203\n",
      "Cooking fire, confined to container at 200 BLOCK E OHIO ST, PITTSBURGH PA 15212\n",
      "Building fire at 7000 BLOCK LEMINGTON AVE, PITTSBURGH PA 15206\n",
      "Building fire at 100 BLOCK SPENCER AVE, PITTSBURGH PA 15227\n",
      "Passenger vehicle fire at 1200 BLOCK WESTFIELD ST, PITTSBURGH PA 15216\n"
     ]
    }
   ],
   "source": [
    "import re\n",
    "\n",
    "regex = r'(\\w+),(\\d+),\"*([^\"]*)\"*,\\\"(.*?)\\\",(\\d+-\\d+-\\d+\\w\\d+:\\d+:\\d+),(-*[\\d\\.]+)*,(-*[\\d\\.]+)*'   # fill in the pattern\n",
    "\n",
    "with open('fire_incidents_Pittsburgh.csv','r') as f:\n",
    "    column_names = f.readline().strip().split(',')\n",
    "\n",
    "    for line in f:\n",
    "        fields = re.split(regex, line)              # fill in the function parameters\n",
    "        print(fields[3] + ' at ' + fields[4])"
   ]
  },
  {
   "cell_type": "code",
   "execution_count": null,
   "metadata": {},
   "outputs": [],
   "source": []
  }
 ],
 "metadata": {
  "anaconda-cloud": {},
  "kernelspec": {
   "display_name": "Python 3",
   "language": "python",
   "name": "python3"
  },
  "language_info": {
   "codemirror_mode": {
    "name": "ipython",
    "version": 3
   },
   "file_extension": ".py",
   "mimetype": "text/x-python",
   "name": "python",
   "nbconvert_exporter": "python",
   "pygments_lexer": "ipython3",
   "version": "3.7.1"
  }
 },
 "nbformat": 4,
 "nbformat_minor": 2
}
