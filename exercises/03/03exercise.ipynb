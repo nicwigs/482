{
 "cells": [
  {
   "cell_type": "markdown",
   "metadata": {},
   "source": [
    "# Exercise 3 (Due: January 25, 2019 before midnight)\n",
    "\n",
    "The purpose of this exercise is to help you get familiar with MongoDB and the pymongo library. Follow the instructions below to complete the exercise. Use the template notebook below to write and execute your python program. Submit the notebook via D2L. Make sure the notebook also displays the query results. You should also convert the notebook to HTML and submit the HTML file as well.\n",
    "\n",
    "In this exercise, you need to write a Jupyter notebook script that will open a sample data file named bike_rental.csv data file and store the data in MongoDB. You will also write a few simple queries to retrieve information from the database. The original dataset was obtained from https://archive.ics.uci.edu/ml/datasets/bike+sharing+dataset. The sample data contain the total number of bike rentals on each day for a 2-year period from 2011 to 2012. There should be 7 columns (fields) in the sample file: *date, season, holiday, weekday, workingday, weather, and rentalcount*. Make sure you use the sample data from the class website instead of the original raw data."
   ]
  },
  {
   "cell_type": "markdown",
   "metadata": {},
   "source": [
    "**Step 1.** Install MongoDB to your machine and launch the MongoDB server on your machine.\n",
    "\n",
    "**Step 2.** Write a python script to load the data file and store each record in MongoDB using pymongo. To do this, your script should perform the following steps: \n",
    "\n",
    "- Open a database connection to the MongoDB server and use the \"test\" database to store the data.\n",
    "\n",
    "- Open the input file \"bike_rental.csv\".\n",
    "\n",
    "- Read the first line of the input file and extract the names of each field. Store the field names in a list called field_names. Hint: you may use the split() function to parse each line, using comma as the delimiter. See the lecture2.html sample code on \"Loading CSV file with Standard Python Library\". \n",
    "\n",
    "- For each subsequent lines, extract the corresponding fields and store them in a dictionary object named *record*. Note that all the fields must be stored as integer-valued except for date, which is a string. Use pymongo to insert the record into a collection named \"bike\" in MongoDB.\n",
    "\n",
    "- After processing all the lines in the input file, count the number of records stored in the database.\n",
    "\n",
    "- Close the database connection. "
   ]
  },
  {
   "cell_type": "code",
   "execution_count": 1,
   "metadata": {},
   "outputs": [
    {
     "name": "stdout",
     "output_type": "stream",
     "text": [
      "Number of records =  731\n"
     ]
    }
   ],
   "source": [
    "import pymongo\n",
    "\n",
    "try:     \n",
    "    connection = pymongo.MongoClient('localhost', 27017)\n",
    "    db = connection['test']\n",
    "    \n",
    "    if db.bike.count_documents({}) > 0:\n",
    "        db.bike.drop()\n",
    "\n",
    "    # Open the bike_rental.csv file \n",
    "    # Read the first line and extract the field names\n",
    "    # For each remaining lines, extract the fields and insert them into the database one record at a time\n",
    "\n",
    "    with open('bike_rental.csv','r') as f:\n",
    "        field_names = f.readline().strip().split(',')       # extract the field names\n",
    "        for line in f:\n",
    "            fields = line.strip().split(',')                # extract list of values for all the fields \n",
    "            record = {}                                     # initialize the record\n",
    "            for i in range(len(fields)):\n",
    "                if i == 0:\n",
    "                    record[field_names[i]] = fields[i]      # extract the date string\n",
    "                else:\n",
    "                    record[field_names[i]] = int(fields[i]) # extract the remaining fields as integers\n",
    "            db.bike.insert_one(record)      \n",
    "            \n",
    "    numRecords = db.bike.count_documents({})                # count number of records in bike collection\n",
    "    print(\"Number of records = \", numRecords)\n",
    "    connection.close()\n",
    "\n",
    "except pymongo.errors.ConnectionFailure as e:\n",
    "    print(\"Could not connect to MongoDB: %s\" % e)"
   ]
  },
  {
   "cell_type": "markdown",
   "metadata": {},
   "source": [
    "**c.** Write a query to display the number of bikes rented on 1/1/2012 "
   ]
  },
  {
   "cell_type": "code",
   "execution_count": 2,
   "metadata": {},
   "outputs": [
    {
     "name": "stdout",
     "output_type": "stream",
     "text": [
      "Number of bikes rented on 1/1/2012 is 2294\n"
     ]
    }
   ],
   "source": [
    "import pymongo\n",
    "\n",
    "try:\n",
    "    connection = pymongo.MongoClient('localhost', 27017)\n",
    "    db = connection['test']\n",
    "\n",
    "    # Query to find the record for 1/1/2012 \n",
    "\n",
    "    for result in db.bike.find({\"date\": \"1/1/2012\"}):\n",
    "        count = result['rentalcount']\n",
    "        print(\"Number of bikes rented on 1/1/2012 is\", count)\n",
    "\n",
    "    connection.close()\n",
    "    \n",
    "except pymongo.errors.ConnectionFailure as e:\n",
    "    print(\"Could not connect to MongoDB: %s\" % e)"
   ]
  },
  {
   "cell_type": "markdown",
   "metadata": {},
   "source": [
    "**d.** Write a query to display the number of bikes rented on each public holiday dates (i.e., when holiday = 1)."
   ]
  },
  {
   "cell_type": "code",
   "execution_count": 3,
   "metadata": {},
   "outputs": [
    {
     "name": "stdout",
     "output_type": "stream",
     "text": [
      "Date = 1/17/2011  Count = 1000\n",
      "Date = 2/21/2011  Count = 1107\n",
      "Date = 4/15/2011  Count = 3126\n",
      "Date = 5/30/2011  Count = 4098\n",
      "Date = 7/4/2011  Count = 6043\n",
      "Date = 9/5/2011  Count = 3351\n",
      "Date = 10/10/2011  Count = 5117\n",
      "Date = 11/11/2011  Count = 3368\n",
      "Date = 11/24/2011  Count = 1495\n",
      "Date = 12/26/2011  Count = 1317\n",
      "Date = 1/2/2012  Count = 1951\n",
      "Date = 1/16/2012  Count = 2298\n",
      "Date = 2/20/2012  Count = 3129\n",
      "Date = 4/16/2012  Count = 6370\n",
      "Date = 5/28/2012  Count = 6043\n",
      "Date = 7/4/2012  Count = 7403\n",
      "Date = 9/3/2012  Count = 6034\n",
      "Date = 10/8/2012  Count = 5478\n",
      "Date = 11/12/2012  Count = 6269\n",
      "Date = 11/22/2012  Count = 2425\n",
      "Date = 12/25/2012  Count = 1013\n"
     ]
    }
   ],
   "source": [
    "import pymongo\n",
    "\n",
    "try:\n",
    "    connection = pymongo.MongoClient('localhost', 27017)\n",
    "    db = connection['test']\n",
    "\n",
    "    for record in db.bike.find({\"holiday\":1}):\n",
    "        rental_date = record['date']\n",
    "        rental_count = record['rentalcount']\n",
    "        print('Date =', rental_date, ' Count =', rental_count)\n",
    "    \n",
    "    connection.close()\n",
    "\n",
    "except pymongo.errors.ConnectionFailure as e:\n",
    "    print(\"Could not connect to MongoDB: %s\" % e)"
   ]
  },
  {
   "cell_type": "markdown",
   "metadata": {},
   "source": [
    "**e.** Write an aggregate query to calculate the average number of bikes rented for each season."
   ]
  },
  {
   "cell_type": "code",
   "execution_count": 4,
   "metadata": {},
   "outputs": [
    {
     "name": "stdout",
     "output_type": "stream",
     "text": [
      "{'_id': 4, 'avgRental': 4728.162921348315}\n",
      "{'_id': 3, 'avgRental': 5644.303191489362}\n",
      "{'_id': 2, 'avgRental': 4992.33152173913}\n",
      "{'_id': 1, 'avgRental': 2604.1325966850827}\n"
     ]
    }
   ],
   "source": [
    "import pymongo\n",
    "\n",
    "try:\n",
    "    connection = pymongo.MongoClient('localhost', 27017)\n",
    "    db = connection['test']\n",
    "\n",
    "    cursor = db.bike.aggregate([\n",
    "                {\"$group\": {\"_id\": \"$season\", \"avgRental\": {\"$avg\": \"$rentalcount\"}}}\n",
    "             ])\n",
    "    for record in cursor:\n",
    "        print(record)\n",
    "    \n",
    "    connection.close()\n",
    "\n",
    "except pymongo.errors.ConnectionFailure as e:\n",
    "    print(\"Could not connect to MongoDB: %s\" % e)"
   ]
  },
  {
   "cell_type": "code",
   "execution_count": null,
   "metadata": {},
   "outputs": [],
   "source": []
  }
 ],
 "metadata": {
  "anaconda-cloud": {},
  "kernelspec": {
   "display_name": "Python 3",
   "language": "python",
   "name": "python3"
  },
  "language_info": {
   "codemirror_mode": {
    "name": "ipython",
    "version": 3
   },
   "file_extension": ".py",
   "mimetype": "text/x-python",
   "name": "python",
   "nbconvert_exporter": "python",
   "pygments_lexer": "ipython3",
   "version": "3.7.1"
  }
 },
 "nbformat": 4,
 "nbformat_minor": 1
}
