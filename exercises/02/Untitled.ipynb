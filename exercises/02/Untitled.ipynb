{
 "cells": [
  {
   "cell_type": "code",
   "execution_count": 2,
   "metadata": {},
   "outputs": [],
   "source": [
    "uname = \"cse482\"\n",
    "pwd = \"cse482\"\n",
    "hname = \"localhost\"\n",
    "dbname = \"cse482\"\n",
    "\n",
    "import mysql.connector\n",
    "from mysql.connector import errorcode\n",
    "\n",
    "try:\n",
    "    cnx = mysql.connector.connect(user=uname, password=pwd, host=hname, database=dbname)\n",
    "    cursor = cnx.cursor()\n",
    "    query = \"DROP TABLE IF EXISTS Health\"\n",
    "    cursor.execute(query)\n",
    "\n",
    "    query = \"\"\" CREATE TABLE IF NOT EXISTS Health\n",
    "                (TweetID BIGINT PRIMARY KEY,\n",
    "                UserID BIGINT,\n",
    "                Message VARCHAR(200)) \n",
    "            \"\"\"\n",
    "    cursor.execute(query)\n",
    "    cursor.close()\n",
    "    cnx.close()\n",
    "    \n",
    "except mysql.connector.Error as e:\n",
    "    print(e.msg)       # error message"
   ]
  },
  {
   "cell_type": "code",
   "execution_count": null,
   "metadata": {},
   "outputs": [],
   "source": []
  },
  {
   "cell_type": "code",
   "execution_count": null,
   "metadata": {},
   "outputs": [],
   "source": []
  }
 ],
 "metadata": {
  "kernelspec": {
   "display_name": "Python 2",
   "language": "python",
   "name": "py27"
  },
  "language_info": {
   "codemirror_mode": {
    "name": "ipython",
    "version": 2
   },
   "file_extension": ".py",
   "mimetype": "text/x-python",
   "name": "python",
   "nbconvert_exporter": "python",
   "pygments_lexer": "ipython2",
   "version": "2.7.15"
  }
 },
 "nbformat": 4,
 "nbformat_minor": 2
}
