{
 "cells": [
  {
   "cell_type": "markdown",
   "metadata": {},
   "source": [
    "# Example Code for Lecture 15\n",
    "\n",
    "The following notebook contains examples of python code for anomaly detection."
   ]
  },
  {
   "cell_type": "markdown",
   "metadata": {},
   "source": [
    "# Graphical Approach"
   ]
  },
  {
   "cell_type": "code",
   "execution_count": 1,
   "metadata": {
    "scrolled": true
   },
   "outputs": [
    {
     "data": {
      "text/html": [
       "<div>\n",
       "<style scoped>\n",
       "    .dataframe tbody tr th:only-of-type {\n",
       "        vertical-align: middle;\n",
       "    }\n",
       "\n",
       "    .dataframe tbody tr th {\n",
       "        vertical-align: top;\n",
       "    }\n",
       "\n",
       "    .dataframe thead th {\n",
       "        text-align: right;\n",
       "    }\n",
       "</style>\n",
       "<table border=\"1\" class=\"dataframe\">\n",
       "  <thead>\n",
       "    <tr style=\"text-align: right;\">\n",
       "      <th></th>\n",
       "      <th>Gender</th>\n",
       "      <th>Height</th>\n",
       "      <th>Weight</th>\n",
       "    </tr>\n",
       "  </thead>\n",
       "  <tbody>\n",
       "    <tr>\n",
       "      <th>0</th>\n",
       "      <td>Female</td>\n",
       "      <td>4.8</td>\n",
       "      <td>99.2</td>\n",
       "    </tr>\n",
       "    <tr>\n",
       "      <th>1</th>\n",
       "      <td>Female</td>\n",
       "      <td>5.1</td>\n",
       "      <td>109.5</td>\n",
       "    </tr>\n",
       "    <tr>\n",
       "      <th>2</th>\n",
       "      <td>Female</td>\n",
       "      <td>5.3</td>\n",
       "      <td>118.7</td>\n",
       "    </tr>\n",
       "    <tr>\n",
       "      <th>3</th>\n",
       "      <td>Male</td>\n",
       "      <td>5.4</td>\n",
       "      <td>136.4</td>\n",
       "    </tr>\n",
       "    <tr>\n",
       "      <th>4</th>\n",
       "      <td>Male</td>\n",
       "      <td>5.4</td>\n",
       "      <td>162.8</td>\n",
       "    </tr>\n",
       "  </tbody>\n",
       "</table>\n",
       "</div>"
      ],
      "text/plain": [
       "   Gender  Height  Weight\n",
       "0  Female     4.8    99.2\n",
       "1  Female     5.1   109.5\n",
       "2  Female     5.3   118.7\n",
       "3    Male     5.4   136.4\n",
       "4    Male     5.4   162.8"
      ]
     },
     "execution_count": 1,
     "metadata": {},
     "output_type": "execute_result"
    }
   ],
   "source": [
    "import pandas as pd\n",
    "\n",
    "data = pd.read_csv('patients.csv',header='infer')\n",
    "data.head()"
   ]
  },
  {
   "cell_type": "code",
   "execution_count": 2,
   "metadata": {},
   "outputs": [
    {
     "name": "stdout",
     "output_type": "stream",
     "text": [
      "Number of rows = 15\n"
     ]
    }
   ],
   "source": [
    "print('Number of rows =', data.shape[0])"
   ]
  },
  {
   "cell_type": "code",
   "execution_count": 3,
   "metadata": {},
   "outputs": [
    {
     "data": {
      "text/plain": [
       "<matplotlib.axes._subplots.AxesSubplot at 0x1e89cb12198>"
      ]
     },
     "execution_count": 3,
     "metadata": {},
     "output_type": "execute_result"
    },
    {
     "data": {
      "image/png": "[encoded data removed]",
      "text/plain": [
       "<Figure size 432x288 with 1 Axes>"
      ]
     },
     "metadata": {
      "needs_background": "light"
     },
     "output_type": "display_data"
    }
   ],
   "source": [
    "%matplotlib inline \n",
    "\n",
    "data.boxplot()"
   ]
  },
  {
   "cell_type": "code",
   "execution_count": 4,
   "metadata": {},
   "outputs": [
    {
     "data": {
      "text/plain": [
       "<matplotlib.axes._subplots.AxesSubplot at 0x1e899e86198>"
      ]
     },
     "execution_count": 4,
     "metadata": {},
     "output_type": "execute_result"
    },
    {
     "data": {
      "image/png": "[encoded data removed]",
      "text/plain": [
       "<Figure size 432x288 with 1 Axes>"
      ]
     },
     "metadata": {
      "needs_background": "light"
     },
     "output_type": "display_data"
    }
   ],
   "source": [
    "data.plot.scatter(x='Height',y='Weight')"
   ]
  },
  {
   "cell_type": "markdown",
   "metadata": {},
   "source": [
    "# Z-Score Approach"
   ]
  },
  {
   "cell_type": "code",
   "execution_count": 5,
   "metadata": {},
   "outputs": [
    {
     "data": {
      "text/html": [
       "<div>\n",
       "<style scoped>\n",
       "    .dataframe tbody tr th:only-of-type {\n",
       "        vertical-align: middle;\n",
       "    }\n",
       "\n",
       "    .dataframe tbody tr th {\n",
       "        vertical-align: top;\n",
       "    }\n",
       "\n",
       "    .dataframe thead th {\n",
       "        text-align: right;\n",
       "    }\n",
       "</style>\n",
       "<table border=\"1\" class=\"dataframe\">\n",
       "  <thead>\n",
       "    <tr style=\"text-align: right;\">\n",
       "      <th></th>\n",
       "      <th>Height</th>\n",
       "      <th>Weight</th>\n",
       "    </tr>\n",
       "  </thead>\n",
       "  <tbody>\n",
       "    <tr>\n",
       "      <th>0</th>\n",
       "      <td>-1.895778</td>\n",
       "      <td>-1.572074</td>\n",
       "    </tr>\n",
       "    <tr>\n",
       "      <th>1</th>\n",
       "      <td>-1.286421</td>\n",
       "      <td>-1.244868</td>\n",
       "    </tr>\n",
       "    <tr>\n",
       "      <th>2</th>\n",
       "      <td>-0.880183</td>\n",
       "      <td>-0.952605</td>\n",
       "    </tr>\n",
       "    <tr>\n",
       "      <th>3</th>\n",
       "      <td>-0.677064</td>\n",
       "      <td>-0.390318</td>\n",
       "    </tr>\n",
       "    <tr>\n",
       "      <th>4</th>\n",
       "      <td>-0.677064</td>\n",
       "      <td>0.448347</td>\n",
       "    </tr>\n",
       "    <tr>\n",
       "      <th>5</th>\n",
       "      <td>-0.270825</td>\n",
       "      <td>-0.885893</td>\n",
       "    </tr>\n",
       "    <tr>\n",
       "      <th>6</th>\n",
       "      <td>-0.270825</td>\n",
       "      <td>-0.129824</td>\n",
       "    </tr>\n",
       "    <tr>\n",
       "      <th>7</th>\n",
       "      <td>-0.067706</td>\n",
       "      <td>0.546827</td>\n",
       "    </tr>\n",
       "    <tr>\n",
       "      <th>8</th>\n",
       "      <td>0.135413</td>\n",
       "      <td>0.972513</td>\n",
       "    </tr>\n",
       "    <tr>\n",
       "      <th>9</th>\n",
       "      <td>0.338532</td>\n",
       "      <td>0.197383</td>\n",
       "    </tr>\n",
       "    <tr>\n",
       "      <th>10</th>\n",
       "      <td>0.947889</td>\n",
       "      <td>-1.181332</td>\n",
       "    </tr>\n",
       "    <tr>\n",
       "      <th>11</th>\n",
       "      <td>0.744770</td>\n",
       "      <td>1.321957</td>\n",
       "    </tr>\n",
       "    <tr>\n",
       "      <th>12</th>\n",
       "      <td>0.947889</td>\n",
       "      <td>0.343514</td>\n",
       "    </tr>\n",
       "    <tr>\n",
       "      <th>13</th>\n",
       "      <td>1.151008</td>\n",
       "      <td>0.962983</td>\n",
       "    </tr>\n",
       "    <tr>\n",
       "      <th>14</th>\n",
       "      <td>1.760366</td>\n",
       "      <td>1.563391</td>\n",
       "    </tr>\n",
       "  </tbody>\n",
       "</table>\n",
       "</div>"
      ],
      "text/plain": [
       "      Height    Weight\n",
       "0  -1.895778 -1.572074\n",
       "1  -1.286421 -1.244868\n",
       "2  -0.880183 -0.952605\n",
       "3  -0.677064 -0.390318\n",
       "4  -0.677064  0.448347\n",
       "5  -0.270825 -0.885893\n",
       "6  -0.270825 -0.129824\n",
       "7  -0.067706  0.546827\n",
       "8   0.135413  0.972513\n",
       "9   0.338532  0.197383\n",
       "10  0.947889 -1.181332\n",
       "11  0.744770  1.321957\n",
       "12  0.947889  0.343514\n",
       "13  1.151008  0.962983\n",
       "14  1.760366  1.563391"
      ]
     },
     "execution_count": 5,
     "metadata": {},
     "output_type": "execute_result"
    }
   ],
   "source": [
    "Z = data.drop('Gender', axis=1)\n",
    "Z = (Z - Z.mean())/Z.std()\n",
    "Z"
   ]
  },
  {
   "cell_type": "code",
   "execution_count": 6,
   "metadata": {},
   "outputs": [
    {
     "data": {
      "text/plain": [
       "Height      5.733333\n",
       "Weight    148.686667\n",
       "dtype: float64"
      ]
     },
     "execution_count": 6,
     "metadata": {},
     "output_type": "execute_result"
    }
   ],
   "source": [
    "data.mean()"
   ]
  },
  {
   "cell_type": "code",
   "execution_count": 7,
   "metadata": {},
   "outputs": [
    {
     "data": {
      "text/html": [
       "<div>\n",
       "<style scoped>\n",
       "    .dataframe tbody tr th:only-of-type {\n",
       "        vertical-align: middle;\n",
       "    }\n",
       "\n",
       "    .dataframe tbody tr th {\n",
       "        vertical-align: top;\n",
       "    }\n",
       "\n",
       "    .dataframe thead th {\n",
       "        text-align: right;\n",
       "    }\n",
       "</style>\n",
       "<table border=\"1\" class=\"dataframe\">\n",
       "  <thead>\n",
       "    <tr style=\"text-align: right;\">\n",
       "      <th></th>\n",
       "      <th>Height</th>\n",
       "      <th>Weight</th>\n",
       "    </tr>\n",
       "  </thead>\n",
       "  <tbody>\n",
       "    <tr>\n",
       "      <th>Height</th>\n",
       "      <td>0.242381</td>\n",
       "      <td>10.924048</td>\n",
       "    </tr>\n",
       "    <tr>\n",
       "      <th>Weight</th>\n",
       "      <td>10.924048</td>\n",
       "      <td>990.901238</td>\n",
       "    </tr>\n",
       "  </tbody>\n",
       "</table>\n",
       "</div>"
      ],
      "text/plain": [
       "           Height      Weight\n",
       "Height   0.242381   10.924048\n",
       "Weight  10.924048  990.901238"
      ]
     },
     "execution_count": 7,
     "metadata": {},
     "output_type": "execute_result"
    }
   ],
   "source": [
    "data.cov()"
   ]
  },
  {
   "cell_type": "code",
   "execution_count": 8,
   "metadata": {},
   "outputs": [
    {
     "data": {
      "text/html": [
       "<div>\n",
       "<style scoped>\n",
       "    .dataframe tbody tr th:only-of-type {\n",
       "        vertical-align: middle;\n",
       "    }\n",
       "\n",
       "    .dataframe tbody tr th {\n",
       "        vertical-align: top;\n",
       "    }\n",
       "\n",
       "    .dataframe thead th {\n",
       "        text-align: right;\n",
       "    }\n",
       "</style>\n",
       "<table border=\"1\" class=\"dataframe\">\n",
       "  <thead>\n",
       "    <tr style=\"text-align: right;\">\n",
       "      <th></th>\n",
       "      <th>Height</th>\n",
       "      <th>Weight</th>\n",
       "    </tr>\n",
       "  </thead>\n",
       "  <tbody>\n",
       "    <tr>\n",
       "      <th>Height</th>\n",
       "      <td>8.200057</td>\n",
       "      <td>-0.090400</td>\n",
       "    </tr>\n",
       "    <tr>\n",
       "      <th>Weight</th>\n",
       "      <td>-0.090400</td>\n",
       "      <td>0.002006</td>\n",
       "    </tr>\n",
       "  </tbody>\n",
       "</table>\n",
       "</div>"
      ],
      "text/plain": [
       "          Height    Weight\n",
       "Height  8.200057 -0.090400\n",
       "Weight -0.090400  0.002006"
      ]
     },
     "execution_count": 8,
     "metadata": {},
     "output_type": "execute_result"
    }
   ],
   "source": [
    "import numpy as np\n",
    "\n",
    "S = data.cov()\n",
    "inv_S = pd.DataFrame(np.linalg.inv(S.values),S.columns,S.index)\n",
    "inv_S"
   ]
  },
  {
   "cell_type": "markdown",
   "metadata": {},
   "source": [
    "The following example illustrates how to compute Mahalanobis distance of a point."
   ]
  },
  {
   "cell_type": "code",
   "execution_count": 9,
   "metadata": {},
   "outputs": [
    {
     "data": {
      "text/html": [
       "<div>\n",
       "<style scoped>\n",
       "    .dataframe tbody tr th:only-of-type {\n",
       "        vertical-align: middle;\n",
       "    }\n",
       "\n",
       "    .dataframe tbody tr th {\n",
       "        vertical-align: top;\n",
       "    }\n",
       "\n",
       "    .dataframe thead th {\n",
       "        text-align: right;\n",
       "    }\n",
       "</style>\n",
       "<table border=\"1\" class=\"dataframe\">\n",
       "  <thead>\n",
       "    <tr style=\"text-align: right;\">\n",
       "      <th></th>\n",
       "      <th>Z</th>\n",
       "    </tr>\n",
       "  </thead>\n",
       "  <tbody>\n",
       "    <tr>\n",
       "      <th>0</th>\n",
       "      <td>3.704453</td>\n",
       "    </tr>\n",
       "    <tr>\n",
       "      <th>1</th>\n",
       "      <td>1.882060</td>\n",
       "    </tr>\n",
       "    <tr>\n",
       "      <th>2</th>\n",
       "      <td>0.994029</td>\n",
       "    </tr>\n",
       "    <tr>\n",
       "      <th>3</th>\n",
       "      <td>0.473436</td>\n",
       "    </tr>\n",
       "    <tr>\n",
       "      <th>4</th>\n",
       "      <td>2.161210</td>\n",
       "    </tr>\n",
       "    <tr>\n",
       "      <th>5</th>\n",
       "      <td>1.033355</td>\n",
       "    </tr>\n",
       "    <tr>\n",
       "      <th>6</th>\n",
       "      <td>0.080761</td>\n",
       "    </tr>\n",
       "    <tr>\n",
       "      <th>7</th>\n",
       "      <td>0.707163</td>\n",
       "    </tr>\n",
       "    <tr>\n",
       "      <th>8</th>\n",
       "      <td>1.547227</td>\n",
       "    </tr>\n",
       "    <tr>\n",
       "      <th>9</th>\n",
       "      <td>0.117985</td>\n",
       "    </tr>\n",
       "    <tr>\n",
       "      <th>10</th>\n",
       "      <td>7.697066</td>\n",
       "    </tr>\n",
       "    <tr>\n",
       "      <th>11</th>\n",
       "      <td>1.817117</td>\n",
       "    </tr>\n",
       "    <tr>\n",
       "      <th>12</th>\n",
       "      <td>1.107963</td>\n",
       "    </tr>\n",
       "    <tr>\n",
       "      <th>13</th>\n",
       "      <td>1.370530</td>\n",
       "    </tr>\n",
       "    <tr>\n",
       "      <th>14</th>\n",
       "      <td>3.305646</td>\n",
       "    </tr>\n",
       "  </tbody>\n",
       "</table>\n",
       "</div>"
      ],
      "text/plain": [
       "           Z\n",
       "0   3.704453\n",
       "1   1.882060\n",
       "2   0.994029\n",
       "3   0.473436\n",
       "4   2.161210\n",
       "5   1.033355\n",
       "6   0.080761\n",
       "7   0.707163\n",
       "8   1.547227\n",
       "9   0.117985\n",
       "10  7.697066\n",
       "11  1.817117\n",
       "12  1.107963\n",
       "13  1.370530\n",
       "14  3.305646"
      ]
     },
     "execution_count": 9,
     "metadata": {},
     "output_type": "execute_result"
    }
   ],
   "source": [
    "centered_data = (data.iloc[:,1:] - data.mean()).values\n",
    "inv_S = np.linalg.inv(data.cov().values)\n",
    "\n",
    "Z = np.zeros((centered_data.shape[0],1))\n",
    "for i in range(Z.shape[0]):\n",
    "    Z[i] = np.dot(centered_data[i],np.dot(inv_S,centered_data[i].T))\n",
    "\n",
    "pd.DataFrame(Z,columns=['Z'])"
   ]
  },
  {
   "cell_type": "code",
   "execution_count": 10,
   "metadata": {},
   "outputs": [
    {
     "data": {
      "text/html": [
       "<div>\n",
       "<style scoped>\n",
       "    .dataframe tbody tr th:only-of-type {\n",
       "        vertical-align: middle;\n",
       "    }\n",
       "\n",
       "    .dataframe tbody tr th {\n",
       "        vertical-align: top;\n",
       "    }\n",
       "\n",
       "    .dataframe thead th {\n",
       "        text-align: right;\n",
       "    }\n",
       "</style>\n",
       "<table border=\"1\" class=\"dataframe\">\n",
       "  <thead>\n",
       "    <tr style=\"text-align: right;\">\n",
       "      <th></th>\n",
       "      <th>Height</th>\n",
       "      <th>Weight</th>\n",
       "    </tr>\n",
       "  </thead>\n",
       "  <tbody>\n",
       "    <tr>\n",
       "      <th>Height</th>\n",
       "      <td>1.000000</td>\n",
       "      <td>0.704886</td>\n",
       "    </tr>\n",
       "    <tr>\n",
       "      <th>Weight</th>\n",
       "      <td>0.704886</td>\n",
       "      <td>1.000000</td>\n",
       "    </tr>\n",
       "  </tbody>\n",
       "</table>\n",
       "</div>"
      ],
      "text/plain": [
       "          Height    Weight\n",
       "Height  1.000000  0.704886\n",
       "Weight  0.704886  1.000000"
      ]
     },
     "execution_count": 10,
     "metadata": {},
     "output_type": "execute_result"
    }
   ],
   "source": [
    "data.corr()"
   ]
  },
  {
   "cell_type": "code",
   "execution_count": 11,
   "metadata": {},
   "outputs": [
    {
     "data": {
      "text/html": [
       "<div>\n",
       "<style scoped>\n",
       "    .dataframe tbody tr th:only-of-type {\n",
       "        vertical-align: middle;\n",
       "    }\n",
       "\n",
       "    .dataframe tbody tr th {\n",
       "        vertical-align: top;\n",
       "    }\n",
       "\n",
       "    .dataframe thead th {\n",
       "        text-align: right;\n",
       "    }\n",
       "</style>\n",
       "<table border=\"1\" class=\"dataframe\">\n",
       "  <thead>\n",
       "    <tr style=\"text-align: right;\">\n",
       "      <th></th>\n",
       "      <th>Height_inches</th>\n",
       "      <th>Weight</th>\n",
       "    </tr>\n",
       "  </thead>\n",
       "  <tbody>\n",
       "    <tr>\n",
       "      <th>Height_inches</th>\n",
       "      <td>34.902857</td>\n",
       "      <td>131.088571</td>\n",
       "    </tr>\n",
       "    <tr>\n",
       "      <th>Weight</th>\n",
       "      <td>131.088571</td>\n",
       "      <td>990.901238</td>\n",
       "    </tr>\n",
       "  </tbody>\n",
       "</table>\n",
       "</div>"
      ],
      "text/plain": [
       "               Height_inches      Weight\n",
       "Height_inches      34.902857  131.088571\n",
       "Weight            131.088571  990.901238"
      ]
     },
     "execution_count": 11,
     "metadata": {},
     "output_type": "execute_result"
    }
   ],
   "source": [
    "data['Height_inches'] = data['Height']*12\n",
    "data[['Height_inches','Weight']].cov()"
   ]
  },
  {
   "cell_type": "code",
   "execution_count": 12,
   "metadata": {},
   "outputs": [
    {
     "data": {
      "text/html": [
       "<div>\n",
       "<style scoped>\n",
       "    .dataframe tbody tr th:only-of-type {\n",
       "        vertical-align: middle;\n",
       "    }\n",
       "\n",
       "    .dataframe tbody tr th {\n",
       "        vertical-align: top;\n",
       "    }\n",
       "\n",
       "    .dataframe thead th {\n",
       "        text-align: right;\n",
       "    }\n",
       "</style>\n",
       "<table border=\"1\" class=\"dataframe\">\n",
       "  <thead>\n",
       "    <tr style=\"text-align: right;\">\n",
       "      <th></th>\n",
       "      <th>Height_inches</th>\n",
       "      <th>Weight</th>\n",
       "    </tr>\n",
       "  </thead>\n",
       "  <tbody>\n",
       "    <tr>\n",
       "      <th>Height_inches</th>\n",
       "      <td>1.000000</td>\n",
       "      <td>0.704886</td>\n",
       "    </tr>\n",
       "    <tr>\n",
       "      <th>Weight</th>\n",
       "      <td>0.704886</td>\n",
       "      <td>1.000000</td>\n",
       "    </tr>\n",
       "  </tbody>\n",
       "</table>\n",
       "</div>"
      ],
      "text/plain": [
       "               Height_inches    Weight\n",
       "Height_inches       1.000000  0.704886\n",
       "Weight              0.704886  1.000000"
      ]
     },
     "execution_count": 12,
     "metadata": {},
     "output_type": "execute_result"
    }
   ],
   "source": [
    "data[['Height_inches','Weight']].corr()"
   ]
  },
  {
   "cell_type": "markdown",
   "metadata": {},
   "source": [
    "# Distance-based Outlier Detection (using numpy and scipy)"
   ]
  },
  {
   "cell_type": "code",
   "execution_count": 13,
   "metadata": {},
   "outputs": [
    {
     "data": {
      "text/html": [
       "<div>\n",
       "<style scoped>\n",
       "    .dataframe tbody tr th:only-of-type {\n",
       "        vertical-align: middle;\n",
       "    }\n",
       "\n",
       "    .dataframe tbody tr th {\n",
       "        vertical-align: top;\n",
       "    }\n",
       "\n",
       "    .dataframe thead th {\n",
       "        text-align: right;\n",
       "    }\n",
       "</style>\n",
       "<table border=\"1\" class=\"dataframe\">\n",
       "  <thead>\n",
       "    <tr style=\"text-align: right;\">\n",
       "      <th></th>\n",
       "      <th>0</th>\n",
       "      <th>1</th>\n",
       "      <th>2</th>\n",
       "      <th>3</th>\n",
       "      <th>4</th>\n",
       "      <th>5</th>\n",
       "      <th>6</th>\n",
       "      <th>7</th>\n",
       "      <th>8</th>\n",
       "      <th>9</th>\n",
       "      <th>...</th>\n",
       "      <th>50</th>\n",
       "      <th>51</th>\n",
       "      <th>52</th>\n",
       "      <th>53</th>\n",
       "      <th>54</th>\n",
       "      <th>55</th>\n",
       "      <th>56</th>\n",
       "      <th>57</th>\n",
       "      <th>58</th>\n",
       "      <th>59</th>\n",
       "    </tr>\n",
       "  </thead>\n",
       "  <tbody>\n",
       "    <tr>\n",
       "      <th>0</th>\n",
       "      <td>0.448130</td>\n",
       "      <td>0.30272</td>\n",
       "      <td>0.39039</td>\n",
       "      <td>1.55520</td>\n",
       "      <td>1.36110</td>\n",
       "      <td>1.00610</td>\n",
       "      <td>0.636930</td>\n",
       "      <td>-0.51374</td>\n",
       "      <td>-0.69051</td>\n",
       "      <td>-1.5134</td>\n",
       "      <td>...</td>\n",
       "      <td>-0.89196</td>\n",
       "      <td>-0.73934</td>\n",
       "      <td>0.821470</td>\n",
       "      <td>1.13340</td>\n",
       "      <td>0.52480</td>\n",
       "      <td>1.5382</td>\n",
       "      <td>1.05790</td>\n",
       "      <td>0.10072</td>\n",
       "      <td>-0.079991</td>\n",
       "      <td>-0.734820</td>\n",
       "    </tr>\n",
       "    <tr>\n",
       "      <th>1</th>\n",
       "      <td>0.324930</td>\n",
       "      <td>0.92102</td>\n",
       "      <td>0.67606</td>\n",
       "      <td>1.56710</td>\n",
       "      <td>0.62195</td>\n",
       "      <td>0.23225</td>\n",
       "      <td>0.699970</td>\n",
       "      <td>-0.29080</td>\n",
       "      <td>-1.06150</td>\n",
       "      <td>-1.1291</td>\n",
       "      <td>...</td>\n",
       "      <td>-0.89692</td>\n",
       "      <td>-1.61170</td>\n",
       "      <td>0.049964</td>\n",
       "      <td>-0.20141</td>\n",
       "      <td>0.96575</td>\n",
       "      <td>1.5515</td>\n",
       "      <td>1.34120</td>\n",
       "      <td>0.54099</td>\n",
       "      <td>0.488130</td>\n",
       "      <td>0.075192</td>\n",
       "    </tr>\n",
       "    <tr>\n",
       "      <th>2</th>\n",
       "      <td>0.065106</td>\n",
       "      <td>0.27966</td>\n",
       "      <td>1.60660</td>\n",
       "      <td>0.90703</td>\n",
       "      <td>0.31790</td>\n",
       "      <td>-0.38201</td>\n",
       "      <td>-0.071902</td>\n",
       "      <td>-1.69230</td>\n",
       "      <td>-1.05300</td>\n",
       "      <td>-1.0928</td>\n",
       "      <td>...</td>\n",
       "      <td>-0.85534</td>\n",
       "      <td>-1.61720</td>\n",
       "      <td>-0.786690</td>\n",
       "      <td>-0.44217</td>\n",
       "      <td>0.61959</td>\n",
       "      <td>1.4380</td>\n",
       "      <td>1.21310</td>\n",
       "      <td>1.20440</td>\n",
       "      <td>0.411550</td>\n",
       "      <td>-0.733190</td>\n",
       "    </tr>\n",
       "    <tr>\n",
       "      <th>3</th>\n",
       "      <td>-0.197290</td>\n",
       "      <td>0.86487</td>\n",
       "      <td>0.91300</td>\n",
       "      <td>1.10690</td>\n",
       "      <td>1.13040</td>\n",
       "      <td>0.22366</td>\n",
       "      <td>-0.070158</td>\n",
       "      <td>-0.91154</td>\n",
       "      <td>-1.32590</td>\n",
       "      <td>-1.3727</td>\n",
       "      <td>...</td>\n",
       "      <td>-1.51920</td>\n",
       "      <td>-1.82530</td>\n",
       "      <td>-0.541960</td>\n",
       "      <td>-0.64238</td>\n",
       "      <td>0.20283</td>\n",
       "      <td>1.1598</td>\n",
       "      <td>1.76730</td>\n",
       "      <td>1.27050</td>\n",
       "      <td>0.200010</td>\n",
       "      <td>-0.351930</td>\n",
       "    </tr>\n",
       "    <tr>\n",
       "      <th>4</th>\n",
       "      <td>-0.295140</td>\n",
       "      <td>0.27611</td>\n",
       "      <td>1.36790</td>\n",
       "      <td>1.12880</td>\n",
       "      <td>0.68236</td>\n",
       "      <td>0.27383</td>\n",
       "      <td>-0.083935</td>\n",
       "      <td>-0.64006</td>\n",
       "      <td>-1.38620</td>\n",
       "      <td>-1.1307</td>\n",
       "      <td>...</td>\n",
       "      <td>-1.03950</td>\n",
       "      <td>-1.28350</td>\n",
       "      <td>-1.317100</td>\n",
       "      <td>-1.13480</td>\n",
       "      <td>-0.46492</td>\n",
       "      <td>0.5699</td>\n",
       "      <td>0.95651</td>\n",
       "      <td>0.87453</td>\n",
       "      <td>0.811540</td>\n",
       "      <td>-0.451390</td>\n",
       "    </tr>\n",
       "  </tbody>\n",
       "</table>\n",
       "<p>5 rows Ã— 60 columns</p>\n",
       "</div>"
      ],
      "text/plain": [
       "         0        1        2        3        4        5         6        7   \\\n",
       "0  0.448130  0.30272  0.39039  1.55520  1.36110  1.00610  0.636930 -0.51374   \n",
       "1  0.324930  0.92102  0.67606  1.56710  0.62195  0.23225  0.699970 -0.29080   \n",
       "2  0.065106  0.27966  1.60660  0.90703  0.31790 -0.38201 -0.071902 -1.69230   \n",
       "3 -0.197290  0.86487  0.91300  1.10690  1.13040  0.22366 -0.070158 -0.91154   \n",
       "4 -0.295140  0.27611  1.36790  1.12880  0.68236  0.27383 -0.083935 -0.64006   \n",
       "\n",
       "        8       9     ...          50       51        52       53       54  \\\n",
       "0 -0.69051 -1.5134    ...    -0.89196 -0.73934  0.821470  1.13340  0.52480   \n",
       "1 -1.06150 -1.1291    ...    -0.89692 -1.61170  0.049964 -0.20141  0.96575   \n",
       "2 -1.05300 -1.0928    ...    -0.85534 -1.61720 -0.786690 -0.44217  0.61959   \n",
       "3 -1.32590 -1.3727    ...    -1.51920 -1.82530 -0.541960 -0.64238  0.20283   \n",
       "4 -1.38620 -1.1307    ...    -1.03950 -1.28350 -1.317100 -1.13480 -0.46492   \n",
       "\n",
       "       55       56       57        58        59  \n",
       "0  1.5382  1.05790  0.10072 -0.079991 -0.734820  \n",
       "1  1.5515  1.34120  0.54099  0.488130  0.075192  \n",
       "2  1.4380  1.21310  1.20440  0.411550 -0.733190  \n",
       "3  1.1598  1.76730  1.27050  0.200010 -0.351930  \n",
       "4  0.5699  0.95651  0.87453  0.811540 -0.451390  \n",
       "\n",
       "[5 rows x 60 columns]"
      ]
     },
     "execution_count": 13,
     "metadata": {},
     "output_type": "execute_result"
    }
   ],
   "source": [
    "import pandas as pd\n",
    "\n",
    "data = pd.read_csv('Synthetic_control_sample.csv',header=None)\n",
    "data.head()"
   ]
  },
  {
   "cell_type": "code",
   "execution_count": 14,
   "metadata": {
    "scrolled": false
   },
   "outputs": [
    {
     "data": {
      "text/plain": [
       "[<matplotlib.lines.Line2D at 0x1e89d4177b8>]"
      ]
     },
     "execution_count": 14,
     "metadata": {},
     "output_type": "execute_result"
    },
    {
     "data": {
      "image/png": "[encoded data removed]",
      "text/plain": [
       "<Figure size 864x648 with 4 Axes>"
      ]
     },
     "metadata": {
      "needs_background": "light"
     },
     "output_type": "display_data"
    }
   ],
   "source": [
    "import matplotlib.pyplot as plt\n",
    "%matplotlib inline\n",
    "\n",
    "fig, ((ax1, ax2),(ax3,ax4)) = plt.subplots(2,2, figsize=(12,9))\n",
    "ax1.plot(data.loc[5].T)\n",
    "ax2.plot(data.loc[10].T)\n",
    "ax3.plot(data.loc[45].T)\n",
    "ax4.plot(data.loc[50].T)"
   ]
  },
  {
   "cell_type": "code",
   "execution_count": 15,
   "metadata": {},
   "outputs": [
    {
     "data": {
      "text/plain": [
       "[<matplotlib.lines.Line2D at 0x1e89d4e1f98>,\n",
       " <matplotlib.lines.Line2D at 0x1e89d4ef128>,\n",
       " <matplotlib.lines.Line2D at 0x1e89d4ef278>,\n",
       " <matplotlib.lines.Line2D at 0x1e89d4ef3c8>,\n",
       " <matplotlib.lines.Line2D at 0x1e89d4ef518>]"
      ]
     },
     "execution_count": 15,
     "metadata": {},
     "output_type": "execute_result"
    },
    {
     "data": {
      "image/png": "[encoded data removed]",
      "text/plain": [
       "<Figure size 432x288 with 1 Axes>"
      ]
     },
     "metadata": {
      "needs_background": "light"
     },
     "output_type": "display_data"
    },
    {
     "data": {
      "image/png": "[encoded data removed]",
      "text/plain": [
       "<Figure size 432x288 with 1 Axes>"
      ]
     },
     "metadata": {
      "needs_background": "light"
     },
     "output_type": "display_data"
    }
   ],
   "source": [
    "plt.figure().add_subplot(2,1,1)\n",
    "plt.plot(data.loc[:49].T)\n",
    "plt.figure().add_subplot(2,1,2)\n",
    "plt.plot(data.loc[50:55].T)"
   ]
  },
  {
   "cell_type": "code",
   "execution_count": 16,
   "metadata": {},
   "outputs": [
    {
     "data": {
      "text/plain": [
       "array([[0.        , 0.20237268, 1.16745543, ..., 1.07495438, 1.02072118,\n",
       "        1.11979732],\n",
       "       [0.20237268, 0.        , 0.9807679 , ..., 1.09614197, 1.01776417,\n",
       "        1.01390679],\n",
       "       [1.16745543, 0.9807679 , 0.        , ..., 0.94071103, 0.97634081,\n",
       "        0.95014835],\n",
       "       ...,\n",
       "       [1.07495438, 1.09614197, 0.94071103, ..., 0.        , 0.23309714,\n",
       "        0.29398105],\n",
       "       [1.02072118, 1.01776417, 0.97634081, ..., 0.23309714, 0.        ,\n",
       "        0.19070761],\n",
       "       [1.11979732, 1.01390679, 0.95014835, ..., 0.29398105, 0.19070761,\n",
       "        0.        ]])"
      ]
     },
     "execution_count": 16,
     "metadata": {},
     "output_type": "execute_result"
    }
   ],
   "source": [
    "from scipy.spatial import distance\n",
    "\n",
    "Y = distance.pdist(data.values, 'correlation')\n",
    "Y = distance.squareform(Y)\n",
    "Y"
   ]
  },
  {
   "cell_type": "code",
   "execution_count": 17,
   "metadata": {},
   "outputs": [
    {
     "data": {
      "text/plain": [
       "(array([30., 14.,  5.,  1.,  0.,  0.,  0.,  0.,  0.,  5.]),\n",
       " array([0.12014874, 0.20082507, 0.28150141, 0.36217775, 0.44285408,\n",
       "        0.52353042, 0.60420675, 0.68488309, 0.76555943, 0.84623576,\n",
       "        0.9269121 ]),\n",
       " <a list of 10 Patch objects>)"
      ]
     },
     "execution_count": 17,
     "metadata": {},
     "output_type": "execute_result"
    },
    {
     "data": {
      "image/png": "[encoded data removed]",
      "text/plain": [
       "<Figure size 432x288 with 1 Axes>"
      ]
     },
     "metadata": {
      "needs_background": "light"
     },
     "output_type": "display_data"
    }
   ],
   "source": [
    "import numpy as np\n",
    "import matplotlib.pyplot as plt\n",
    "%matplotlib inline\n",
    "\n",
    "knn = 5\n",
    "index = np.argsort(Y, axis=1)    # sort each row by increasing distance\n",
    "index = index[:,knn]             \n",
    "knnDist = Y[np.arange(len(index)),index]  # identify the k-th smallest distance\n",
    "plt.hist(knnDist)"
   ]
  },
  {
   "cell_type": "markdown",
   "metadata": {},
   "source": [
    "# Identify the outliers"
   ]
  },
  {
   "cell_type": "code",
   "execution_count": 18,
   "metadata": {},
   "outputs": [
    {
     "data": {
      "text/html": [
       "<div>\n",
       "<style scoped>\n",
       "    .dataframe tbody tr th:only-of-type {\n",
       "        vertical-align: middle;\n",
       "    }\n",
       "\n",
       "    .dataframe tbody tr th {\n",
       "        vertical-align: top;\n",
       "    }\n",
       "\n",
       "    .dataframe thead th {\n",
       "        text-align: right;\n",
       "    }\n",
       "</style>\n",
       "<table border=\"1\" class=\"dataframe\">\n",
       "  <thead>\n",
       "    <tr style=\"text-align: right;\">\n",
       "      <th></th>\n",
       "      <th>index</th>\n",
       "      <th>score</th>\n",
       "    </tr>\n",
       "  </thead>\n",
       "  <tbody>\n",
       "    <tr>\n",
       "      <th>0</th>\n",
       "      <td>53.0</td>\n",
       "      <td>0.926912</td>\n",
       "    </tr>\n",
       "    <tr>\n",
       "      <th>1</th>\n",
       "      <td>50.0</td>\n",
       "      <td>0.916242</td>\n",
       "    </tr>\n",
       "    <tr>\n",
       "      <th>2</th>\n",
       "      <td>54.0</td>\n",
       "      <td>0.913564</td>\n",
       "    </tr>\n",
       "    <tr>\n",
       "      <th>3</th>\n",
       "      <td>51.0</td>\n",
       "      <td>0.881758</td>\n",
       "    </tr>\n",
       "    <tr>\n",
       "      <th>4</th>\n",
       "      <td>52.0</td>\n",
       "      <td>0.869341</td>\n",
       "    </tr>\n",
       "  </tbody>\n",
       "</table>\n",
       "</div>"
      ],
      "text/plain": [
       "   index     score\n",
       "0   53.0  0.926912\n",
       "1   50.0  0.916242\n",
       "2   54.0  0.913564\n",
       "3   51.0  0.881758\n",
       "4   52.0  0.869341"
      ]
     },
     "execution_count": 18,
     "metadata": {},
     "output_type": "execute_result"
    }
   ],
   "source": [
    "outlier = np.flipud(np.argsort(knnDist))\n",
    "sort_dist = np.flipud(np.sort(knnDist))\n",
    "p = pd.DataFrame(np.column_stack((outlier,sort_dist)),columns=['index','score'])\n",
    "p.head()"
   ]
  },
  {
   "cell_type": "markdown",
   "metadata": {},
   "source": [
    "# Distance-based Outlier Detection (using scikit-learn)"
   ]
  },
  {
   "cell_type": "code",
   "execution_count": 19,
   "metadata": {},
   "outputs": [
    {
     "data": {
      "text/plain": [
       "(array([30., 14.,  5.,  1.,  0.,  0.,  0.,  0.,  0.,  5.]),\n",
       " array([0.12014874, 0.20082507, 0.28150141, 0.36217775, 0.44285408,\n",
       "        0.52353042, 0.60420675, 0.68488309, 0.76555943, 0.84623576,\n",
       "        0.9269121 ]),\n",
       " <a list of 10 Patch objects>)"
      ]
     },
     "execution_count": 19,
     "metadata": {},
     "output_type": "execute_result"
    },
    {
     "data": {
      "image/png": "[encoded data removed]",
      "text/plain": [
       "<Figure size 432x288 with 1 Axes>"
      ]
     },
     "metadata": {
      "needs_background": "light"
     },
     "output_type": "display_data"
    }
   ],
   "source": [
    "from sklearn.neighbors import NearestNeighbors\n",
    "import numpy as np\n",
    "from scipy.spatial import distance\n",
    "\n",
    "knn = 5\n",
    "nbrs = NearestNeighbors(n_neighbors=knn+1, metric=distance.correlation).fit(data.values)\n",
    "distances, indices = nbrs.kneighbors(data.values)\n",
    "plt.hist(distances[:,knn])"
   ]
  },
  {
   "cell_type": "code",
   "execution_count": 20,
   "metadata": {},
   "outputs": [
    {
     "data": {
      "text/html": [
       "<div>\n",
       "<style scoped>\n",
       "    .dataframe tbody tr th:only-of-type {\n",
       "        vertical-align: middle;\n",
       "    }\n",
       "\n",
       "    .dataframe tbody tr th {\n",
       "        vertical-align: top;\n",
       "    }\n",
       "\n",
       "    .dataframe thead th {\n",
       "        text-align: right;\n",
       "    }\n",
       "</style>\n",
       "<table border=\"1\" class=\"dataframe\">\n",
       "  <thead>\n",
       "    <tr style=\"text-align: right;\">\n",
       "      <th></th>\n",
       "      <th>index</th>\n",
       "      <th>score</th>\n",
       "    </tr>\n",
       "  </thead>\n",
       "  <tbody>\n",
       "    <tr>\n",
       "      <th>0</th>\n",
       "      <td>53.0</td>\n",
       "      <td>0.926912</td>\n",
       "    </tr>\n",
       "    <tr>\n",
       "      <th>1</th>\n",
       "      <td>50.0</td>\n",
       "      <td>0.916242</td>\n",
       "    </tr>\n",
       "    <tr>\n",
       "      <th>2</th>\n",
       "      <td>54.0</td>\n",
       "      <td>0.913564</td>\n",
       "    </tr>\n",
       "    <tr>\n",
       "      <th>3</th>\n",
       "      <td>51.0</td>\n",
       "      <td>0.881758</td>\n",
       "    </tr>\n",
       "    <tr>\n",
       "      <th>4</th>\n",
       "      <td>52.0</td>\n",
       "      <td>0.869341</td>\n",
       "    </tr>\n",
       "  </tbody>\n",
       "</table>\n",
       "</div>"
      ],
      "text/plain": [
       "   index     score\n",
       "0   53.0  0.926912\n",
       "1   50.0  0.916242\n",
       "2   54.0  0.913564\n",
       "3   51.0  0.881758\n",
       "4   52.0  0.869341"
      ]
     },
     "execution_count": 20,
     "metadata": {},
     "output_type": "execute_result"
    }
   ],
   "source": [
    "outlier = np.flipud(np.argsort(distances[:,knn]))\n",
    "sort_dist = np.flipud(np.sort(distances[:,knn]))\n",
    "\n",
    "p = pd.DataFrame(np.column_stack((outlier,sort_dist)),columns=['index','score'])\n",
    "p.head()"
   ]
  },
  {
   "cell_type": "markdown",
   "metadata": {},
   "source": [
    "# Clustering-based Approach"
   ]
  },
  {
   "cell_type": "code",
   "execution_count": 21,
   "metadata": {
    "scrolled": true
   },
   "outputs": [
    {
     "data": {
      "text/plain": [
       "<matplotlib.axes._subplots.AxesSubplot at 0x1e89d50f588>"
      ]
     },
     "execution_count": 21,
     "metadata": {},
     "output_type": "execute_result"
    },
    {
     "data": {
      "image/png": "[encoded data removed]",
      "text/plain": [
       "<Figure size 432x288 with 1 Axes>"
      ]
     },
     "metadata": {
      "needs_background": "light"
     },
     "output_type": "display_data"
    }
   ],
   "source": [
    "import pandas as pd\n",
    "%matplotlib inline\n",
    "\n",
    "data = pd.read_csv('2d_data.csv',header=None,names=['x1','x2'])\n",
    "data.plot.scatter(x='x1',y='x2')"
   ]
  },
  {
   "cell_type": "code",
   "execution_count": 22,
   "metadata": {},
   "outputs": [
    {
     "data": {
      "text/html": [
       "<div>\n",
       "<style scoped>\n",
       "    .dataframe tbody tr th:only-of-type {\n",
       "        vertical-align: middle;\n",
       "    }\n",
       "\n",
       "    .dataframe tbody tr th {\n",
       "        vertical-align: top;\n",
       "    }\n",
       "\n",
       "    .dataframe thead th {\n",
       "        text-align: right;\n",
       "    }\n",
       "</style>\n",
       "<table border=\"1\" class=\"dataframe\">\n",
       "  <thead>\n",
       "    <tr style=\"text-align: right;\">\n",
       "      <th></th>\n",
       "      <th>x1</th>\n",
       "      <th>x2</th>\n",
       "      <th>labels</th>\n",
       "    </tr>\n",
       "  </thead>\n",
       "  <tbody>\n",
       "    <tr>\n",
       "      <th>0</th>\n",
       "      <td>0.22766</td>\n",
       "      <td>0.66521</td>\n",
       "      <td>0</td>\n",
       "    </tr>\n",
       "    <tr>\n",
       "      <th>1</th>\n",
       "      <td>0.27647</td>\n",
       "      <td>0.29405</td>\n",
       "      <td>0</td>\n",
       "    </tr>\n",
       "    <tr>\n",
       "      <th>2</th>\n",
       "      <td>0.33026</td>\n",
       "      <td>0.59338</td>\n",
       "      <td>0</td>\n",
       "    </tr>\n",
       "    <tr>\n",
       "      <th>3</th>\n",
       "      <td>0.43302</td>\n",
       "      <td>0.45806</td>\n",
       "      <td>0</td>\n",
       "    </tr>\n",
       "    <tr>\n",
       "      <th>4</th>\n",
       "      <td>0.43938</td>\n",
       "      <td>0.31170</td>\n",
       "      <td>0</td>\n",
       "    </tr>\n",
       "    <tr>\n",
       "      <th>5</th>\n",
       "      <td>0.45648</td>\n",
       "      <td>0.55228</td>\n",
       "      <td>0</td>\n",
       "    </tr>\n",
       "    <tr>\n",
       "      <th>6</th>\n",
       "      <td>0.46096</td>\n",
       "      <td>0.60305</td>\n",
       "      <td>0</td>\n",
       "    </tr>\n",
       "    <tr>\n",
       "      <th>7</th>\n",
       "      <td>0.48643</td>\n",
       "      <td>0.52703</td>\n",
       "      <td>0</td>\n",
       "    </tr>\n",
       "    <tr>\n",
       "      <th>8</th>\n",
       "      <td>0.50461</td>\n",
       "      <td>0.46753</td>\n",
       "      <td>0</td>\n",
       "    </tr>\n",
       "    <tr>\n",
       "      <th>9</th>\n",
       "      <td>0.51026</td>\n",
       "      <td>0.47079</td>\n",
       "      <td>0</td>\n",
       "    </tr>\n",
       "    <tr>\n",
       "      <th>10</th>\n",
       "      <td>0.59101</td>\n",
       "      <td>0.80540</td>\n",
       "      <td>0</td>\n",
       "    </tr>\n",
       "    <tr>\n",
       "      <th>11</th>\n",
       "      <td>0.61056</td>\n",
       "      <td>0.62504</td>\n",
       "      <td>0</td>\n",
       "    </tr>\n",
       "    <tr>\n",
       "      <th>12</th>\n",
       "      <td>0.63203</td>\n",
       "      <td>0.56141</td>\n",
       "      <td>0</td>\n",
       "    </tr>\n",
       "    <tr>\n",
       "      <th>13</th>\n",
       "      <td>0.70782</td>\n",
       "      <td>0.53665</td>\n",
       "      <td>0</td>\n",
       "    </tr>\n",
       "    <tr>\n",
       "      <th>14</th>\n",
       "      <td>0.75213</td>\n",
       "      <td>0.68984</td>\n",
       "      <td>0</td>\n",
       "    </tr>\n",
       "    <tr>\n",
       "      <th>15</th>\n",
       "      <td>3.09630</td>\n",
       "      <td>3.60950</td>\n",
       "      <td>1</td>\n",
       "    </tr>\n",
       "    <tr>\n",
       "      <th>16</th>\n",
       "      <td>3.29550</td>\n",
       "      <td>3.30770</td>\n",
       "      <td>1</td>\n",
       "    </tr>\n",
       "    <tr>\n",
       "      <th>17</th>\n",
       "      <td>3.36150</td>\n",
       "      <td>2.86000</td>\n",
       "      <td>1</td>\n",
       "    </tr>\n",
       "    <tr>\n",
       "      <th>18</th>\n",
       "      <td>3.47460</td>\n",
       "      <td>2.93120</td>\n",
       "      <td>1</td>\n",
       "    </tr>\n",
       "    <tr>\n",
       "      <th>19</th>\n",
       "      <td>3.57280</td>\n",
       "      <td>3.19530</td>\n",
       "      <td>1</td>\n",
       "    </tr>\n",
       "    <tr>\n",
       "      <th>20</th>\n",
       "      <td>3.68080</td>\n",
       "      <td>3.73510</td>\n",
       "      <td>1</td>\n",
       "    </tr>\n",
       "    <tr>\n",
       "      <th>21</th>\n",
       "      <td>3.70970</td>\n",
       "      <td>3.05530</td>\n",
       "      <td>1</td>\n",
       "    </tr>\n",
       "    <tr>\n",
       "      <th>22</th>\n",
       "      <td>3.73320</td>\n",
       "      <td>2.56100</td>\n",
       "      <td>1</td>\n",
       "    </tr>\n",
       "    <tr>\n",
       "      <th>23</th>\n",
       "      <td>3.86550</td>\n",
       "      <td>2.89170</td>\n",
       "      <td>1</td>\n",
       "    </tr>\n",
       "    <tr>\n",
       "      <th>24</th>\n",
       "      <td>3.85060</td>\n",
       "      <td>4.24550</td>\n",
       "      <td>1</td>\n",
       "    </tr>\n",
       "    <tr>\n",
       "      <th>25</th>\n",
       "      <td>3.86220</td>\n",
       "      <td>3.48260</td>\n",
       "      <td>1</td>\n",
       "    </tr>\n",
       "    <tr>\n",
       "      <th>26</th>\n",
       "      <td>4.42170</td>\n",
       "      <td>2.85170</td>\n",
       "      <td>1</td>\n",
       "    </tr>\n",
       "    <tr>\n",
       "      <th>27</th>\n",
       "      <td>3.90640</td>\n",
       "      <td>3.44930</td>\n",
       "      <td>1</td>\n",
       "    </tr>\n",
       "    <tr>\n",
       "      <th>28</th>\n",
       "      <td>4.16560</td>\n",
       "      <td>4.46240</td>\n",
       "      <td>1</td>\n",
       "    </tr>\n",
       "    <tr>\n",
       "      <th>29</th>\n",
       "      <td>4.26610</td>\n",
       "      <td>3.52480</td>\n",
       "      <td>1</td>\n",
       "    </tr>\n",
       "    <tr>\n",
       "      <th>30</th>\n",
       "      <td>4.74080</td>\n",
       "      <td>3.71020</td>\n",
       "      <td>1</td>\n",
       "    </tr>\n",
       "    <tr>\n",
       "      <th>31</th>\n",
       "      <td>4.91800</td>\n",
       "      <td>3.22580</td>\n",
       "      <td>1</td>\n",
       "    </tr>\n",
       "    <tr>\n",
       "      <th>32</th>\n",
       "      <td>4.96210</td>\n",
       "      <td>4.06020</td>\n",
       "      <td>1</td>\n",
       "    </tr>\n",
       "    <tr>\n",
       "      <th>33</th>\n",
       "      <td>5.00930</td>\n",
       "      <td>2.74960</td>\n",
       "      <td>1</td>\n",
       "    </tr>\n",
       "    <tr>\n",
       "      <th>34</th>\n",
       "      <td>0.98160</td>\n",
       "      <td>3.02200</td>\n",
       "      <td>2</td>\n",
       "    </tr>\n",
       "  </tbody>\n",
       "</table>\n",
       "</div>"
      ],
      "text/plain": [
       "         x1       x2  labels\n",
       "0   0.22766  0.66521       0\n",
       "1   0.27647  0.29405       0\n",
       "2   0.33026  0.59338       0\n",
       "3   0.43302  0.45806       0\n",
       "4   0.43938  0.31170       0\n",
       "5   0.45648  0.55228       0\n",
       "6   0.46096  0.60305       0\n",
       "7   0.48643  0.52703       0\n",
       "8   0.50461  0.46753       0\n",
       "9   0.51026  0.47079       0\n",
       "10  0.59101  0.80540       0\n",
       "11  0.61056  0.62504       0\n",
       "12  0.63203  0.56141       0\n",
       "13  0.70782  0.53665       0\n",
       "14  0.75213  0.68984       0\n",
       "15  3.09630  3.60950       1\n",
       "16  3.29550  3.30770       1\n",
       "17  3.36150  2.86000       1\n",
       "18  3.47460  2.93120       1\n",
       "19  3.57280  3.19530       1\n",
       "20  3.68080  3.73510       1\n",
       "21  3.70970  3.05530       1\n",
       "22  3.73320  2.56100       1\n",
       "23  3.86550  2.89170       1\n",
       "24  3.85060  4.24550       1\n",
       "25  3.86220  3.48260       1\n",
       "26  4.42170  2.85170       1\n",
       "27  3.90640  3.44930       1\n",
       "28  4.16560  4.46240       1\n",
       "29  4.26610  3.52480       1\n",
       "30  4.74080  3.71020       1\n",
       "31  4.91800  3.22580       1\n",
       "32  4.96210  4.06020       1\n",
       "33  5.00930  2.74960       1\n",
       "34  0.98160  3.02200       2"
      ]
     },
     "execution_count": 22,
     "metadata": {},
     "output_type": "execute_result"
    }
   ],
   "source": [
    "from sklearn.cluster import KMeans\n",
    "\n",
    "clusterer = KMeans(n_clusters=3, random_state=0)\n",
    "clusterer.fit(data)\n",
    "data['labels'] = clusterer.labels_\n",
    "data"
   ]
  },
  {
   "cell_type": "markdown",
   "metadata": {},
   "source": [
    "# Model-based Approach - Isolation Forest"
   ]
  },
  {
   "cell_type": "code",
   "execution_count": 23,
   "metadata": {
    "scrolled": true
   },
   "outputs": [
    {
     "name": "stderr",
     "output_type": "stream",
     "text": [
      "C:\\Users\\msi_pc\\Anaconda3\\lib\\site-packages\\sklearn\\ensemble\\iforest.py:223: FutureWarning: behaviour=\"old\" is deprecated and will be removed in version 0.22. Please use behaviour=\"new\", which makes the decision_function change to match other anomaly detection algorithm API.\n",
      "  FutureWarning)\n",
      "C:\\Users\\msi_pc\\Anaconda3\\lib\\site-packages\\sklearn\\ensemble\\iforest.py:417: DeprecationWarning: threshold_ attribute is deprecated in 0.20 and will be removed in 0.22.\n",
      "  \" be removed in 0.22.\", DeprecationWarning)\n"
     ]
    },
    {
     "data": {
      "text/plain": [
       "array([ 1,  1,  1,  1,  1,  1,  1,  1,  1,  1,  1,  1,  1,  1,  1,  1,  1,\n",
       "        1,  1,  1,  1,  1,  1,  1,  1,  1,  1,  1,  1,  1,  1, -1,  1,  1,\n",
       "        1,  1,  1,  1,  1,  1,  1,  1,  1,  1,  1,  1,  1,  1,  1,  1, -1,\n",
       "       -1, -1, -1, -1])"
      ]
     },
     "execution_count": 23,
     "metadata": {},
     "output_type": "execute_result"
    }
   ],
   "source": [
    "from sklearn.ensemble import IsolationForest\n",
    "\n",
    "data = pd.read_csv('Synthetic_control_sample.csv',header=None)\n",
    "clf = IsolationForest(n_estimators=200, max_samples=30, contamination=0.1, \n",
    "                      random_state=1)\n",
    "clf.fit(data.values)\n",
    "score = clf.predict(data.values)\n",
    "score"
   ]
  }
 ],
 "metadata": {
  "anaconda-cloud": {},
  "kernelspec": {
   "display_name": "Python 3",
   "language": "python",
   "name": "python3"
  },
  "language_info": {
   "codemirror_mode": {
    "name": "ipython",
    "version": 3
   },
   "file_extension": ".py",
   "mimetype": "text/x-python",
   "name": "python",
   "nbconvert_exporter": "python",
   "pygments_lexer": "ipython3",
   "version": "3.7.1"
  }
 },
 "nbformat": 4,
 "nbformat_minor": 1
}