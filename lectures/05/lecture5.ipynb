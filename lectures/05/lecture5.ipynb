{
 "cells": [
  {
   "cell_type": "markdown",
   "metadata": {},
   "source": [
    "# Sample code from lecture 5\n",
    "\n",
    "The following notebook contains Python examples of using MongoDB. "
   ]
  },
  {
   "cell_type": "markdown",
   "metadata": {},
   "source": [
    "## Accessing MongoDB using Python"
   ]
  },
  {
   "cell_type": "markdown",
   "metadata": {},
   "source": [
    "**(a)** Connecting to database"
   ]
  },
  {
   "cell_type": "code",
   "execution_count": 1,
   "metadata": {},
   "outputs": [],
   "source": [
    "import pymongo\n",
    "\n",
    "connection = pymongo.MongoClient('localhost', 27017)\n",
    "db = connection['test']"
   ]
  },
  {
   "cell_type": "markdown",
   "metadata": {},
   "source": [
    "**(b)** Before executing the code below, make sure you've created a collection named profiles in your database. To do this, you need to perform the following steps: \n",
    "- Download the file named \"users.json\" from the class website.\n",
    "- Open up a terminal/command prompt and use mongoimport to load the users.json file into a collection named profiles(see the lecture slide on \"Bulk Import of JSON file\").\n",
    "\n",
    "    prompt> mongoimport -d test -c profiles --file users.json "
   ]
  },
  {
   "cell_type": "markdown",
   "metadata": {},
   "source": [
    "**(c)** Counting the number of documents in a collection:"
   ]
  },
  {
   "cell_type": "code",
   "execution_count": 3,
   "metadata": {},
   "outputs": [
    {
     "data": {
      "text/plain": [
       "4"
      ]
     },
     "execution_count": 3,
     "metadata": {},
     "output_type": "execute_result"
    }
   ],
   "source": [
    "# db.profiles.count()   # method is deprecated. \n",
    "\n",
    "db.profiles.count_documents({})"
   ]
  },
  {
   "cell_type": "markdown",
   "metadata": {},
   "source": [
    "**(d)** Displaying the documents in collection"
   ]
  },
  {
   "cell_type": "code",
   "execution_count": 4,
   "metadata": {},
   "outputs": [
    {
     "name": "stdout",
     "output_type": "stream",
     "text": [
      "{'_id': 3, 'Name': 'John', 'City': 'Lansing', 'Age': 24}\n",
      "{'_id': 2, 'Name': 'Mary', 'City': 'Chicago', 'Age': 45}\n",
      "{'_id': 1, 'Name': 'Bob', 'City': 'Detroit', 'Age': 41}\n",
      "{'_id': 4, 'Name': 'Jill', 'City': 'Lansing', 'Age': 22}\n"
     ]
    }
   ],
   "source": [
    "for record in db.profiles.find():\n",
    "    print(record)"
   ]
  },
  {
   "cell_type": "markdown",
   "metadata": {},
   "source": [
    "**(e)** Display only those who lived in Lansing"
   ]
  },
  {
   "cell_type": "code",
   "execution_count": 5,
   "metadata": {},
   "outputs": [
    {
     "name": "stdout",
     "output_type": "stream",
     "text": [
      "{'_id': 3, 'Name': 'John', 'City': 'Lansing', 'Age': 24}\n",
      "{'_id': 4, 'Name': 'Jill', 'City': 'Lansing', 'Age': 22}\n"
     ]
    }
   ],
   "source": [
    "for record in db.profiles.find({\"City\": \"Lansing\"}):\n",
    "    print(record)"
   ]
  },
  {
   "cell_type": "markdown",
   "metadata": {},
   "source": [
    "**(f)** Add records to collection"
   ]
  },
  {
   "cell_type": "code",
   "execution_count": 6,
   "metadata": {},
   "outputs": [
    {
     "data": {
      "text/plain": [
       "7"
      ]
     },
     "execution_count": 6,
     "metadata": {},
     "output_type": "execute_result"
    }
   ],
   "source": [
    "new_recs = [{'Name':'Mike','City':'Okemos','Interests':['music','bowling']},\n",
    "           {'Name':'Lee', 'City': 'Okemos', 'Groups': 'AAA'},\n",
    "           {'Name':'Dee', 'City':'Okemos'}]\n",
    "result = db.profiles.insert_many(new_recs)\n",
    "db.profiles.count_documents({})"
   ]
  },
  {
   "cell_type": "markdown",
   "metadata": {},
   "source": [
    "**(g)** Delete records of individuals from Lansing."
   ]
  },
  {
   "cell_type": "code",
   "execution_count": 7,
   "metadata": {},
   "outputs": [
    {
     "data": {
      "text/plain": [
       "<pymongo.results.DeleteResult at 0x111c53c48>"
      ]
     },
     "execution_count": 7,
     "metadata": {},
     "output_type": "execute_result"
    }
   ],
   "source": [
    "db.profiles.delete_many({'City':'Okemos'})"
   ]
  },
  {
   "cell_type": "code",
   "execution_count": 8,
   "metadata": {},
   "outputs": [
    {
     "name": "stdout",
     "output_type": "stream",
     "text": [
      "{'_id': 3, 'Name': 'John', 'City': 'Lansing', 'Age': 24}\n",
      "{'_id': 2, 'Name': 'Mary', 'City': 'Chicago', 'Age': 45}\n",
      "{'_id': 1, 'Name': 'Bob', 'City': 'Detroit', 'Age': 41}\n",
      "{'_id': 4, 'Name': 'Jill', 'City': 'Lansing', 'Age': 22}\n"
     ]
    }
   ],
   "source": [
    "for record in db.profiles.find():\n",
    "    print(record)"
   ]
  },
  {
   "cell_type": "markdown",
   "metadata": {},
   "source": [
    "**(h)** Calculating average age of individuals "
   ]
  },
  {
   "cell_type": "code",
   "execution_count": 9,
   "metadata": {},
   "outputs": [
    {
     "name": "stdout",
     "output_type": "stream",
     "text": [
      "{'_id': 'Detroit', 'avgAge': 41.0}\n",
      "{'_id': 'Chicago', 'avgAge': 45.0}\n",
      "{'_id': 'Lansing', 'avgAge': 23.0}\n"
     ]
    }
   ],
   "source": [
    "cursor = db.profiles.aggregate([\n",
    "            {\"$group\": {\"_id\": \"$City\", \"avgAge\": {\"$avg\": \"$Age\"}}}\n",
    "         ])\n",
    "\n",
    "for record in cursor:\n",
    "    print(record)"
   ]
  },
  {
   "cell_type": "markdown",
   "metadata": {
    "collapsed": true
   },
   "source": [
    "## Using MongoDB to store tweets"
   ]
  },
  {
   "cell_type": "code",
   "execution_count": 9,
   "metadata": {
    "scrolled": true
   },
   "outputs": [
    {
     "name": "stdout",
     "output_type": "stream",
     "text": [
      "* b'Mothers: #Flu is one type of #infection that can lead to #sepsis. Protect yourself and your child from flu by getti\\xe2\\x80\\xa6 https://t.co/GmbZ2PUlr3'\n",
      "* b'@astvansh Please contact CDC-INFO at 800-232-4636 or send your questions via email at https://t.co/pUF2JIBq19.'\n",
      "* b'Get the latest updates on #influenza and this #fluseason by following @CDCFlu. https://t.co/8u5kvApkJD'\n",
      "* b'@crucial_yt Measles is 1 of the most contagious diseases on Earth. Infected ppl can spread measles 4 days before th\\xe2\\x80\\xa6 https://t.co/GaHm8ODweg'\n",
      "* b'@zerosafespace Measles spreads through the air when an infected person coughs or sneezes. The virus is not shed in\\xe2\\x80\\xa6 https://t.co/W2nLy7DVsm'\n",
      "* b'RT @CDCInjury: Help prevent intimate partner violence by learning more about promoting healthy behaviors in relationships. Get more info he\\xe2\\x80\\xa6'\n",
      "* b'FREE CE: Watch our latest #CDCGrandRounds on cervical cancer. Go #BeyondtheData as CDC\\xe2\\x80\\x99s Dr. Phoebe Thorpe and Dr.\\xe2\\x80\\xa6 https://t.co/dmg5fp4JSq'\n",
      "* b'Here\\xe2\\x80\\x99s what to do if you or a loved one gets sick with #flu. https://t.co/e2i1idxp6j https://t.co/4bhuGpJSsy'\n",
      "* b'Radon is responsible for over 20,000 lung cancer deaths each year according to the @EPA. This #RadonActionMonth, ta\\xe2\\x80\\xa6 https://t.co/exKKjqo6vN'\n",
      "* b'Hear CDC and @NIOSH responders recount their 2000 investigation of popcorn lung disease. Watch new \\xe2\\x80\\x9cWe Were There\\xe2\\x80\\x9d\\xe2\\x80\\xa6 https://t.co/9YcvE8YFot'\n",
      "* b'#Winter storms and cold temperatures can be dangerous. Take steps to stay safe and healthy this season by planning\\xe2\\x80\\xa6 https://t.co/0KbJSzjJBH'\n",
      "* b'RT @CDC_NCEZID: Help your patients understand when antibiotics are and are not needed for #sorethroats. CDC has resources you can share wit\\xe2\\x80\\xa6'\n",
      "* b'2018 saw the 2nd-greatest annual number of US #measles cases since 1996. 1 reason: 81 unvaccinated travelers (mostl\\xe2\\x80\\xa6 https://t.co/vasde1vL3n'\n",
      "* b'Thinking of #breastfeeding? Consider the benefits of breastfeeding for your own health\\xe2\\x80\\x94in addition to your baby\\xe2\\x80\\x99s.\\xe2\\x80\\xa6 https://t.co/RcJQbBjbDb'\n",
      "* b'RT @CDC_NCEZID: CDC\\xe2\\x80\\x99s recommendation to use EPA-registered insect repellent to prevent mosquito and tick bites has not changed since 2009,\\xe2\\x80\\xa6'\n",
      "* b'#Measles outbreaks are occurring in several countries. Traveling internationally? Protect against measles: infants\\xe2\\x80\\xa6 https://t.co/gaJBDkwL1Q'\n",
      "* b'Birth defects are common, costly, and critical conditions. Share your #1in33 story with us to raise awareness durin\\xe2\\x80\\xa6 https://t.co/bcqA2NTkAn'\n",
      "* b'Say no to raw dough! Raw dough and raw batter may give you food poisoning. Learn more: https://t.co/nA9SJhHWUU https://t.co/kGbysJB5Ys'\n",
      "* b'Checking into a hospital for surgery this year? Lack of movement and bed rest during recovery can increase your cha\\xe2\\x80\\xa6 https://t.co/k4ThH9VhXV'\n",
      "* b'Stalking is serious, often violent, and can escalate over time. This National Stalking Awareness Month, learn how t\\xe2\\x80\\xa6 https://t.co/4ZXXGhiJvs'\n",
      "* b'3\\xe2\\x83\\xa3If you do get #flu symptoms, and are at high risk of complications or are experiencing severe symptoms, talk with\\xe2\\x80\\xa6 https://t.co/FP1kLT8GC7'\n",
      "* b'2\\xe2\\x83\\xa3Take everyday preventive actions, like avoiding close contact with people who are sick, covering your nose and mo\\xe2\\x80\\xa6 https://t.co/fmMxNmYtb7'\n",
      "* b'1\\xe2\\x83\\xa3For everyone 6 months and older, the first and most important step to #fightflu is to get a #fluvaccine.\\xe2\\x80\\xa6 https://t.co/sCrtHiXKjr'\n",
      "* b'.@CDCFlu recommends 3 steps to #fightflu. https://t.co/qy68oF6KSP https://t.co/H1gJwcgjZL'\n",
      "* b'CDC\\xe2\\x80\\x99s Division of #Tuberculosis Elimination is proud to share personal stories of five #TB survivors: Mildred, Shak\\xe2\\x80\\xa6 https://t.co/5PAQcKWNTU'\n",
      "* b'Every woman needs #folicacid every day, whether she\\xe2\\x80\\x99s planning to get pregnant or not. Check out this video for a s\\xe2\\x80\\xa6 https://t.co/WXUsXRJTyf'\n",
      "* b'RT @CDCDirector: New in @CDCMMWR: Patients in the most rural counties had an 87% greater chance of receiving an #opioid prescription compar\\xe2\\x80\\xa6'\n",
      "* b'Watch NEW CDC videos featuring five #tuberculosis survivors. The videos are part of the ongoing #TB Personal Storie\\xe2\\x80\\xa6 https://t.co/E3VPT2shNi'\n",
      "* b'As your children become preteens, make sure you\\xe2\\x80\\x99re aware of which #vaccines they need and when they need them.\\n\\nChe\\xe2\\x80\\xa6 https://t.co/WsEIQIzf4h'\n",
      "* b'Germs are everywhere! Protect yourself and your family from getting sick and spreading germs to loved ones by washi\\xe2\\x80\\xa6 https://t.co/9NwWIRlwgD'\n",
      "* b'#Clinicians: Help #fightflu this season by spreading the word about #flu vaccination.\\n\\nCheck out @CDCFlu\\xe2\\x80\\x99s digital\\xe2\\x80\\xa6 https://t.co/iTrvCtB0ce'\n",
      "* b'#Flu severity indicators (illnesses, flu hospitalization rates, and % of deaths resulting from pneumonia or flu) ar\\xe2\\x80\\xa6 https://t.co/VfUgGx7IpD'\n",
      "* b'Follow @CDCFlu for #fluseason updates and tips to protect yourself and your family from #flu.\\xe2\\x80\\xa6 https://t.co/FgTqsSLkBP'\n",
      "* b'Attention #pediatricians: CDC\\xe2\\x80\\x99s FREE #MilestoneTracker app easily allows parents to share their child\\xe2\\x80\\x99s development\\xe2\\x80\\xa6 https://t.co/YJ9biCZgWQ'\n",
      "* b'RT @CDC_NCEZID: Whether it\\xe2\\x80\\x99s a fire, hurricane, winter weather, or another emergency, make sure all your family members \\xe2\\x80\\x93 including pets \\xe2\\x80\\x93\\xe2\\x80\\xa6'\n",
      "* b'Moms-to-be: Remember to keep your own health in mind when thinking about your baby\\xe2\\x80\\x99s prenatal development. By preve\\xe2\\x80\\xa6 https://t.co/LImOxUJhi6'\n",
      "* b'Get the latest updates on #influenza and this #fluseason by following @CDCFlu. https://t.co/Q7WPVBUclh'\n",
      "* b'Your baby\\xe2\\x80\\x99s immune system may be strong and can fight thousands of germs every day, but they can\\xe2\\x80\\x99t fight off all of\\xe2\\x80\\xa6 https://t.co/vgz4zz356Y'\n",
      "* b'#Publichealth professionals and students: Join us Live on Facebook today at 1pm ET for #CDCGrandRounds. Experts wil\\xe2\\x80\\xa6 https://t.co/o8OMadK9cp'\n",
      "* b'Walking on ice is extremely dangerous. Keep your steps and walkways free of ice by using rock salt or another chemi\\xe2\\x80\\xa6 https://t.co/Ml3Vm6D3VI'\n",
      "* b'Power out because of a #winter storm? Prevent #COpoisoning by using generators safely. Learn how:\\xe2\\x80\\xa6 https://t.co/UGLUGTM91J'\n",
      "* b'#Clinicians and #pharmacists: Looking for a simple way to determine which #pneumococcal vaccines your patients need\\xe2\\x80\\xa6 https://t.co/wuV08kdEqS'\n",
      "* b'RT @CDCChronic: School is back in full swing. Check out these tips to pack your kids up so they are safe and healthy at school. https://t.c\\xe2\\x80\\xa6'\n",
      "* b\"RT @HHSGov: If you're impacted by the #winter weather, take these simple precautions to stay safe when heating your home: https://t.co/BQYs\\xe2\\x80\\xa6\"\n",
      "* b'The Pap and HPV tests screen for cervical #cancer. Learn which test to have and when to have it:\\xe2\\x80\\xa6 https://t.co/zru18ub9X8'\n",
      "* b'Talk to your doctor or nurse about steps you can take to prevent #infections, such as #flu, that can lead to\\xe2\\x80\\xa6 https://t.co/Q6nOgdewnj'\n",
      "* b'Everybody loves a good story! By age 4, most children are able to remember parts of a story and tell you what they\\xe2\\x80\\xa6 https://t.co/NNwsQ22fto'\n",
      "* b'RT @CDCDirector: In this week\\xe2\\x80\\x99s @CDCMMWR: CDC examined overdose death rates among women aged 30\\xe2\\x80\\x9364 years during 1999\\xe2\\x80\\x932017 overall and by dr\\xe2\\x80\\xa6'\n",
      "* b'RT @CDCDirector: Providers: If you have a sick patient who recently returned from Pakistan, consider typhoid fever. In this week\\xe2\\x80\\x99s @CDCMMWR\\xe2\\x80\\xa6'\n",
      "* b'@TimJOliver1 No typo. As of 1/5/2019, the overall hospitalization rate is 9.1 per 100,000. Over the past 5 seasons,\\xe2\\x80\\xa6 https://t.co/qqRrEepe8g'\n"
     ]
    }
   ],
   "source": [
    "import tweepy\n",
    "from tweepy import OAuthHandler\n",
    "from tweepy import API\n",
    "\n",
    "C_KEY = 'XXXXXXX'\n",
    "C_SECRET = 'XXXXXXX'\n",
    "A_TOKEN_KEY = 'XXXXXX'\n",
    "A_TOKEN_SECRET = 'XXXXXXX'\n",
    "\n",
    "auth = tweepy.OAuthHandler(C_KEY, C_SECRET)\n",
    "auth.set_access_token(A_TOKEN_KEY, A_TOKEN_SECRET)\n",
    "api = tweepy.API(auth)\n",
    "\n",
    "keyword = 'from:CDCgov'\n",
    "posts = api.search(q=keyword,count=50)\n",
    "for tweet in posts:\n",
    "    print(\"* \"+str(tweet.text.encode(\"utf-8\")))"
   ]
  },
  {
   "cell_type": "code",
   "execution_count": 10,
   "metadata": {
    "scrolled": true
   },
   "outputs": [],
   "source": [
    "import json\n",
    "import pymongo\n",
    "\n",
    "try:\n",
    "    connection = pymongo.MongoClient('localhost', 27017)\n",
    "    db = connection['test']\n",
    "\n",
    "    for tweet in posts:\n",
    "        db.twitter.insert_one(tweet._json)\n",
    "    \n",
    "    connection.close()\n",
    "except pymongo.errors.ConnectionFailure as e:\n",
    "   print(\"Could not connect to MongoDB: %s\" % e)"
   ]
  },
  {
   "cell_type": "code",
   "execution_count": 11,
   "metadata": {
    "scrolled": true
   },
   "outputs": [
    {
     "name": "stdout",
     "output_type": "stream",
     "text": [
      "Found 50 tweets:\n",
      "Mothers: #Flu is one type of #infection that can lead to #sepsis. Protect yourself and your child from flu by gettiâ€¦ https://t.co/GmbZ2PUlr3\n",
      "@astvansh Please contact CDC-INFO at 800-232-4636 or send your questions via email at https://t.co/pUF2JIBq19.\n",
      "Get the latest updates on #influenza and this #fluseason by following @CDCFlu. https://t.co/8u5kvApkJD\n",
      "@crucial_yt Measles is 1 of the most contagious diseases on Earth. Infected ppl can spread measles 4 days before thâ€¦ https://t.co/GaHm8ODweg\n",
      "@zerosafespace Measles spreads through the air when an infected person coughs or sneezes. The virus is not shed inâ€¦ https://t.co/W2nLy7DVsm\n",
      "RT @CDCInjury: Help prevent intimate partner violence by learning more about promoting healthy behaviors in relationships. Get more info heâ€¦\n",
      "FREE CE: Watch our latest #CDCGrandRounds on cervical cancer. Go #BeyondtheData as CDCâ€™s Dr. Phoebe Thorpe and Dr.â€¦ https://t.co/dmg5fp4JSq\n",
      "Hereâ€™s what to do if you or a loved one gets sick with #flu. https://t.co/e2i1idxp6j https://t.co/4bhuGpJSsy\n",
      "Radon is responsible for over 20,000 lung cancer deaths each year according to the @EPA. This #RadonActionMonth, taâ€¦ https://t.co/exKKjqo6vN\n",
      "Hear CDC and @NIOSH responders recount their 2000 investigation of popcorn lung disease. Watch new â€œWe Were Thereâ€â€¦ https://t.co/9YcvE8YFot\n",
      "#Winter storms and cold temperatures can be dangerous. Take steps to stay safe and healthy this season by planningâ€¦ https://t.co/0KbJSzjJBH\n",
      "RT @CDC_NCEZID: Help your patients understand when antibiotics are and are not needed for #sorethroats. CDC has resources you can share witâ€¦\n",
      "2018 saw the 2nd-greatest annual number of US #measles cases since 1996. 1 reason: 81 unvaccinated travelers (mostlâ€¦ https://t.co/vasde1vL3n\n",
      "Thinking of #breastfeeding? Consider the benefits of breastfeeding for your own healthâ€”in addition to your babyâ€™s.â€¦ https://t.co/RcJQbBjbDb\n",
      "RT @CDC_NCEZID: CDCâ€™s recommendation to use EPA-registered insect repellent to prevent mosquito and tick bites has not changed since 2009,â€¦\n",
      "#Measles outbreaks are occurring in several countries. Traveling internationally? Protect against measles: infantsâ€¦ https://t.co/gaJBDkwL1Q\n",
      "Birth defects are common, costly, and critical conditions. Share your #1in33 story with us to raise awareness durinâ€¦ https://t.co/bcqA2NTkAn\n",
      "Say no to raw dough! Raw dough and raw batter may give you food poisoning. Learn more: https://t.co/nA9SJhHWUU https://t.co/kGbysJB5Ys\n",
      "Checking into a hospital for surgery this year? Lack of movement and bed rest during recovery can increase your chaâ€¦ https://t.co/k4ThH9VhXV\n",
      "Stalking is serious, often violent, and can escalate over time. This National Stalking Awareness Month, learn how tâ€¦ https://t.co/4ZXXGhiJvs\n",
      "3âƒ£If you do get #flu symptoms, and are at high risk of complications or are experiencing severe symptoms, talk withâ€¦ https://t.co/FP1kLT8GC7\n",
      "2âƒ£Take everyday preventive actions, like avoiding close contact with people who are sick, covering your nose and moâ€¦ https://t.co/fmMxNmYtb7\n",
      "1âƒ£For everyone 6 months and older, the first and most important step to #fightflu is to get a #fluvaccine.â€¦ https://t.co/sCrtHiXKjr\n",
      ".@CDCFlu recommends 3 steps to #fightflu. https://t.co/qy68oF6KSP https://t.co/H1gJwcgjZL\n",
      "CDCâ€™s Division of #Tuberculosis Elimination is proud to share personal stories of five #TB survivors: Mildred, Shakâ€¦ https://t.co/5PAQcKWNTU\n",
      "Every woman needs #folicacid every day, whether sheâ€™s planning to get pregnant or not. Check out this video for a sâ€¦ https://t.co/WXUsXRJTyf\n",
      "RT @CDCDirector: New in @CDCMMWR: Patients in the most rural counties had an 87% greater chance of receiving an #opioid prescription comparâ€¦\n",
      "Watch NEW CDC videos featuring five #tuberculosis survivors. The videos are part of the ongoing #TB Personal Storieâ€¦ https://t.co/E3VPT2shNi\n",
      "As your children become preteens, make sure youâ€™re aware of which #vaccines they need and when they need them.\n",
      "\n",
      "Cheâ€¦ https://t.co/WsEIQIzf4h\n",
      "Germs are everywhere! Protect yourself and your family from getting sick and spreading germs to loved ones by washiâ€¦ https://t.co/9NwWIRlwgD\n",
      "#Clinicians: Help #fightflu this season by spreading the word about #flu vaccination.\n",
      "\n",
      "Check out @CDCFluâ€™s digitalâ€¦ https://t.co/iTrvCtB0ce\n",
      "#Flu severity indicators (illnesses, flu hospitalization rates, and % of deaths resulting from pneumonia or flu) arâ€¦ https://t.co/VfUgGx7IpD\n",
      "Follow @CDCFlu for #fluseason updates and tips to protect yourself and your family from #flu.â€¦ https://t.co/FgTqsSLkBP\n",
      "Attention #pediatricians: CDCâ€™s FREE #MilestoneTracker app easily allows parents to share their childâ€™s developmentâ€¦ https://t.co/YJ9biCZgWQ\n",
      "RT @CDC_NCEZID: Whether itâ€™s a fire, hurricane, winter weather, or another emergency, make sure all your family members â€“ including pets â€“â€¦\n",
      "Moms-to-be: Remember to keep your own health in mind when thinking about your babyâ€™s prenatal development. By preveâ€¦ https://t.co/LImOxUJhi6\n",
      "Get the latest updates on #influenza and this #fluseason by following @CDCFlu. https://t.co/Q7WPVBUclh\n",
      "Your babyâ€™s immune system may be strong and can fight thousands of germs every day, but they canâ€™t fight off all ofâ€¦ https://t.co/vgz4zz356Y\n",
      "#Publichealth professionals and students: Join us Live on Facebook today at 1pm ET for #CDCGrandRounds. Experts wilâ€¦ https://t.co/o8OMadK9cp\n",
      "Walking on ice is extremely dangerous. Keep your steps and walkways free of ice by using rock salt or another chemiâ€¦ https://t.co/Ml3Vm6D3VI\n",
      "Power out because of a #winter storm? Prevent #COpoisoning by using generators safely. Learn how:â€¦ https://t.co/UGLUGTM91J\n",
      "#Clinicians and #pharmacists: Looking for a simple way to determine which #pneumococcal vaccines your patients needâ€¦ https://t.co/wuV08kdEqS\n",
      "RT @CDCChronic: School is back in full swing. Check out these tips to pack your kids up so they are safe and healthy at school. https://t.câ€¦\n",
      "RT @HHSGov: If you're impacted by the #winter weather, take these simple precautions to stay safe when heating your home: https://t.co/BQYsâ€¦\n",
      "The Pap and HPV tests screen for cervical #cancer. Learn which test to have and when to have it:â€¦ https://t.co/zru18ub9X8\n",
      "Talk to your doctor or nurse about steps you can take to prevent #infections, such as #flu, that can lead toâ€¦ https://t.co/Q6nOgdewnj\n",
      "Everybody loves a good story! By age 4, most children are able to remember parts of a story and tell you what theyâ€¦ https://t.co/NNwsQ22fto\n",
      "RT @CDCDirector: In this weekâ€™s @CDCMMWR: CDC examined overdose death rates among women aged 30â€“64 years during 1999â€“2017 overall and by drâ€¦\n",
      "RT @CDCDirector: Providers: If you have a sick patient who recently returned from Pakistan, consider typhoid fever. In this weekâ€™s @CDCMMWRâ€¦\n",
      "@TimJOliver1 No typo. As of 1/5/2019, the overall hospitalization rate is 9.1 per 100,000. Over the past 5 seasons,â€¦ https://t.co/qqRrEepe8g\n"
     ]
    }
   ],
   "source": [
    "import json\n",
    "import pymongo\n",
    "\n",
    "try:\n",
    "    connection = pymongo.MongoClient('localhost', 27017)\n",
    "    db = connection['test']\n",
    "\n",
    "    tweets = db.twitter\n",
    "    print(\"Found\", tweets.count_documents({}), \"tweets:\")\n",
    "\n",
    "    for tweet in tweets.find():\n",
    "        print(tweet['text'])\n",
    "    \n",
    "    connection.close()\n",
    "    \n",
    "except pymongo.errors.ConnectionFailure as e:\n",
    "   print(\"Could not connect to MongoDB: %s\" % e)"
   ]
  },
  {
   "cell_type": "code",
   "execution_count": 12,
   "metadata": {},
   "outputs": [
    {
     "name": "stdout",
     "output_type": "stream",
     "text": [
      "Mothers: #Flu is one type of #infection that can lead to #sepsis. Protect yourself and your child from flu by gettiâ€¦ https://t.co/GmbZ2PUlr3\n",
      "Get the latest updates on #influenza and this #fluseason by following @CDCFlu. https://t.co/8u5kvApkJD\n",
      "Hereâ€™s what to do if you or a loved one gets sick with #flu. https://t.co/e2i1idxp6j https://t.co/4bhuGpJSsy\n",
      "3âƒ£If you do get #flu symptoms, and are at high risk of complications or are experiencing severe symptoms, talk withâ€¦ https://t.co/FP1kLT8GC7\n",
      "1âƒ£For everyone 6 months and older, the first and most important step to #fightflu is to get a #fluvaccine.â€¦ https://t.co/sCrtHiXKjr\n",
      ".@CDCFlu recommends 3 steps to #fightflu. https://t.co/qy68oF6KSP https://t.co/H1gJwcgjZL\n",
      "#Clinicians: Help #fightflu this season by spreading the word about #flu vaccination.\n",
      "\n",
      "Check out @CDCFluâ€™s digitalâ€¦ https://t.co/iTrvCtB0ce\n",
      "#Flu severity indicators (illnesses, flu hospitalization rates, and % of deaths resulting from pneumonia or flu) arâ€¦ https://t.co/VfUgGx7IpD\n",
      "Follow @CDCFlu for #fluseason updates and tips to protect yourself and your family from #flu.â€¦ https://t.co/FgTqsSLkBP\n",
      "Get the latest updates on #influenza and this #fluseason by following @CDCFlu. https://t.co/Q7WPVBUclh\n",
      "Talk to your doctor or nurse about steps you can take to prevent #infections, such as #flu, that can lead toâ€¦ https://t.co/Q6nOgdewnj\n"
     ]
    }
   ],
   "source": [
    "for tweet in tweets.find({\"text\": {\"$regex\": \".*flu.*\"}}):\n",
    "    print(tweet['text'])"
   ]
  },
  {
   "cell_type": "code",
   "execution_count": 13,
   "metadata": {},
   "outputs": [
    {
     "name": "stdout",
     "output_type": "stream",
     "text": [
      "key: _id\n",
      "key: created_at\n",
      "key: id\n",
      "key: id_str\n",
      "key: text\n",
      "key: truncated\n",
      "key: entities\n",
      "key: metadata\n",
      "key: source\n",
      "key: in_reply_to_status_id\n",
      "key: in_reply_to_status_id_str\n",
      "key: in_reply_to_user_id\n",
      "key: in_reply_to_user_id_str\n",
      "key: in_reply_to_screen_name\n",
      "key: user\n",
      "key: geo\n",
      "key: coordinates\n",
      "key: place\n",
      "key: contributors\n",
      "key: is_quote_status\n",
      "key: retweet_count\n",
      "key: favorite_count\n",
      "key: favorited\n",
      "key: retweeted\n",
      "key: possibly_sensitive\n",
      "key: lang\n"
     ]
    }
   ],
   "source": [
    "tweet = tweets.find_one()\n",
    "for key in tweet:\n",
    "   print(\"key: %s\" % key)"
   ]
  },
  {
   "cell_type": "code",
   "execution_count": null,
   "metadata": {},
   "outputs": [],
   "source": []
  }
 ],
 "metadata": {
  "anaconda-cloud": {},
  "kernelspec": {
   "display_name": "Python 3",
   "language": "python",
   "name": "python3"
  },
  "language_info": {
   "codemirror_mode": {
    "name": "ipython",
    "version": 3
   },
   "file_extension": ".py",
   "mimetype": "text/x-python",
   "name": "python",
   "nbconvert_exporter": "python",
   "pygments_lexer": "ipython3",
   "version": "3.7.1"
  }
 },
 "nbformat": 4,
 "nbformat_minor": 1
}
