{
 "cells": [
  {
   "cell_type": "markdown",
   "metadata": {},
   "source": [
    "# Example Code for Lecture 16\n",
    "\n",
    "The following notebook contains examples of using Python for collaborative filtering and recommender systems."
   ]
  },
  {
   "cell_type": "code",
   "execution_count": 1,
   "metadata": {},
   "outputs": [
    {
     "data": {
      "text/html": [
       "<div>\n",
       "<style scoped>\n",
       "    .dataframe tbody tr th:only-of-type {\n",
       "        vertical-align: middle;\n",
       "    }\n",
       "\n",
       "    .dataframe tbody tr th {\n",
       "        vertical-align: top;\n",
       "    }\n",
       "\n",
       "    .dataframe thead th {\n",
       "        text-align: right;\n",
       "    }\n",
       "</style>\n",
       "<table border=\"1\" class=\"dataframe\">\n",
       "  <thead>\n",
       "    <tr style=\"text-align: right;\">\n",
       "      <th></th>\n",
       "      <th>Mission Impossible</th>\n",
       "      <th>Over the Hedge</th>\n",
       "      <th>Back to the Future</th>\n",
       "      <th>Harry Potter</th>\n",
       "    </tr>\n",
       "  </thead>\n",
       "  <tbody>\n",
       "    <tr>\n",
       "      <th>0</th>\n",
       "      <td>5</td>\n",
       "      <td>3</td>\n",
       "      <td>4</td>\n",
       "      <td>NaN</td>\n",
       "    </tr>\n",
       "    <tr>\n",
       "      <th>1</th>\n",
       "      <td>5</td>\n",
       "      <td>4</td>\n",
       "      <td>5</td>\n",
       "      <td>5.0</td>\n",
       "    </tr>\n",
       "    <tr>\n",
       "      <th>2</th>\n",
       "      <td>2</td>\n",
       "      <td>2</td>\n",
       "      <td>4</td>\n",
       "      <td>5.0</td>\n",
       "    </tr>\n",
       "    <tr>\n",
       "      <th>3</th>\n",
       "      <td>3</td>\n",
       "      <td>1</td>\n",
       "      <td>1</td>\n",
       "      <td>2.0</td>\n",
       "    </tr>\n",
       "  </tbody>\n",
       "</table>\n",
       "</div>"
      ],
      "text/plain": [
       "   Mission Impossible  Over the Hedge  Back to the Future  Harry Potter\n",
       "0                   5               3                   4           NaN\n",
       "1                   5               4                   5           5.0\n",
       "2                   2               2                   4           5.0\n",
       "3                   3               1                   1           2.0"
      ]
     },
     "execution_count": 1,
     "metadata": {},
     "output_type": "execute_result"
    }
   ],
   "source": [
    "import pandas as pd\n",
    "\n",
    "data = pd.read_csv('ratings.csv',header='infer')\n",
    "data"
   ]
  },
  {
   "cell_type": "markdown",
   "metadata": {},
   "source": [
    "# User-based similarity"
   ]
  },
  {
   "cell_type": "code",
   "execution_count": 2,
   "metadata": {},
   "outputs": [
    {
     "data": {
      "text/html": [
       "<div>\n",
       "<style scoped>\n",
       "    .dataframe tbody tr th:only-of-type {\n",
       "        vertical-align: middle;\n",
       "    }\n",
       "\n",
       "    .dataframe tbody tr th {\n",
       "        vertical-align: top;\n",
       "    }\n",
       "\n",
       "    .dataframe thead th {\n",
       "        text-align: right;\n",
       "    }\n",
       "</style>\n",
       "<table border=\"1\" class=\"dataframe\">\n",
       "  <thead>\n",
       "    <tr style=\"text-align: right;\">\n",
       "      <th></th>\n",
       "      <th>0</th>\n",
       "      <th>1</th>\n",
       "      <th>2</th>\n",
       "      <th>3</th>\n",
       "    </tr>\n",
       "  </thead>\n",
       "  <tbody>\n",
       "    <tr>\n",
       "      <th>0</th>\n",
       "      <td>1.000000</td>\n",
       "      <td>0.670320</td>\n",
       "      <td>0.135335</td>\n",
       "      <td>0.033373</td>\n",
       "    </tr>\n",
       "    <tr>\n",
       "      <th>1</th>\n",
       "      <td>0.670320</td>\n",
       "      <td>1.000000</td>\n",
       "      <td>0.060810</td>\n",
       "      <td>0.003028</td>\n",
       "    </tr>\n",
       "    <tr>\n",
       "      <th>2</th>\n",
       "      <td>0.135335</td>\n",
       "      <td>0.060810</td>\n",
       "      <td>1.000000</td>\n",
       "      <td>0.110803</td>\n",
       "    </tr>\n",
       "    <tr>\n",
       "      <th>3</th>\n",
       "      <td>0.033373</td>\n",
       "      <td>0.003028</td>\n",
       "      <td>0.110803</td>\n",
       "      <td>1.000000</td>\n",
       "    </tr>\n",
       "  </tbody>\n",
       "</table>\n",
       "</div>"
      ],
      "text/plain": [
       "          0         1         2         3\n",
       "0  1.000000  0.670320  0.135335  0.033373\n",
       "1  0.670320  1.000000  0.060810  0.003028\n",
       "2  0.135335  0.060810  1.000000  0.110803\n",
       "3  0.033373  0.003028  0.110803  1.000000"
      ]
     },
     "execution_count": 2,
     "metadata": {},
     "output_type": "execute_result"
    }
   ],
   "source": [
    "from sklearn.metrics import pairwise\n",
    "import pandas as pd\n",
    "\n",
    "X = data.values\n",
    "user_similarity = pairwise.rbf_kernel(X[:,:3],gamma=0.2)\n",
    "usim = pd.DataFrame(user_similarity)\n",
    "usim"
   ]
  },
  {
   "cell_type": "code",
   "execution_count": 3,
   "metadata": {},
   "outputs": [
    {
     "data": {
      "text/plain": [
       "0    4.00\n",
       "1    4.75\n",
       "2    3.25\n",
       "3    1.75\n",
       "dtype: float64"
      ]
     },
     "execution_count": 3,
     "metadata": {},
     "output_type": "execute_result"
    }
   ],
   "source": [
    "avg_ratings = data.mean(axis=1)      # average ratings for each user\n",
    "avg_ratings"
   ]
  },
  {
   "cell_type": "code",
   "execution_count": 4,
   "metadata": {},
   "outputs": [
    {
     "data": {
      "text/plain": [
       "4.4919499466890604"
      ]
     },
     "execution_count": 4,
     "metadata": {},
     "output_type": "execute_result"
    }
   ],
   "source": [
    "import numpy as np\n",
    "\n",
    "ratings = (data['Harry Potter'][1:] - avg_ratings[1:])*usim[0].loc[1:]\n",
    "predicted = avg_ratings[0] + (ratings.sum()*1.0/usim[0].loc[1:].sum())\n",
    "predicted"
   ]
  },
  {
   "cell_type": "markdown",
   "metadata": {},
   "source": [
    "# Item-based similarity"
   ]
  },
  {
   "cell_type": "code",
   "execution_count": 5,
   "metadata": {},
   "outputs": [
    {
     "data": {
      "text/html": [
       "<div>\n",
       "<style scoped>\n",
       "    .dataframe tbody tr th:only-of-type {\n",
       "        vertical-align: middle;\n",
       "    }\n",
       "\n",
       "    .dataframe tbody tr th {\n",
       "        vertical-align: top;\n",
       "    }\n",
       "\n",
       "    .dataframe thead th {\n",
       "        text-align: right;\n",
       "    }\n",
       "</style>\n",
       "<table border=\"1\" class=\"dataframe\">\n",
       "  <thead>\n",
       "    <tr style=\"text-align: right;\">\n",
       "      <th></th>\n",
       "      <th>0</th>\n",
       "      <th>1</th>\n",
       "      <th>2</th>\n",
       "      <th>3</th>\n",
       "    </tr>\n",
       "  </thead>\n",
       "  <tbody>\n",
       "    <tr>\n",
       "      <th>0</th>\n",
       "      <td>1.000000</td>\n",
       "      <td>0.367879</td>\n",
       "      <td>0.201897</td>\n",
       "      <td>0.135335</td>\n",
       "    </tr>\n",
       "    <tr>\n",
       "      <th>1</th>\n",
       "      <td>0.367879</td>\n",
       "      <td>1.000000</td>\n",
       "      <td>0.367879</td>\n",
       "      <td>0.110803</td>\n",
       "    </tr>\n",
       "    <tr>\n",
       "      <th>2</th>\n",
       "      <td>0.201897</td>\n",
       "      <td>0.367879</td>\n",
       "      <td>1.000000</td>\n",
       "      <td>0.670320</td>\n",
       "    </tr>\n",
       "    <tr>\n",
       "      <th>3</th>\n",
       "      <td>0.135335</td>\n",
       "      <td>0.110803</td>\n",
       "      <td>0.670320</td>\n",
       "      <td>1.000000</td>\n",
       "    </tr>\n",
       "  </tbody>\n",
       "</table>\n",
       "</div>"
      ],
      "text/plain": [
       "          0         1         2         3\n",
       "0  1.000000  0.367879  0.201897  0.135335\n",
       "1  0.367879  1.000000  0.367879  0.110803\n",
       "2  0.201897  0.367879  1.000000  0.670320\n",
       "3  0.135335  0.110803  0.670320  1.000000"
      ]
     },
     "execution_count": 5,
     "metadata": {},
     "output_type": "execute_result"
    }
   ],
   "source": [
    "item_similarity = pairwise.rbf_kernel(X[1:,:].T,gamma=0.2)\n",
    "isim = pd.DataFrame(item_similarity)\n",
    "isim"
   ]
  },
  {
   "cell_type": "code",
   "execution_count": 6,
   "metadata": {},
   "outputs": [
    {
     "data": {
      "text/plain": [
       "4.026768397265431"
      ]
     },
     "execution_count": 6,
     "metadata": {},
     "output_type": "execute_result"
    }
   ],
   "source": [
    "import numpy as np\n",
    "\n",
    "ratings = data.loc[0][:3].values\n",
    "simval = isim[3][:3]\n",
    "prediction = (simval*ratings).sum()/simval.sum()\n",
    "prediction"
   ]
  },
  {
   "cell_type": "markdown",
   "metadata": {
    "collapsed": true
   },
   "source": [
    "# Python Surprise"
   ]
  },
  {
   "cell_type": "code",
   "execution_count": 7,
   "metadata": {},
   "outputs": [
    {
     "name": "stdout",
     "output_type": "stream",
     "text": [
      "John,Mission Impossible,5\n",
      "John,Over the Hedge,3\n",
      "John,Back to the Future,4\n",
      "Mary,Over the Hedge,4\n",
      "Mary,Back to the Future,5\n",
      "Mary,Harry Potter,5\n",
      "Lee,Back to the Future,4\n",
      "Lee,Harry Potter,5\n",
      "Joe,Mission Impossible,3\n",
      "Joe,Over the Hedge,1\n",
      "Joe,Harry Potter,2\n"
     ]
    }
   ],
   "source": [
    "!type user_ratings.data"
   ]
  },
  {
   "cell_type": "code",
   "execution_count": 8,
   "metadata": {},
   "outputs": [
    {
     "data": {
      "text/plain": [
       "[('John', 'Mission Impossible', 5.0, None),\n",
       " ('John', 'Over the Hedge', 3.0, None),\n",
       " ('John', 'Back to the Future', 4.0, None),\n",
       " ('Mary', 'Over the Hedge', 4.0, None),\n",
       " ('Mary', 'Back to the Future', 5.0, None),\n",
       " ('Mary', 'Harry Potter', 5.0, None),\n",
       " ('Lee', 'Back to the Future', 4.0, None),\n",
       " ('Lee', 'Harry Potter', 5.0, None),\n",
       " ('Joe', 'Mission Impossible', 3.0, None),\n",
       " ('Joe', 'Over the Hedge', 1.0, None),\n",
       " ('Joe', 'Harry Potter', 2.0, None)]"
      ]
     },
     "execution_count": 8,
     "metadata": {},
     "output_type": "execute_result"
    }
   ],
   "source": [
    "from surprise import Dataset\n",
    "from surprise import Reader\n",
    "\n",
    "reader = Reader(line_format='user item rating', sep=',')\n",
    "data = Dataset.load_from_file('user_ratings.data', reader=reader)\n",
    "data.raw_ratings"
   ]
  },
  {
   "cell_type": "code",
   "execution_count": 9,
   "metadata": {},
   "outputs": [
    {
     "data": {
      "text/plain": [
       "<surprise.prediction_algorithms.matrix_factorization.NMF at 0x22a2cce0ba8>"
      ]
     },
     "execution_count": 9,
     "metadata": {},
     "output_type": "execute_result"
    }
   ],
   "source": [
    "from surprise import NMF\n",
    "\n",
    "algo = NMF(n_factors=3, n_epochs=100, random_state=1)\n",
    "trainSet = data.build_full_trainset()\n",
    "algo.fit(trainSet)"
   ]
  },
  {
   "cell_type": "code",
   "execution_count": 10,
   "metadata": {},
   "outputs": [
    {
     "name": "stdout",
     "output_type": "stream",
     "text": [
      "(John, Harry Potter): predicted = 3.26 (true = 5.00)\n",
      "(Mary, Mission Impossible): predicted = 4.74 (true = 5.00)\n",
      "(Lee, Mission Impossible): predicted = 3.72 (true = 2.00)\n",
      "(Lee, Over the Hedge): predicted = 2.83 (true = 2.00)\n",
      "(Joe, Back to the Future): predicted = 1.84 (true = 1.00)\n"
     ]
    }
   ],
   "source": [
    "testset = [('John','Harry Potter',5), ('Mary','Mission Impossible',5), \n",
    "           ('Lee','Mission Impossible',2), ('Lee','Over the Hedge',2), \n",
    "           ('Joe','Back to the Future',1)]\n",
    "pred = algo.test(testset)\n",
    "\n",
    "for (uid,iid,r_ui,est,details) in pred:\n",
    "    print('(%s, %s): predicted = %.2f (true = %.2f)'\n",
    "         % (uid, iid, est, r_ui))"
   ]
  },
  {
   "cell_type": "code",
   "execution_count": 11,
   "metadata": {},
   "outputs": [
    {
     "name": "stdout",
     "output_type": "stream",
     "text": [
      "RMSE: 1.2215\n",
      "MAE:  1.0788\n"
     ]
    },
    {
     "data": {
      "text/plain": [
       "(1.2215422730483085, 1.0787847630471314)"
      ]
     },
     "execution_count": 11,
     "metadata": {},
     "output_type": "execute_result"
    }
   ],
   "source": [
    "from surprise import accuracy\n",
    "\n",
    "accuracy.rmse(pred), accuracy.mae(pred)"
   ]
  }
 ],
 "metadata": {
  "anaconda-cloud": {},
  "kernelspec": {
   "display_name": "Python 3",
   "language": "python",
   "name": "python3"
  },
  "language_info": {
   "codemirror_mode": {
    "name": "ipython",
    "version": 3
   },
   "file_extension": ".py",
   "mimetype": "text/x-python",
   "name": "python",
   "nbconvert_exporter": "python",
   "pygments_lexer": "ipython3",
   "version": "3.7.1"
  }
 },
 "nbformat": 4,
 "nbformat_minor": 1
}